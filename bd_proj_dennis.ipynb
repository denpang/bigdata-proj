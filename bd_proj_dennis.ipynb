{
  "nbformat": 4,
  "nbformat_minor": 0,
  "metadata": {
    "colab": {
      "name": "bd_proj_dennis.ipynb",
      "provenance": [],
      "collapsed_sections": []
    },
    "kernelspec": {
      "name": "python3",
      "display_name": "Python 3"
    },
    "language_info": {
      "name": "python"
    }
  },
  "cells": [
    {
      "cell_type": "code",
      "metadata": {
        "id": "P6DpBTIz8x0g"
      },
      "source": [
        "!apt-get install openjdk-8-jdk-headless -qq > /dev/null"
      ],
      "execution_count": 1,
      "outputs": []
    },
    {
      "cell_type": "code",
      "metadata": {
        "colab": {
          "base_uri": "https://localhost:8080/"
        },
        "id": "zQ8wYYvP86C2",
        "outputId": "8baaab4b-43e8-493a-99d6-42f2ae95190d"
      },
      "source": [
        "!wget https://dlcdn.apache.org/spark/spark-3.2.0/spark-3.2.0-bin-hadoop3.2.tgz"
      ],
      "execution_count": 2,
      "outputs": [
        {
          "output_type": "stream",
          "name": "stdout",
          "text": [
            "--2021-11-30 22:43:33--  https://dlcdn.apache.org/spark/spark-3.2.0/spark-3.2.0-bin-hadoop3.2.tgz\n",
            "Resolving dlcdn.apache.org (dlcdn.apache.org)... 151.101.2.132, 2a04:4e42::644\n",
            "Connecting to dlcdn.apache.org (dlcdn.apache.org)|151.101.2.132|:443... connected.\n",
            "HTTP request sent, awaiting response... 200 OK\n",
            "Length: 300965906 (287M) [application/x-gzip]\n",
            "Saving to: ‘spark-3.2.0-bin-hadoop3.2.tgz’\n",
            "\n",
            "spark-3.2.0-bin-had 100%[===================>] 287.02M   163MB/s    in 1.8s    \n",
            "\n",
            "2021-11-30 22:43:35 (163 MB/s) - ‘spark-3.2.0-bin-hadoop3.2.tgz’ saved [300965906/300965906]\n",
            "\n"
          ]
        }
      ]
    },
    {
      "cell_type": "code",
      "metadata": {
        "id": "HVX5rzep9Crz"
      },
      "source": [
        "!tar xvzf spark-3.2.0-bin-hadoop3.2.tgz"
      ],
      "execution_count": null,
      "outputs": []
    },
    {
      "cell_type": "code",
      "metadata": {
        "colab": {
          "base_uri": "https://localhost:8080/"
        },
        "id": "mFhMsVmS9FvS",
        "outputId": "0009dd3d-69af-41b5-fdb6-6870e0c27b90"
      },
      "source": [
        "!ls /content/spark-3.2.0-bin-hadoop3.2"
      ],
      "execution_count": 4,
      "outputs": [
        {
          "output_type": "stream",
          "name": "stdout",
          "text": [
            "bin   data\tjars\t    LICENSE   NOTICE  R\t\t RELEASE  yarn\n",
            "conf  examples\tkubernetes  licenses  python  README.md  sbin\n"
          ]
        }
      ]
    },
    {
      "cell_type": "code",
      "metadata": {
        "id": "bCYOIWcC9JGo"
      },
      "source": [
        "# Set the ‘environment’ path\n",
        "import os\n",
        "#os.environ[\"JAVA_HOME\"] = \"/usr/lib/jvm/java-8-openjdk-amd64\"\n",
        "os.environ[\"SPARK_HOME\"] = \"/content/spark-3.2.0-bin-hadoop3.2\""
      ],
      "execution_count": 5,
      "outputs": []
    },
    {
      "cell_type": "code",
      "metadata": {
        "id": "pK2UHUH29OVL"
      },
      "source": [
        "!pip install -q findspark\n",
        "\n",
        "import findspark\n",
        "findspark.init()"
      ],
      "execution_count": 6,
      "outputs": []
    },
    {
      "cell_type": "code",
      "metadata": {
        "id": "ZjKx0tFx9S3Y"
      },
      "source": [
        "from pyspark.sql import SparkSession\n",
        "from pyspark.sql.functions import *\n",
        "from pyspark.sql.types import *\n",
        "from pyspark.sql.window import Window\n",
        "import pandas as pd\n",
        "import matplotlib.pyplot as plt\n",
        "\n",
        "\n",
        "spark = SparkSession.builder\\\n",
        "    .master(\"local[*]\")\\\n",
        "    .appName(\"final-project\")\\\n",
        "    .getOrCreate()\n",
        "\n",
        "sc = spark.sparkContext\n",
        "sc.setLogLevel(\"ERROR\")"
      ],
      "execution_count": 7,
      "outputs": []
    },
    {
      "cell_type": "code",
      "metadata": {
        "id": "Y9n9X12S9V7b",
        "colab": {
          "base_uri": "https://localhost:8080/",
          "height": 196
        },
        "outputId": "780ea616-e132-489a-b8b0-df9eeff1132d"
      },
      "source": [
        "sc"
      ],
      "execution_count": null,
      "outputs": [
        {
          "output_type": "execute_result",
          "data": {
            "text/html": [
              "\n",
              "        <div>\n",
              "            <p><b>SparkContext</b></p>\n",
              "\n",
              "            <p><a href=\"http://eec7dc23b18a:4040\">Spark UI</a></p>\n",
              "\n",
              "            <dl>\n",
              "              <dt>Version</dt>\n",
              "                <dd><code>v3.2.0</code></dd>\n",
              "              <dt>Master</dt>\n",
              "                <dd><code>local[*]</code></dd>\n",
              "              <dt>AppName</dt>\n",
              "                <dd><code>final-project</code></dd>\n",
              "            </dl>\n",
              "        </div>\n",
              "        "
            ],
            "text/plain": [
              "<SparkContext master=local[*] appName=final-project>"
            ]
          },
          "metadata": {},
          "execution_count": 8
        }
      ]
    },
    {
      "cell_type": "code",
      "metadata": {
        "id": "zd07163I0toe"
      },
      "source": [
        "#The wildfire location database \n",
        "locatData = spark.read.option(\"header\",True) \\\n",
        ".option(\"inferSchema\", True) \\\n",
        ".csv(\"WFIGS_-_Wildland_Fire_Locations_Full_History.csv\")"
      ],
      "execution_count": 9,
      "outputs": []
    },
    {
      "cell_type": "code",
      "metadata": {
        "id": "gk6EwRVq4hgP"
      },
      "source": [
        "#locTime will be used to focus on the frequency of wildfires per state\n",
        "#POOState - Location of wildfire at time of discovery\n",
        "#FireDiscoveryDateTime - Date when the fire was discovered.\n",
        "locTime = locatData.select(substring(locatData[\"POOState\"],4,6).alias(\"State Occurred\"),\n",
        "                           substring(locatData['FireDiscoveryDateTime'],0,4).alias(\"Year\"))"
      ],
      "execution_count": 10,
      "outputs": []
    },
    {
      "cell_type": "code",
      "metadata": {
        "id": "nHaV5lrj98nV"
      },
      "source": [
        "#Unusable rows are filtered out.\n",
        "locTime = locTime.filter((locTime[\"year\"].isNotNull())& (locTime[\"State Occurred\"].isNotNull()))\\"
      ],
      "execution_count": null,
      "outputs": []
    },
    {
      "cell_type": "code",
      "metadata": {
        "colab": {
          "base_uri": "https://localhost:8080/"
        },
        "id": "O2Jfn_USAke6",
        "outputId": "46b094cc-aa0f-4561-b3e5-130c8b0360d9"
      },
      "source": [
        "#A significant difference between the wildfire frequency was found between 2013 and 2014; it is assumed the years before 2014 had incomplete data.\n",
        "locTime.groupBy(\"Year\").count().orderBy(\"year\").show()\n"
      ],
      "execution_count": null,
      "outputs": [
        {
          "output_type": "stream",
          "name": "stdout",
          "text": [
            "+----+-----+\n",
            "|Year|count|\n",
            "+----+-----+\n",
            "|2003|    1|\n",
            "|2004|    1|\n",
            "|2008|    3|\n",
            "|2009|   18|\n",
            "|2010|    7|\n",
            "|2011|   20|\n",
            "|2012|    4|\n",
            "|2013|   16|\n",
            "|2014|12675|\n",
            "|2015|19796|\n",
            "|2016|20252|\n",
            "|2017|25686|\n",
            "|2018|23962|\n",
            "|2019|29239|\n",
            "|2020|35640|\n",
            "|2021|37195|\n",
            "+----+-----+\n",
            "\n"
          ]
        }
      ]
    },
    {
      "cell_type": "code",
      "metadata": {
        "id": "uTOpMEG1M-GJ"
      },
      "source": [
        "locTime = locTime.filter(locTime[\"Year\"] > 2013)"
      ],
      "execution_count": null,
      "outputs": []
    },
    {
      "cell_type": "code",
      "metadata": {
        "colab": {
          "base_uri": "https://localhost:8080/"
        },
        "id": "QzfmsJcQ4j27",
        "outputId": "4683ea90-0ed3-4dac-f673-2541ee705e69"
      },
      "source": [
        "#The table below shows the frequency of Fires for each state; the visualization is still being worked on.\n",
        "stateOccur = locTime.filter(locTime[\"year\"].isNotNull())\\\n",
        ".groupBy(\"year\").pivot(\"State Occurred\").count().orderBy(\"year\")\n",
        "stateOccur = stateOccur.na.fill(value=0)\n",
        "stateOccur.show()"
      ],
      "execution_count": null,
      "outputs": [
        {
          "output_type": "stream",
          "name": "stdout",
          "text": [
            "+----+---+---+---+----+---+---+---+-----+---+----+---+---+---+----+---+---+---+---+----+---+---+---+---+---+---+---+----+---+----+---+---+----+---+----+---+---+---+----+---+---+---+---+----+---+---+---+---+---+---+---+---+---+----+----+---+---+----+---+---+----+---+\n",
            "|year| AK| AL| AR|  AZ| BC|BCN| BN|   CA| CH|  CO| CT| DC| DE|  FL| GA| GU| HI| IA|  ID| IL| IN| KS| KY| LA| MA| MD|  ME| MI|  MN| MO| MS|  MT| NC|  ND| NE| NH| NJ|  NM| NV| NY| OH| OK|  OR| PA| PR| SC| SD| SK| SO|SON|TAM| TN|  TX|  UT| VA| VT|  WA| WI| WV|  WY| YT|\n",
            "+----+---+---+---+----+---+---+---+-----+---+----+---+---+---+----+---+---+---+---+----+---+---+---+---+---+---+---+----+---+----+---+---+----+---+----+---+---+---+----+---+---+---+---+----+---+---+---+---+---+---+---+---+---+----+----+---+---+----+---+---+----+---+\n",
            "|2014|377| 32| 15| 948|  0|  0|  0| 2106|  0| 619|  0|  0|  0| 183| 25|  0|  2|  4| 993|  3|  0|  4| 21| 44|  0|  3|   1| 66| 115|  7| 65| 840| 49| 235| 12|  2|  2| 517|529| 10| 12|109|2164| 16| 28| 21|367|  0|  0|  2|  0|  6|  39| 909| 14|  0| 827| 11|  1| 320|  0|\n",
            "|2015|781| 44|136|1647|  0|  2|  0| 2626|  0| 776|  0|  2|  0| 358| 46|  0|  5| 24|1329| 18| 11| 61| 54| 34|  4|  9|   6|182| 632| 83|240|1755| 91| 669| 49|  4|  6| 633|548| 36| 39|520|1924| 31| 45| 34|644|  0|  0|  0|  0| 24| 759| 927| 61|  2|1258| 58| 39| 530|  0|\n",
            "|2016|606|133|170|2175|  0|  1|  0| 1741|  0|1112|  3|  3|  0| 399|113|  0|  8| 15| 733| 14| 20| 90|196| 45|  5| 15| 603|164| 639|166|255|1313|200| 564| 52| 16| 12|1118|442| 46| 31|822|1110| 33| 29| 56|893|  0|  0|  6|  2|188| 833|1174|118|  8| 957| 21| 68| 716|  0|\n",
            "|2017|373| 53|188|2289|  1|  5|  0| 4718|  0| 912|  1| 10|  1| 377| 38|  0|  8| 20|1649| 32| 31| 72| 96| 47|  1| 15| 514|134| 495|188|228|2031| 93| 831| 53|  5|  6| 879|770| 20| 73|880|1932| 37| 30|116|971|  2|  0|  1|  0| 50| 959|1288| 61| 12|1127| 26| 28| 908|  1|\n",
            "|2018|380| 82|117|2099|  2|  2|  1| 4124|  0|1380|  0|  1|  1| 277| 38|  0|  5| 21|1227| 37| 22| 71| 40|121|  1|  4|   9|217| 678|116|138|1352| 78| 910| 43| 15|  6|1324|634| 13| 81|821|1612| 31| 35| 92|387|  0|  0|  0|  1| 20|1088|1383| 59| 14|1475| 45| 20|1212|  0|\n",
            "|2019|726|220|254|2190|  0|  0|  3| 6536|  0|1066|  0|  2|  0|2086| 56|  0|  3|149|1152| 87| 39| 45|215| 98|  3| 16|   6|235|1184|117|208|1898| 95| 891| 58| 12|  8|1005|588| 14| 78|694|1907| 24| 32|142|286|  0|  1|  0|  0|102| 711|1147| 78| 26|1627| 69| 32|1018|  0|\n",
            "|2020|355|162|197|2546|  0|  0|  0|10823|  0|1201|  0|  2|  0| 457| 47|  2|  3| 14|1000| 78| 45| 63| 61|121|  5|  6|1157|237| 590|156|316|2411| 85|1464| 75| 43| 15|1176|778| 26| 78|793|1764| 34| 13|162|930|  0|  0|  0|  0| 60| 940|1598| 85|  6|1698| 45| 22|1695|  0|\n",
            "|2021|403|196|235|1665|  0|  0|  0|11751|  1|1094|  0|  5|  0| 354| 57|  0|  7| 13|1380|158| 59| 88|114| 95| 15| 13| 649|231|2226|187|315|2928| 86|1977|109| 10| 15| 973|599| 15| 58|869|1739| 62|  5|113|955|  0|  0|  0|  0| 86| 748|1185| 41|  5|1941|101| 53|1211|  0|\n",
            "+----+---+---+---+----+---+---+---+-----+---+----+---+---+---+----+---+---+---+---+----+---+---+---+---+---+---+---+----+---+----+---+---+----+---+----+---+---+---+----+---+---+---+---+----+---+---+---+---+---+---+---+---+---+----+----+---+---+----+---+---+----+---+\n",
            "\n"
          ]
        }
      ]
    },
    {
      "cell_type": "code",
      "metadata": {
        "id": "kDBw2mZe8lAb"
      },
      "source": [
        "#The Data in this csv primarily tracks the area of each recorded fire.\n",
        "perimData = spark.read.option(\"header\",True) \\\n",
        ".option(\"inferSchema\", True) \\\n",
        ".csv(\"WFIGS_-_Wildland_Fire_Perimeters_Full_History.csv\")"
      ],
      "execution_count": 11,
      "outputs": []
    },
    {
      "cell_type": "code",
      "metadata": {
        "id": "mGr0sUZw7EgR"
      },
      "source": [
        "#perimTime will be used to focus on the area damaged by wildfires, per state and overall\n",
        "#The dataset only shows signficant data from 2019 onwards, so analysis will be month by month.\n",
        "perimTime = perimData.select(substring(perimData[\"irwin_POOState\"],4,6).alias(\"State Occurred\"),\n",
        "                             perimData[\"poly_Acres_AutoCalc\"].alias(\"area(acres)\"),\n",
        "                             substring(perimData['irwin_ContainmentDateTime'],0,4).alias(\"year\"),\n",
        "                             substring(perimData['irwin_ContainmentDateTime'],6,2).alias(\"month\"),\n",
        "                             substring(perimData['irwin_ContainmentDateTime'],0,7).alias(\"year/month\"))\n",
        "perimTime = perimTime.filter(perimTime[\"year\"].isNotNull())\n"
      ],
      "execution_count": 55,
      "outputs": []
    },
    {
      "cell_type": "code",
      "metadata": {
        "id": "s09xB5GxDFG-"
      },
      "source": [
        "#Used for analysis of total area burned by wildfires across the  US\n",
        "overallAffected = perimTime.groupBy(\"year/month\").agg(sum('area(acres)').alias(\"area (acres)\")).orderBy(\"year/month\")"
      ],
      "execution_count": 56,
      "outputs": []
    },
    {
      "cell_type": "code",
      "metadata": {
        "colab": {
          "base_uri": "https://localhost:8080/"
        },
        "id": "fmEhag-woUOx",
        "outputId": "08e7d7dd-0779-47a1-95be-ea260333383b"
      },
      "source": [
        "\n",
        "overallAffected.show()"
      ],
      "execution_count": 57,
      "outputs": [
        {
          "output_type": "stream",
          "name": "stdout",
          "text": [
            "+----------+------------------+\n",
            "|year/month|      area (acres)|\n",
            "+----------+------------------+\n",
            "|   2018/06|  1.70988672404488|\n",
            "|   2018/08|0.0232932508259032|\n",
            "|   2019/10|  42.2824011427289|\n",
            "|   2019/11|  11.1249207256351|\n",
            "|   2019/12| 0.384916101758091|\n",
            "|   2020/01|1333.3562204796733|\n",
            "|   2020/02| 5574.576917562359|\n",
            "|   2020/03|23299.046849063558|\n",
            "|   2020/04| 18463.69067194689|\n",
            "|   2020/05| 82474.71160321498|\n",
            "|   2020/06| 198061.4936478917|\n",
            "|   2020/07|  833440.703834384|\n",
            "|   2020/08| 530746.8560419319|\n",
            "|   2020/09|1476742.5169804976|\n",
            "|   2020/10| 853609.8450898579|\n",
            "|   2020/11|1484642.5787928682|\n",
            "|   2020/12|1618261.3825070355|\n",
            "|   2021/01| 199445.1516883008|\n",
            "|   2021/02| 9296.490508084951|\n",
            "|   2021/03| 109923.9058066683|\n",
            "+----------+------------------+\n",
            "only showing top 20 rows\n",
            "\n"
          ]
        }
      ]
    },
    {
      "cell_type": "code",
      "metadata": {
        "colab": {
          "base_uri": "https://localhost:8080/",
          "height": 312
        },
        "id": "xKocEdXlDgNi",
        "outputId": "26d7641d-c8f2-4911-82ae-fc86f5ba4392"
      },
      "source": [
        "#Will work on the x-axis\n",
        "plt1 = overallAffected.toPandas()\n",
        "plt1.plot(\n",
        "    x=\"year/month\",\n",
        "    y = \"area (acres)\",\n",
        "    title = \"Average Monthly Wildfire Damage\")\n"
      ],
      "execution_count": 59,
      "outputs": [
        {
          "output_type": "execute_result",
          "data": {
            "text/plain": [
              "<matplotlib.axes._subplots.AxesSubplot at 0x7f23ddb9d110>"
            ]
          },
          "metadata": {},
          "execution_count": 59
        },
        {
          "output_type": "display_data",
          "data": {
            "image/png": "[encoded data removed]",
            "text/plain": [
              "<Figure size 432x288 with 1 Axes>"
            ]
          },
          "metadata": {
            "needs_background": "light"
          }
        }
      ]
    },
    {
      "cell_type": "code",
      "metadata": {
        "id": "5_W3aVLnezP0"
      },
      "source": [
        "#Used for analysis of area affected by state.\n",
        "#Visualization needs to be worked on.\n",
        "stateAffected = perimTime.groupBy(\"year/month\").pivot(\"State Occurred\").mean().orderBy(\"year/month\")\n",
        "stateAffected = stateAffected.na.fill(value=0)"
      ],
      "execution_count": 26,
      "outputs": []
    },
    {
      "cell_type": "code",
      "metadata": {
        "colab": {
          "base_uri": "https://localhost:8080/"
        },
        "id": "55QqfPMOe8j9",
        "outputId": "6ecc7483-8dc7-4b74-a118-a63920ba990b"
      },
      "source": [
        "stateAffected.show()"
      ],
      "execution_count": 28,
      "outputs": [
        {
          "output_type": "stream",
          "name": "stdout",
          "text": [
            "+----------+-------------------+-------------------+------------------+------------------+--------------------+----------------+------------------+-------------------+------------------+----------------+------------------+------------------+------------------+-----------------+-----------------+------------------+------------------+-------------------+-------------------+-------------------+------------------+--------------------+------------------+------------------+------------------+------------------+------------------+-------------------+---+------------------+------------------+-------------------+--------------------+------------------+-------------------+------------------+------------------+------------------+------------------+------------------+------------------+-----------------+----------------+------------------+-----------------+---+------------------+\n",
            "|year/month|                 AK|                 AL|                AR|                AZ|                  CA|              CH|                CO|                 FL|                GA|              HI|                IA|                ID|                IL|               IN|               KS|                KY|                LA|                 MA|                 ME|                 MI|                MN|                  MO|                MS|                MT|                NC|                ND|                NE|                 NH| NJ|                NM|                NV|                 NY|                  OH|                OK|                 OR|                PA|                SC|                SD|                TN|                TX|                UT|               VA|              VT|                WA|               WI| WV|                WY|\n",
            "+----------+-------------------+-------------------+------------------+------------------+--------------------+----------------+------------------+-------------------+------------------+----------------+------------------+------------------+------------------+-----------------+-----------------+------------------+------------------+-------------------+-------------------+-------------------+------------------+--------------------+------------------+------------------+------------------+------------------+------------------+-------------------+---+------------------+------------------+-------------------+--------------------+------------------+-------------------+------------------+------------------+------------------+------------------+------------------+------------------+-----------------+----------------+------------------+-----------------+---+------------------+\n",
            "|   2018/06|                0.0|                0.0|               0.0|               0.0|    1.70988672404488|             0.0|               0.0|                0.0|               0.0|             0.0|               0.0|               0.0|               0.0|              0.0|              0.0|               0.0|               0.0|                0.0|                0.0|                0.0|               0.0|                 0.0|               0.0|               0.0|               0.0|               0.0|               0.0|                0.0|0.0|               0.0|               0.0|                0.0|                 0.0|               0.0|                0.0|               0.0|               0.0|               0.0|               0.0|               0.0|               0.0|              0.0|             0.0|               0.0|              0.0|0.0|               0.0|\n",
            "|   2018/08|                0.0|                0.0|               0.0|               0.0|                 0.0|             0.0|               0.0|                0.0|               0.0|             0.0|               0.0|               0.0|               0.0|              0.0|              0.0|               0.0|               0.0|                0.0|                0.0|                0.0|               0.0|                 0.0|               0.0|               0.0|               0.0|               0.0|               0.0|                0.0|0.0|               0.0|               0.0|                0.0|                 0.0|               0.0|                0.0|               0.0|0.0232932508259032|               0.0|               0.0|               0.0|               0.0|              0.0|             0.0|               0.0|              0.0|0.0|               0.0|\n",
            "|   2019/10|                0.0|                0.0|               0.0|               0.0|    42.2824011427289|             0.0|               0.0|                0.0|               0.0|             0.0|               0.0|               0.0|               0.0|              0.0|              0.0|               0.0|               0.0|                0.0|                0.0|                0.0|               0.0|                 0.0|               0.0|               0.0|               0.0|               0.0|               0.0|                0.0|0.0|               0.0|               0.0|                0.0|                 0.0|               0.0|                0.0|               0.0|               0.0|               0.0|               0.0|               0.0|               0.0|              0.0|             0.0|               0.0|              0.0|0.0|               0.0|\n",
            "|   2019/11|                0.0|                0.0|               0.0|               0.0|                 0.0|             0.0|               0.0|                0.0|               0.0|             0.0|               0.0|               0.0|               0.0|              0.0|              0.0|               0.0|               0.0|                0.0|                0.0|                0.0|               0.0|                 0.0|               0.0|               0.0|               0.0|               0.0|               0.0|                0.0|0.0|               0.0|               0.0|                0.0|                 0.0|  11.1249207256351|                0.0|               0.0|               0.0|               0.0|               0.0|               0.0|               0.0|              0.0|             0.0|               0.0|              0.0|0.0|               0.0|\n",
            "|   2019/12|                0.0|                0.0|               0.0|               0.0|                 0.0|             0.0|               0.0|                0.0|               0.0|             0.0|               0.0|               0.0|               0.0|              0.0|              0.0|               0.0|               0.0|                0.0|                0.0|                0.0|               0.0|                 0.0|               0.0|               0.0|               0.0|               0.0|               0.0|                0.0|0.0|               0.0|               0.0|                0.0|                 0.0|               0.0|                0.0|               0.0|               0.0|               0.0|               0.0|0.1924580508790455|               0.0|              0.0|             0.0|               0.0|              0.0|0.0|               0.0|\n",
            "|   2020/01|                0.0|                0.0|               0.0|   1.7053374114982|                 0.0|             0.0|               0.0|  9.730452561894833| 48.49914290389638|19.9778596080043|               0.0|               0.0|               0.0|              0.0|              0.0|               0.0|               0.0|                0.0|                0.0|                0.0|               0.0|    33.9378604629776|24.329172372775858|               0.0|               0.0|               0.0|               0.0|                0.0|0.0|               0.0|               0.0|                0.0|    3.22165163309389| 78.39397537553155|                0.0|               0.0|               0.0|               0.0|  61.7803309692438|               0.0|               0.0|              0.0|             0.0|               0.0|              0.0|0.0|               0.0|\n",
            "|   2020/02|                0.0|                0.0|               0.0|31.274919273945798|   67.26718837282603|             0.0|               0.0| 2.3322189532932627|               0.0|             0.0|               0.0|13.088891539293796|               0.0|              0.0|              0.0|               0.0|  90.1775278571676|                0.0|                0.0|                0.0|               0.0|   36.20717076183339| 69.15066739690886|  3593.72082596753|12.784286103823156|               0.0|               0.0|                0.0|0.0| 40.67232932313135|31.896520752367945|       35.522386284|                 0.0|16.447120763496308|  48.11803368307494|               0.0|               0.0|  4.58758598870228|               0.0|               0.0|               0.0|1.888114356319283|             0.0|               0.0|              0.0|0.0|  39.0369507566219|\n",
            "|   2020/03|                0.0| 24.368695713108448|21.612055914429632| 0.271661646547772|  60.092082376772204|             0.0|  435.276526533253| 5.6313916711386485|  67.0226900684605|             0.0|0.0753997338892814|19.697874986488856|               0.0|79.34371997368395|              0.0|52.144293602595305|202.15709312700133|                0.0|                0.0|0.13863697866764493|               0.0|  25.054994680672717|312.09728523998297| 65.82776546584228| 1269.596456038472|  24.8232406556132|               0.0|                0.0|0.0|  14.7771033498957|1.0932055071752786| 0.0345023110718595|  2.4616802350542897|155.72741331670971| 413.75571041092877|               0.0|  3.61613597125235| 11.74837045905272|               0.0|0.7634920375729881| 32.45309403712345|28.18718764792756|             0.0|               0.0|              0.0|0.0|               0.0|\n",
            "|   2020/04|0.34273943258022727|  95.13820175296235|16.146640616406284|161.31337951296825|0.045772195726658894|             0.0| 63.33021915744397|  945.1130807571426|  2.81553895643026|             0.0|  228.842811649598|  12.1300514060855| 0.402790389132622|              0.0|              0.0| 67.65987552386615|               0.0|                0.0|6.31122687935689E-4|  4.285822383026753|28.568959295217084|   15.89779347755663| 93.80044190058378|14.553930156645235|180.48241682576239| 23.01176135902309|               0.0|                0.0|0.0|31.639016218760403| 9.708047033796896|                0.0|    8.88898997163709| 365.8950002139237| 207.35947269965862|               0.0|               0.0| 8.025551127375357|  19.0909178463506|  30.0448213900537| 5.544090227363254|5.840905018142544|             0.0| 87.13746671510008| 233.936431160282|0.0| 2.839559071890252|\n",
            "|   2020/05| 11.057798675689844|  32.13408266155412|1.0880959733812545| 834.7541818120483|   8.542257826491904|             0.0| 41.28670065479918| 1507.9139626070923|               0.0|             0.0|               0.0|198.22041323110952|               0.0|              0.0|              0.0|               0.0|  6.60215180914399|                0.0|  7.208361134816372|  1.368419060119519| 85.83884776853594|                 0.0|16.132683355982532|12.790240082397657| 0.818753337006002|18.417926833998827|               0.0|0.26648000819294304|0.0|13.276896061969666|17.851105116153697|0.00444000374699221|                 0.0|               0.0|  8.987232787160563|  4.31623770987664|               0.0|0.6962167558753163|               0.0|  1.85220165971578|121.90529854939444|0.431552128562175|             0.0| 22.31606004766399|              0.0|0.0| 4.131834034325051|\n",
            "|   2020/06|  615.4249427282593|   28.3840043134023|               0.0| 841.6392676923925|   79.29386460163303|             0.0| 150.1240075098582|  5242.523984214378|               0.0|             0.0|               0.0|105.33476257810393|               0.0|              0.0|              0.0|               0.0|  22.9768534383411|                0.0| 1.0579287607109003| 0.7119200703340105|1.6705380263498484|                 0.0|               0.0|144.05740718402922|               0.0|  279.742101941017|               0.0| 0.0101404996638542|0.0| 224.0320429381143| 195.8988742759816|                0.0|  0.0116409584999206|30.264796634008263|  47.48361513119561|               0.0|               0.0|184.26418507999153|               0.0| 106.9722160083064| 602.6397411120631|              0.0|1.71349934800994| 113.2361988174002|              0.0|0.0| 461.5621031381369|\n",
            "|   2020/07|  2402.259466648002|                0.0|               0.0|3694.1352808632882|   929.1586407976915|             0.0|183.24552360756715|  68.44204014636713| 0.205765417719874|             0.0|               0.0| 317.1725093627145|               0.0|              0.0| 133.981709868134|               0.0| 7.597391691213396|                0.0|  0.200761460608207|  6.627680295869453| 0.904768780652145|   5.620001852720025|  6.00592026185849|285.91774378110813|               0.0| 8.240514912035025|               0.0|                0.0|0.0| 3551.773230900759| 1680.361721184229|                0.0|0.035249731426653705|1.0054609613989418| 29.713113817340552|               0.0|               0.0|10.446577171017045|               0.0|2001.0911070746092|1905.4175831407433| 10.4201312808949|             0.0| 740.9523763382305|              0.0|0.0|261.98573128373454|\n",
            "|   2020/08| 1201.3351817606188|5.52616547702738E-5|               0.0|1413.3549830494399|  2422.6817707067603|             0.0|29.903123369296242|  85.81657208222366|               0.0|1.58788016791547|               0.0|326.40135224526335|               0.0|              0.0|              0.0|               0.0| 39.23018795784167|                0.0|  5.252840215951752|                0.0| 0.438268092412292|                 0.0|  4.87033835361422|219.49651864963153|   56.971148602732| 6.279607969185435|382.49955005102504|                0.0|0.0|1247.0896360193976| 609.0808553521179|                0.0|                 0.0|29.068454370767263| 220.65969807525795|               0.0|               0.0| 164.6268895040787|               0.0|159.71224203140065| 368.6445452534898|              0.0|             0.0|1415.4504423344727|              0.0|0.0| 547.1539609894713|\n",
            "|   2020/09|  3891.378509544646|  76.38142288864593|               0.0| 4176.706097051824|   12462.24912082497|             0.0|13898.923782306752|    13.933933992361|               0.0|             0.0|               0.0|105.86980048017033|               0.0|              0.0|              0.0|               0.0|  2.60328039523016|0.11796545052750163| 1.8292670386876664|                0.0|  4.69433942154412|                 0.0|  5.40161458935305| 3433.040738322405|               0.0|30.821492225350948|  52.3631958859442| 1.5688896473297054|0.0| 0.411879519479511|21.963535859843617|                0.0|                 0.0|  2.88370349940609| 3061.3196724258123|               0.0|               0.0|32.538386732645904|               0.0|               0.0|149.27565621005735|              0.0|             0.0|23552.378049660896|              0.0|0.0|  558.313915014678|\n",
            "|   2020/10|   252.155246902491|                0.0|               0.0| 1275.359077620113|   5450.590299220579|             0.0|104.14236488111851|0.07407687505639696|               0.0|             0.0|               0.0|  7015.09616385675| 89.75186174456654|              0.0|              0.0|               0.0|  28.1740519558849|                0.0|                0.0|                0.0|               0.0|  60.617790208921605|24.084671006168445|1488.3201339033508|               0.0|10.081852789453322|               0.0|                0.0|0.0|1131.7876342292782|133.79163165473912|                0.0|                 0.0| 24.01010333757563| 46695.494547014605|               0.0|               0.0|34.261436826359706|               0.0| 4.002437860842887| 416.3047953626784|              0.0|             0.0|3451.1438847594422|              0.0|0.0|105.65740949770529|\n",
            "|   2020/11|                0.0|   48.5124527231389| 93.95312708085885|1196.8550191322702|    40342.2816770388|             0.0| 34185.81293007975| 1.9179037422954999|  16.9406944682437|             0.0|               0.0|1315.0429304370998| 5.709034309251679|              0.0|              0.0|16.368303428423005| 28.53740853071051|                0.0|                0.0| 0.0328878846526001| 85.10564737869666|  20.036933161668312|24.418222516672696| 3850.858561407661|               0.0|               0.0|               0.0|                0.0|0.0|  738.326399396092| 84.40624747040972|                0.0|  21.418235104101367| 574.9105272914522|  71421.50688154643|               0.0|               0.0|  85.3326246680068|               0.0|15.024979460571162| 12318.27666876216| 118.725753676943|             0.0| 12780.78458943468|              0.0|0.0|1036.7707988229563|\n",
            "|   2020/12|                0.0|                0.0|43.862839653285604|2791.4342280952687|   84797.28904537721|             0.0|  80448.0260709205| 0.4313318719561689|               0.0|             0.0|  29.9566767751828|               0.0|               0.0|              0.0|              0.0|               0.0|  15.4011487119731|                0.0|                0.0|                0.0|20.710917183794592|   629.8654274043271| 0.121507452470584|               0.0|               0.0|  282.302343493649|               0.0|                0.0|0.0|  10141.7644498413| 8.905674818569869|                0.0|                 0.0|57.400354936166366|   138150.936201267|               0.0|               0.0|               0.0|               0.0| 0.418553141727856| 9.564935601096655|              0.0|             0.0|               0.0|              0.0|0.0|   176877.11108078|\n",
            "|   2021/01|                0.0|  87.31767144272563|11.295792490269351|185.89797035208568|  21572.452960749393|             0.0| 552.1327475454663|  28.07182655229196|3.6979940399332007|             0.0|               0.0|               0.0|  3.90618013200515| 8.74942273063814|              0.0|  0.95868093769344|               0.0|                0.0|   5.84250696351952|                0.0|               0.0|0.037993758569980496| 9.066350303779558| 573.2515263910059|               0.0| 8081.021654625498|               0.0|                0.0|0.0|               0.0|               0.0|                0.0|                 0.0|               0.0|                0.0|               0.0|               0.0| 6.920735341359264|               0.0| 627.6205909152006|               0.0|              0.0|             0.0|               0.0|              0.0|0.0|  18.6683414521553|\n",
            "|   2021/02|                0.0|   50.5801799114571|  23.6867099437821|57.460384733638236|       21.9627494679|             0.0|192.01645175199118|     39.23817371461| 6.582302787279564|             0.0|               0.0|  19.1798217411111|               0.0|              0.0|778.0874725954883|               0.0|  49.2585463643966|                0.0|                0.0|                0.0|               0.0|  32.048195298412956|20.276233724816723|0.9111616948251096| 0.098737879414407|11.777304469642418|               0.0|                0.0|0.0|  9.29246798057345|12.879173596262815|                0.0|                 0.0|  15.5837027851176|0.00368588504069391|               0.0|               0.0|12.418310759039795|               0.0|1672.8342788848022|  7.22524630915703|              0.0|             0.0|  21.4258122575911|              0.0|0.0|               0.0|\n",
            "|   2021/03|                0.0|  79.39189974943284| 5.819038556418761| 75.70789230505163|   40.02468903771201|8.51815441321969| 283.5749145194935|  45.02665268628645| 20.96084464149245|             0.0|               0.0| 1.042319791531715|14.812201842332614|              0.0| 12.4766438948694|16.596102042953834| 315.5252115549774|                0.0| 2.6822517065189744| 109.99361396938306| 50.71776590878416|   90.58986925970368| 213.1719032257292|1126.2260508557868|  1.29761099136765| 129.5986049587594|               0.0|                0.0|0.0|120.14672849508065|1120.6909093535733|                0.0|  13.987929536871718| 511.0782552306761|  107.5381919501406|2.5134341161899894|  1.13231376423775| 301.0494571613094|10.671920948388845| 1759.570548759819|459.05224524247745|              0.0|             0.0|   50.186406863219|0.355330258766366|0.0|               0.0|\n",
            "+----------+-------------------+-------------------+------------------+------------------+--------------------+----------------+------------------+-------------------+------------------+----------------+------------------+------------------+------------------+-----------------+-----------------+------------------+------------------+-------------------+-------------------+-------------------+------------------+--------------------+------------------+------------------+------------------+------------------+------------------+-------------------+---+------------------+------------------+-------------------+--------------------+------------------+-------------------+------------------+------------------+------------------+------------------+------------------+------------------+-----------------+----------------+------------------+-----------------+---+------------------+\n",
            "only showing top 20 rows\n",
            "\n"
          ]
        }
      ]
    },
    {
      "cell_type": "code",
      "metadata": {
        "id": "cV_AUnwcPsJU"
      },
      "source": [
        "#Considering wildfire cost as another possible property to analyze\n",
        "costTime = perimData.select(substring(perimData[\"irwin_POOState\"],4,6).alias(\"State Occurred\"),perimData[\"irwin_EstimatedCostToDate\"].alias(\"cost\"),substring(perimData['irwin_ContainmentDateTime'],0,7).alias(\"year/month\"))\n",
        "costTime = costTime.filter(costTime[\"year/month\"].isNotNull())"
      ],
      "execution_count": null,
      "outputs": []
    },
    {
      "cell_type": "code",
      "metadata": {
        "id": "iMjDSIaucxJI"
      },
      "source": [
        "costByYear = costTime.groupBy(\"year/month\").pivot(\"State Occurred\").sum().orderBy(\"year/month\")"
      ],
      "execution_count": null,
      "outputs": []
    },
    {
      "cell_type": "code",
      "metadata": {
        "colab": {
          "base_uri": "https://localhost:8080/"
        },
        "id": "gBBX4BPVc0bb",
        "outputId": "72c192b9-b15f-43ef-bf9e-984a842204fb"
      },
      "source": [
        "#visualization needs to be worked on.\n",
        "costByYear = costByYear.na.fill(value=0)\n",
        "costByYear.show()"
      ],
      "execution_count": null,
      "outputs": [
        {
          "output_type": "stream",
          "name": "stdout",
          "text": [
            "+-------+---------+-------+-------+--------------------+------------+---+-----------+---------+---+---+---+-----------+---+---+--------+-------+-------+---+---+-------+--------+-------+-------+-----------+-------+-------+-------+---+---+---------+-----------+---+------+--------+--------------+---+---+--------+--------+------+-----------+-------+---+-------------+---+---+---------+\n",
            "|   year|       AK|     AL|     AR|                  AZ|          CA| CH|         CO|       FL| GA| HI| IA|         ID| IL| IN|      KS|     KY|     LA| MA| ME|     MI|      MN|     MO|     MS|         MT|     NC|     ND|     NE| NH| NJ|       NM|         NV| NY|    OH|      OK|            OR| PA| SC|      SD|      TN|    TX|         UT|     VA| VT|           WA| WI| WV|       WY|\n",
            "+-------+---------+-------+-------+--------------------+------------+---+-----------+---------+---+---+---+-----------+---+---+--------+-------+-------+---+---+-------+--------+-------+-------+-----------+-------+-------+-------+---+---+---------+-----------+---+------+--------+--------------+---+---+--------+--------+------+-----------+-------+---+-------------+---+---+---------+\n",
            "|2018/06|      0.0|    0.0|    0.0|                 0.0|         0.0|0.0|        0.0|      0.0|0.0|0.0|0.0|        0.0|0.0|0.0|     0.0|    0.0|    0.0|0.0|0.0|    0.0|     0.0|    0.0|    0.0|        0.0|    0.0|    0.0|    0.0|0.0|0.0|      0.0|        0.0|0.0|   0.0|     0.0|           0.0|0.0|0.0|     0.0|     0.0|   0.0|        0.0|    0.0|0.0|          0.0|0.0|0.0|      0.0|\n",
            "|2018/08|      0.0|    0.0|    0.0|                 0.0|         0.0|0.0|        0.0|      0.0|0.0|0.0|0.0|        0.0|0.0|0.0|     0.0|    0.0|    0.0|0.0|0.0|    0.0|     0.0|    0.0|    0.0|        0.0|    0.0|    0.0|    0.0|0.0|0.0|      0.0|        0.0|0.0|   0.0|     0.0|           0.0|0.0|0.0|     0.0|     0.0|   0.0|        0.0|    0.0|0.0|          0.0|0.0|0.0|      0.0|\n",
            "|2019/10|      0.0|    0.0|    0.0|                 0.0|         0.0|0.0|        0.0|      0.0|0.0|0.0|0.0|        0.0|0.0|0.0|     0.0|    0.0|    0.0|0.0|0.0|    0.0|     0.0|    0.0|    0.0|        0.0|    0.0|    0.0|    0.0|0.0|0.0|      0.0|        0.0|0.0|   0.0|     0.0|           0.0|0.0|0.0|     0.0|     0.0|   0.0|        0.0|    0.0|0.0|          0.0|0.0|0.0|      0.0|\n",
            "|2019/11|      0.0|    0.0|    0.0|                 0.0|         0.0|0.0|        0.0|      0.0|0.0|0.0|0.0|        0.0|0.0|0.0|     0.0|    0.0|    0.0|0.0|0.0|    0.0|     0.0|    0.0|    0.0|        0.0|    0.0|    0.0|    0.0|0.0|0.0|      0.0|        0.0|0.0|   0.0|     0.0|           0.0|0.0|0.0|     0.0|     0.0|   0.0|        0.0|    0.0|0.0|          0.0|0.0|0.0|      0.0|\n",
            "|2019/12|      0.0|    0.0|    0.0|                 0.0|         0.0|0.0|        0.0|      0.0|0.0|0.0|0.0|        0.0|0.0|0.0|     0.0|    0.0|    0.0|0.0|0.0|    0.0|     0.0|    0.0|    0.0|        0.0|    0.0|    0.0|    0.0|0.0|0.0|      0.0|        0.0|0.0|   0.0|     0.0|           0.0|0.0|0.0|     0.0|     0.0|   0.0|        0.0|    0.0|0.0|          0.0|0.0|0.0|      0.0|\n",
            "|2020/01|      0.0|    0.0|    0.0|                 0.0|         0.0|0.0|        0.0|      0.0|0.0|0.0|0.0|        0.0|0.0|0.0|     0.0|    0.0|    0.0|0.0|0.0|    0.0|     0.0|    0.0|    0.0|        0.0|    0.0|    0.0|    0.0|0.0|0.0|      0.0|        0.0|0.0|   0.0|     0.0|           0.0|0.0|0.0|     0.0|     0.0|   0.0|        0.0|    0.0|0.0|          0.0|0.0|0.0|      0.0|\n",
            "|2020/02|      0.0|    0.0|    0.0|                 0.0|         0.0|0.0|        0.0|      0.0|0.0|0.0|0.0|        0.0|0.0|0.0|     0.0|    0.0|    0.0|0.0|0.0|    0.0|     0.0| 5000.0|12800.0|    25000.0|    0.0|    0.0|    0.0|0.0|0.0|      0.0|        0.0|0.0|   0.0|     0.0|           0.0|0.0|0.0|     0.0|     0.0|   0.0|        0.0|    0.0|0.0|          0.0|0.0|0.0|      0.0|\n",
            "|2020/03|      0.0|    0.0|    0.0|                 0.0|    475000.0|0.0|     5000.0|      0.0|0.0|0.0|0.0|        0.0|0.0|0.0|     0.0|    0.0|35000.0|0.0|0.0|    0.0|     0.0|25000.0|88800.0|     6500.0|75000.0|    0.0|    0.0|0.0|0.0|      0.0|        0.0|0.0|1000.0| 12000.0|       50000.0|0.0|0.0|     0.0|     0.0|   0.0|        0.0|    0.0|0.0|          0.0|0.0|0.0|      0.0|\n",
            "|2020/04|      0.0|10000.0|    0.0|            350000.0|         0.0|0.0|        0.0| 340000.0|0.0|0.0|0.0|        0.0|0.0|0.0|     0.0|10000.0|    0.0|0.0|0.0|    0.0|     0.0|    0.0|12000.0|        0.0| 8000.0|    0.0|    0.0|0.0|0.0|      0.0|        0.0|0.0|   0.0|  1000.0|        5000.0|0.0|0.0|     0.0|     0.0|   0.0|        0.0|    0.0|0.0|          0.0|0.0|0.0|      0.0|\n",
            "|2020/05|      0.0|41000.0|    0.0|           3130000.0|         0.0|0.0|   460000.0|5813806.0|0.0|0.0|0.0|    10000.0|0.0|0.0|     0.0|    0.0|    0.0|0.0|0.0|10000.0| 15000.0|    0.0|    0.0|        0.0|    0.0|    0.0|    0.0|0.0|0.0|      0.0|        0.0|0.0|   0.0|     0.0|           0.0|0.0|0.0|     0.0|     0.0|   0.0|   675000.0|    0.0|0.0|          0.0|0.0|0.0|      0.0|\n",
            "|2020/06|3261767.0|    0.0|    0.0|           5190522.0|    250000.0|0.0|  6970000.0| 781359.0|0.0|0.0|0.0|    50000.0|0.0|0.0|     0.0|    0.0|    0.0|0.0|0.0|    0.0|     0.0|    0.0|    0.0|    80000.0|    0.0|    0.0|    0.0|0.0|0.0| 476000.0|  2870000.0|0.0|   0.0| 25000.0|      135000.0|0.0|0.0|500000.0|     0.0|1000.0|  4126000.0|    0.0|0.0|     150000.0|0.0|0.0|1200000.0|\n",
            "|2020/07| 223085.0|    0.0|    0.0|          9.959205E7| 3.4678447E7|0.0|  6079465.0|  10000.0|0.0|0.0|0.0|  2911000.0|0.0|0.0|175000.0|    0.0|    0.0|0.0|0.0|    0.0|     0.0|    0.0|    0.0|  1455000.0|    0.0|    0.0|    0.0|0.0|0.0|7918000.0|2.9344252E7|0.0|   0.0|  6000.0|      850000.0|0.0|0.0|     0.0|     0.0|   1.0|4.0494988E7|    0.0|0.0|    8151000.0|0.0|0.0|2196000.0|\n",
            "|2020/08| 445580.0|    0.0|    0.0|2.4420914959999997E7|  7.281087E7|0.0|  4786000.0|  40000.0|0.0|0.0|0.0|    1.964E7|0.0|0.0|     0.0|    0.0|10000.0|0.0|0.0|    0.0|     0.0|    0.0|    0.0|  4402314.0|    0.0|    0.0|80000.0|0.0|0.0|4048000.0|1.8733038E7|0.0|   0.0| 25000.0|   1.5591882E7|0.0|0.0|200000.0|     0.0|2000.0|  2964649.0|    0.0|0.0|  1.3029447E7|0.0|0.0|5630000.0|\n",
            "|2020/09| 1.0305E7| 7200.0|    0.0|         1.9192342E7| 9.6988882E7|0.0|      3.5E7|      0.0|0.0|0.0|0.0|  2312528.0|0.0|0.0|     0.0|    0.0|    0.0|0.0|0.0|    0.0|     0.0|    0.0|    0.0|  3680000.0|    0.0|    0.0|    0.0|0.0|0.0|      0.0|        0.0|0.0|   0.0|     0.0|   3.8783014E7|0.0|0.0|     0.0|     0.0|   0.0|  8002127.0|    0.0|0.0|3.002013678E7|0.0|0.0| 380000.0|\n",
            "|2020/10|      0.0|    0.0|    0.0|           3865000.0| 5.6304496E7|0.0|  2150000.0|      0.0|0.0|0.0|0.0|4.8572855E7|0.0|0.0|     0.0|    0.0|    0.0|0.0|0.0|    0.0|     0.0|10000.0|    0.0|1.7565485E7|    0.0|    0.0|    0.0|0.0|0.0|1063000.0|  1925000.0|0.0|   0.0|     0.0| 9.826247331E7|0.0|0.0|     0.0|     0.0|   0.0| 4968811.39|    0.0|0.0|    3182000.0|0.0|0.0|  30000.0|\n",
            "|2020/11|      0.0|    0.0|25000.0|           8432217.0|2.60762416E8|0.0|5.7097054E7|      0.0|0.0|0.0|0.0|  8374000.0|0.0|0.0|     0.0|    0.0|    0.0|0.0|0.0|    0.0|     0.0|    0.0| 7000.0|    1.175E7|    0.0|    0.0|    0.0|0.0|0.0|  15000.0|   400000.0|0.0|3500.0| 27500.0|1.3673220104E8|0.0|0.0| 50000.0|     0.0|   0.0|4.1093403E7|50000.0|0.0|    6317412.0|0.0|0.0|2235000.0|\n",
            "|2020/12|      0.0|    0.0|    0.0|           2850000.0|  3.244239E8|0.0|   1.7242E8|      0.0|0.0|0.0|0.0|        0.0|0.0|0.0|     0.0|    0.0|    0.0|0.0|0.0|    0.0|     0.0| 8000.0|    0.0|        0.0|    0.0|    0.0|    0.0|0.0|0.0|6120000.0|        0.0|0.0|   0.0|  5000.0|      2.0482E7|0.0|0.0|     0.0|     0.0|   0.0|        0.0|    0.0|0.0|          0.0|0.0|0.0|   4.24E7|\n",
            "|2021/01|      0.0| 5000.0|    0.0|             30000.0|1.24148798E8|0.0|     3000.0|      0.0|0.0|0.0|0.0|        0.0|0.0|0.0|     0.0|    0.0|    0.0|0.0|0.0|    0.0|     0.0|    0.0|    0.0|    35000.0|    0.0|60000.0|    0.0|0.0|0.0|      0.0|        0.0|0.0|   0.0|     0.0|           0.0|0.0|0.0|     0.0|     0.0|   1.0|        0.0|    0.0|0.0|          0.0|0.0|0.0|      0.0|\n",
            "|2021/02|      0.0|    0.0|    0.0|                 0.0|         0.0|0.0|        0.0|      0.0|0.0|0.0|0.0|        0.0|0.0|0.0|     0.0|    0.0|    0.0|0.0|0.0|    0.0|     0.0| 5000.0|    0.0|        0.0|    0.0|    0.0|    0.0|0.0|0.0|      0.0|        0.0|0.0|   0.0|     0.0|           0.0|0.0|0.0|     0.0|     0.0|   1.0|        0.0|    0.0|0.0|          0.0|0.0|0.0|      0.0|\n",
            "|2021/03|      0.0|50000.0|    0.0|            135000.0|         0.0|0.0|     5000.0|      0.0|0.0|0.0|0.0|        0.0|0.0|0.0|     0.0|    0.0|66000.0|0.0|0.0|75000.0|133000.0|47000.0|73000.0|        0.0|    0.0|    0.0|    0.0|0.0|0.0|      0.0|    50000.0|0.0|   0.0|191000.0|       98000.0|0.0|0.0|135000.0|177000.0|   4.0|   343400.0|    0.0|0.0|          0.0|0.0|0.0|      0.0|\n",
            "+-------+---------+-------+-------+--------------------+------------+---+-----------+---------+---+---+---+-----------+---+---+--------+-------+-------+---+---+-------+--------+-------+-------+-----------+-------+-------+-------+---+---+---------+-----------+---+------+--------+--------------+---+---+--------+--------+------+-----------+-------+---+-------------+---+---+---------+\n",
            "only showing top 20 rows\n",
            "\n"
          ]
        }
      ]
    }
  ]
}