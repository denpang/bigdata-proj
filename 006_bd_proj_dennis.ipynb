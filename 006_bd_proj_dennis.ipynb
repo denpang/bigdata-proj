{
  "nbformat": 4,
  "nbformat_minor": 0,
  "metadata": {
    "colab": {
      "name": "bd_proj_dennis.ipynb",
      "provenance": [],
      "collapsed_sections": []
    },
    "kernelspec": {
      "name": "python3",
      "display_name": "Python 3"
    },
    "language_info": {
      "name": "python"
    }
  },
  "cells": [
    {
      "cell_type": "markdown",
      "source": [
        "**Summary Of Findings**:\n",
        "It was found that  wildfire  frequency across the United State has been increasing in the past decade. Although fire and fire damage was generally localized to mostly the west coast in the past, fire frequency has been gradually increasing in states east of it in the continental US; in 2021, midwestern states have had fire counts similar to those found in West Coast states in 2014 and 2015. \n",
        "\n",
        "  Although fire frequency has been increasing, the overall area of land affected by wildfires has remained within a similar range for the past 20 years. It was also found that the number of recorded fires, did not necessarily correlate with the area affected for each states. While the degree of fire coverage has remained relatively consistent, the distribution of burned area across the United States has changed over the years. In the early 2000s, the majority of wildfire area was almost entirely localized to Alaska and the West coast; by 2021, the majority of  the US had seen more than minimal fire coverage. \n",
        "\n",
        "  Throughout the past decade, hot spots on on the continental US have remained relatively consistent; the west coast will probably continue to be considered hot spots, and some may become prominent in the Midwest. Regardless of hot spots, fire activity has generally increased across the United States."
      ],
      "metadata": {
        "id": "mK5oSKp3OkKV"
      }
    },
    {
      "cell_type": "code",
      "metadata": {
        "id": "P6DpBTIz8x0g"
      },
      "source": [
        "!apt-get install openjdk-8-jdk-headless -qq > /dev/null"
      ],
      "execution_count": null,
      "outputs": []
    },
    {
      "cell_type": "code",
      "source": [
        ""
      ],
      "metadata": {
        "id": "uD7jOIiocxwd"
      },
      "execution_count": null,
      "outputs": []
    },
    {
      "cell_type": "code",
      "metadata": {
        "colab": {
          "base_uri": "https://localhost:8080/"
        },
        "id": "zQ8wYYvP86C2",
        "outputId": "5ad04cf5-1472-4c4d-d3e9-396a2ebed611"
      },
      "source": [
        "!wget https://dlcdn.apache.org/spark/spark-3.2.0/spark-3.2.0-bin-hadoop3.2.tgz"
      ],
      "execution_count": null,
      "outputs": [
        {
          "output_type": "stream",
          "name": "stdout",
          "text": [
            "--2021-12-14 04:34:01--  https://dlcdn.apache.org/spark/spark-3.2.0/spark-3.2.0-bin-hadoop3.2.tgz\n",
            "Resolving dlcdn.apache.org (dlcdn.apache.org)... 151.101.2.132, 2a04:4e42::644\n",
            "Connecting to dlcdn.apache.org (dlcdn.apache.org)|151.101.2.132|:443... connected.\n",
            "HTTP request sent, awaiting response... 200 OK\n",
            "Length: 300965906 (287M) [application/x-gzip]\n",
            "Saving to: ‘spark-3.2.0-bin-hadoop3.2.tgz’\n",
            "\n",
            "spark-3.2.0-bin-had 100%[===================>] 287.02M   180MB/s    in 1.6s    \n",
            "\n",
            "2021-12-14 04:34:03 (180 MB/s) - ‘spark-3.2.0-bin-hadoop3.2.tgz’ saved [300965906/300965906]\n",
            "\n"
          ]
        }
      ]
    },
    {
      "cell_type": "markdown",
      "source": [
        ""
      ],
      "metadata": {
        "id": "7hEfadsPOfzh"
      }
    },
    {
      "cell_type": "code",
      "metadata": {
        "id": "HVX5rzep9Crz"
      },
      "source": [
        "!tar xvzf spark-3.2.0-bin-hadoop3.2.tgz"
      ],
      "execution_count": null,
      "outputs": []
    },
    {
      "cell_type": "code",
      "metadata": {
        "colab": {
          "base_uri": "https://localhost:8080/"
        },
        "id": "mFhMsVmS9FvS",
        "outputId": "940e22a9-0c26-4d2e-d40d-5ec06d6b0555"
      },
      "source": [
        "!ls /content/spark-3.2.0-bin-hadoop3.2"
      ],
      "execution_count": null,
      "outputs": [
        {
          "output_type": "stream",
          "name": "stdout",
          "text": [
            "bin   data\tjars\t    LICENSE   NOTICE  R\t\t RELEASE  yarn\n",
            "conf  examples\tkubernetes  licenses  python  README.md  sbin\n"
          ]
        }
      ]
    },
    {
      "cell_type": "code",
      "metadata": {
        "id": "bCYOIWcC9JGo"
      },
      "source": [
        "# Set the ‘environment’ path\n",
        "import os\n",
        "#os.environ[\"JAVA_HOME\"] = \"/usr/lib/jvm/java-8-openjdk-amd64\"\n",
        "os.environ[\"SPARK_HOME\"] = \"/content/spark-3.2.0-bin-hadoop3.2\""
      ],
      "execution_count": null,
      "outputs": []
    },
    {
      "cell_type": "code",
      "metadata": {
        "id": "pK2UHUH29OVL"
      },
      "source": [
        "!pip install -q findspark\n",
        "\n",
        "import findspark\n",
        "findspark.init()"
      ],
      "execution_count": null,
      "outputs": []
    },
    {
      "cell_type": "code",
      "metadata": {
        "id": "ZjKx0tFx9S3Y"
      },
      "source": [
        "from pyspark.sql import SparkSession\n",
        "from pyspark.sql.functions import *\n",
        "from pyspark.sql.types import *\n",
        "from pyspark.sql.window import Window\n",
        "import pandas as pd\n",
        "import matplotlib.pyplot as plt\n",
        "\n",
        "\n",
        "spark = SparkSession.builder\\\n",
        "    .master(\"local[*]\")\\\n",
        "    .appName(\"final-project\")\\\n",
        "    .getOrCreate()\n",
        "\n",
        "sc = spark.sparkContext\n",
        "sc.setLogLevel(\"ERROR\")"
      ],
      "execution_count": null,
      "outputs": []
    },
    {
      "cell_type": "code",
      "metadata": {
        "id": "Y9n9X12S9V7b",
        "colab": {
          "base_uri": "https://localhost:8080/",
          "height": 196
        },
        "outputId": "400584d2-ff23-40eb-d330-bfd0dca6d5ea"
      },
      "source": [
        "sc"
      ],
      "execution_count": null,
      "outputs": [
        {
          "output_type": "execute_result",
          "data": {
            "text/html": [
              "\n",
              "        <div>\n",
              "            <p><b>SparkContext</b></p>\n",
              "\n",
              "            <p><a href=\"http://ea9689f35336:4040\">Spark UI</a></p>\n",
              "\n",
              "            <dl>\n",
              "              <dt>Version</dt>\n",
              "                <dd><code>v3.2.0</code></dd>\n",
              "              <dt>Master</dt>\n",
              "                <dd><code>local[*]</code></dd>\n",
              "              <dt>AppName</dt>\n",
              "                <dd><code>final-project</code></dd>\n",
              "            </dl>\n",
              "        </div>\n",
              "        "
            ],
            "text/plain": [
              "<SparkContext master=local[*] appName=final-project>"
            ]
          },
          "metadata": {},
          "execution_count": 8
        }
      ]
    },
    {
      "cell_type": "code",
      "metadata": {
        "id": "zd07163I0toe"
      },
      "source": [
        "#The wildfire location database \n",
        "locatData = spark.read.option(\"header\",True) \\\n",
        ".option(\"inferSchema\", True) \\\n",
        ".csv(\"WFIGS_-_Wildland_Fire_Locations_Full_History.csv\")"
      ],
      "execution_count": null,
      "outputs": []
    },
    {
      "cell_type": "markdown",
      "metadata": {
        "id": "RkD8sdJi3Rr9"
      },
      "source": [
        "Fire Frequency By Year"
      ]
    },
    {
      "cell_type": "code",
      "metadata": {
        "id": "gk6EwRVq4hgP"
      },
      "source": [
        "#Fires not considered \"wildfire\" are first filtered out\n",
        "#locTime will be used to focus on the frequency of wildfires per state\n",
        "#POOState - Location of wildfire at time of discovery\n",
        "#FireDiscoveryDateTime - Date when the fire was discovered.\n",
        "\n",
        "locatData = locatData.filter(locatData[\"IncidentTypeCategory\"] == \"WF\")\n",
        "locTime = locatData.select(substring(locatData[\"POOState\"],0,6).alias(\"State Occurred\"),\n",
        "                           substring(locatData['FireDiscoveryDateTime'],0,4).alias(\"Year\"))"
      ],
      "execution_count": null,
      "outputs": []
    },
    {
      "cell_type": "code",
      "metadata": {
        "id": "nHaV5lrj98nV"
      },
      "source": [
        "#Unusable rows are filtered out.\n",
        "locTime = locTime.filter((locTime[\"year\"].isNotNull())& (locTime[\"State Occurred\"].isNotNull()))\\"
      ],
      "execution_count": null,
      "outputs": []
    },
    {
      "cell_type": "markdown",
      "metadata": {
        "id": "Mr5HLyfq3ZNK"
      },
      "source": [
        "A significant difference between the wildfire frequency was found between 2013 and 2014; it is assumed the years before 2014 had incomplete data."
      ]
    },
    {
      "cell_type": "code",
      "metadata": {
        "colab": {
          "base_uri": "https://localhost:8080/"
        },
        "id": "O2Jfn_USAke6",
        "outputId": "35529eea-c25c-404b-d729-16884b30eee2"
      },
      "source": [
        "\n",
        "locTime.groupBy(\"Year\").count().orderBy(\"year\").show()\n"
      ],
      "execution_count": null,
      "outputs": [
        {
          "output_type": "stream",
          "name": "stdout",
          "text": [
            "+----+-----+\n",
            "|Year|count|\n",
            "+----+-----+\n",
            "|2003|    1|\n",
            "|2004|    1|\n",
            "|2008|    1|\n",
            "|2009|    1|\n",
            "|2010|    2|\n",
            "|2014|12634|\n",
            "|2015|19633|\n",
            "|2016|19798|\n",
            "|2017|25114|\n",
            "|2018|22627|\n",
            "|2019|25451|\n",
            "|2020|33348|\n",
            "|2021|34488|\n",
            "+----+-----+\n",
            "\n"
          ]
        }
      ]
    },
    {
      "cell_type": "markdown",
      "metadata": {
        "id": "rhxIdVbJ38cc"
      },
      "source": [
        "Number of Fires across the  US per state"
      ]
    },
    {
      "cell_type": "code",
      "metadata": {
        "id": "uTOpMEG1M-GJ"
      },
      "source": [
        "#To gain insights into the US results, areas outside the US are filtered out.\n",
        "locTime = locTime.filter(locTime[\"Year\"] > 2013)\n",
        "locTime = locTime.filter(locTime[\"State Occurred\"].contains(\"US\"))\n",
        "locTime = locTime.withColumn(\"State Occurred\",substring(locTime[\"State Occurred\"],4,6))"
      ],
      "execution_count": null,
      "outputs": []
    },
    {
      "cell_type": "code",
      "metadata": {
        "colab": {
          "base_uri": "https://localhost:8080/"
        },
        "id": "eBANJwoE48xa",
        "outputId": "798ef814-53ca-45fb-a597-38cc5d1c3d86"
      },
      "source": [
        "locTime.show()"
      ],
      "execution_count": null,
      "outputs": [
        {
          "output_type": "stream",
          "name": "stdout",
          "text": [
            "+--------------+----+\n",
            "|State Occurred|Year|\n",
            "+--------------+----+\n",
            "|            MT|2020|\n",
            "|            CA|2020|\n",
            "|            MT|2017|\n",
            "|            CA|2019|\n",
            "|            CA|2016|\n",
            "|            MS|2020|\n",
            "|            UT|2019|\n",
            "|            MT|2020|\n",
            "|            SD|2020|\n",
            "|            CA|2015|\n",
            "|            FL|2019|\n",
            "|            AZ|2019|\n",
            "|            CA|2017|\n",
            "|            ID|2020|\n",
            "|            CA|2016|\n",
            "|            MT|2019|\n",
            "|            UT|2016|\n",
            "|            MS|2019|\n",
            "|            MN|2016|\n",
            "|            CA|2017|\n",
            "+--------------+----+\n",
            "only showing top 20 rows\n",
            "\n"
          ]
        }
      ]
    },
    {
      "cell_type": "code",
      "metadata": {
        "id": "PAUjYIBa4g4o"
      },
      "source": [
        "totalFiresPerState = locTime.groupBy(\"State Occurred\").count()"
      ],
      "execution_count": null,
      "outputs": []
    },
    {
      "cell_type": "code",
      "metadata": {
        "colab": {
          "base_uri": "https://localhost:8080/",
          "height": 617
        },
        "id": "X7s2mlPQ4oJf",
        "outputId": "c2ed6316-a606-45cf-d29b-e987169fdb6d"
      },
      "source": [
        "import plotly.express as px\n",
        "import pandas as pd\n",
        "\n",
        "fig = px.choropleth(totalFiresPerState.toPandas(), locations='State Occurred',locationmode = \"USA-states\",color = \"count\", \n",
        "                    scope='usa')\n",
        "fig.update_layout(\n",
        "    width=800,\n",
        "    height=600)\n",
        "\n",
        "fig.show()"
      ],
      "execution_count": null,
      "outputs": [
        {
          "output_type": "display_data",
          "data": {
            "text/html": [
              "<html>\n",
              "<head><meta charset=\"utf-8\" /></head>\n",
              "<body>\n",
              "    <div>\n",
              "            <script src=\"https://cdnjs.cloudflare.com/ajax/libs/mathjax/2.7.5/MathJax.js?config=TeX-AMS-MML_SVG\"></script><script type=\"text/javascript\">if (window.MathJax) {MathJax.Hub.Config({SVG: {font: \"STIX-Web\"}});}</script>\n",
              "                <script type=\"text/javascript\">window.PlotlyConfig = {MathJaxConfig: 'local'};</script>\n",
              "        <script src=\"https://cdn.plot.ly/plotly-latest.min.js\"></script>    \n",
              "            <div id=\"d6d0e4ec-1f11-4996-80ee-83ab70421bd1\" class=\"plotly-graph-div\" style=\"height:600px; width:800px;\"></div>\n",
              "            <script type=\"text/javascript\">\n",
              "                \n",
              "                    window.PLOTLYENV=window.PLOTLYENV || {};\n",
              "                    \n",
              "                if (document.getElementById(\"d6d0e4ec-1f11-4996-80ee-83ab70421bd1\")) {\n",
              "                    Plotly.newPlot(\n",
              "                        'd6d0e4ec-1f11-4996-80ee-83ab70421bd1',\n",
              "                        [{\"coloraxis\": \"coloraxis\", \"geo\": \"geo\", \"hoverlabel\": {\"namelength\": 0}, \"hovertemplate\": \"State Occurred=%{location}<br>count=%{z}\", \"locationmode\": \"USA-states\", \"locations\": [\"AZ\", \"SC\", \"LA\", \"MN\", \"NJ\", \"DC\", \"OR\", \"VA\", \"WY\", \"KY\", \"NH\", \"MI\", \"NV\", \"WI\", \"ID\", \"CA\", \"NE\", \"CT\", \"MT\", \"NC\", \"VT\", \"MD\", \"DE\", \"MO\", \"IL\", \"ME\", \"WA\", \"ND\", \"MS\", \"AL\", \"IN\", \"OH\", \"TN\", \"NM\", \"IA\", \"PA\", \"SD\", \"NY\", \"TX\", \"WV\", \"GA\", \"MA\", \"KS\", \"FL\", \"CO\", \"AK\", \"AR\", \"OK\", \"PR\", \"UT\", \"HI\", \"GU\"], \"name\": \"\", \"type\": \"choropleth\", \"z\": [15182, 393, 420, 6094, 70, 25, 13311, 410, 7473, 700, 81, 1110, 4852, 275, 9003, 43002, 370, 4, 13495, 714, 27, 72, 1, 878, 137, 2933, 10666, 7498, 1393, 482, 186, 399, 407, 7248, 256, 261, 5184, 171, 5796, 224, 355, 19, 399, 4011, 7509, 3924, 814, 5318, 216, 9247, 41, 2]}],\n",
              "                        {\"coloraxis\": {\"colorbar\": {\"title\": {\"text\": \"count\"}}, \"colorscale\": [[0.0, \"#0d0887\"], [0.1111111111111111, \"#46039f\"], [0.2222222222222222, \"#7201a8\"], [0.3333333333333333, \"#9c179e\"], [0.4444444444444444, \"#bd3786\"], [0.5555555555555556, \"#d8576b\"], [0.6666666666666666, \"#ed7953\"], [0.7777777777777778, \"#fb9f3a\"], [0.8888888888888888, \"#fdca26\"], [1.0, \"#f0f921\"]]}, \"geo\": {\"center\": {}, \"domain\": {\"x\": [0.0, 1.0], \"y\": [0.0, 1.0]}, \"scope\": \"usa\"}, \"height\": 600, \"legend\": {\"tracegroupgap\": 0}, \"margin\": {\"t\": 60}, \"template\": {\"data\": {\"bar\": [{\"error_x\": {\"color\": \"#2a3f5f\"}, \"error_y\": {\"color\": \"#2a3f5f\"}, \"marker\": {\"line\": {\"color\": \"#E5ECF6\", \"width\": 0.5}}, \"type\": \"bar\"}], \"barpolar\": [{\"marker\": {\"line\": {\"color\": \"#E5ECF6\", \"width\": 0.5}}, \"type\": \"barpolar\"}], \"carpet\": [{\"aaxis\": {\"endlinecolor\": \"#2a3f5f\", \"gridcolor\": \"white\", \"linecolor\": \"white\", \"minorgridcolor\": \"white\", \"startlinecolor\": \"#2a3f5f\"}, \"baxis\": {\"endlinecolor\": \"#2a3f5f\", \"gridcolor\": \"white\", \"linecolor\": \"white\", \"minorgridcolor\": \"white\", \"startlinecolor\": \"#2a3f5f\"}, \"type\": \"carpet\"}], \"choropleth\": [{\"colorbar\": {\"outlinewidth\": 0, \"ticks\": \"\"}, \"type\": \"choropleth\"}], \"contour\": [{\"colorbar\": {\"outlinewidth\": 0, \"ticks\": \"\"}, \"colorscale\": [[0.0, \"#0d0887\"], [0.1111111111111111, \"#46039f\"], [0.2222222222222222, \"#7201a8\"], [0.3333333333333333, \"#9c179e\"], [0.4444444444444444, \"#bd3786\"], [0.5555555555555556, \"#d8576b\"], [0.6666666666666666, \"#ed7953\"], [0.7777777777777778, \"#fb9f3a\"], [0.8888888888888888, \"#fdca26\"], [1.0, \"#f0f921\"]], \"type\": \"contour\"}], \"contourcarpet\": [{\"colorbar\": {\"outlinewidth\": 0, \"ticks\": \"\"}, \"type\": \"contourcarpet\"}], \"heatmap\": [{\"colorbar\": {\"outlinewidth\": 0, \"ticks\": \"\"}, \"colorscale\": [[0.0, \"#0d0887\"], [0.1111111111111111, \"#46039f\"], [0.2222222222222222, \"#7201a8\"], [0.3333333333333333, \"#9c179e\"], [0.4444444444444444, \"#bd3786\"], [0.5555555555555556, \"#d8576b\"], [0.6666666666666666, \"#ed7953\"], [0.7777777777777778, \"#fb9f3a\"], [0.8888888888888888, \"#fdca26\"], [1.0, \"#f0f921\"]], \"type\": \"heatmap\"}], \"heatmapgl\": [{\"colorbar\": {\"outlinewidth\": 0, \"ticks\": \"\"}, \"colorscale\": [[0.0, \"#0d0887\"], [0.1111111111111111, \"#46039f\"], [0.2222222222222222, \"#7201a8\"], [0.3333333333333333, \"#9c179e\"], [0.4444444444444444, \"#bd3786\"], [0.5555555555555556, \"#d8576b\"], [0.6666666666666666, \"#ed7953\"], [0.7777777777777778, \"#fb9f3a\"], [0.8888888888888888, \"#fdca26\"], [1.0, \"#f0f921\"]], \"type\": \"heatmapgl\"}], \"histogram\": [{\"marker\": {\"colorbar\": {\"outlinewidth\": 0, \"ticks\": \"\"}}, \"type\": \"histogram\"}], \"histogram2d\": [{\"colorbar\": {\"outlinewidth\": 0, \"ticks\": \"\"}, \"colorscale\": [[0.0, \"#0d0887\"], [0.1111111111111111, \"#46039f\"], [0.2222222222222222, \"#7201a8\"], [0.3333333333333333, \"#9c179e\"], [0.4444444444444444, \"#bd3786\"], [0.5555555555555556, \"#d8576b\"], [0.6666666666666666, \"#ed7953\"], [0.7777777777777778, \"#fb9f3a\"], [0.8888888888888888, \"#fdca26\"], [1.0, \"#f0f921\"]], \"type\": \"histogram2d\"}], \"histogram2dcontour\": [{\"colorbar\": {\"outlinewidth\": 0, \"ticks\": \"\"}, \"colorscale\": [[0.0, \"#0d0887\"], [0.1111111111111111, \"#46039f\"], [0.2222222222222222, \"#7201a8\"], [0.3333333333333333, \"#9c179e\"], [0.4444444444444444, \"#bd3786\"], [0.5555555555555556, \"#d8576b\"], [0.6666666666666666, \"#ed7953\"], [0.7777777777777778, \"#fb9f3a\"], [0.8888888888888888, \"#fdca26\"], [1.0, \"#f0f921\"]], \"type\": \"histogram2dcontour\"}], \"mesh3d\": [{\"colorbar\": {\"outlinewidth\": 0, \"ticks\": \"\"}, \"type\": \"mesh3d\"}], \"parcoords\": [{\"line\": {\"colorbar\": {\"outlinewidth\": 0, \"ticks\": \"\"}}, \"type\": \"parcoords\"}], \"pie\": [{\"automargin\": true, \"type\": \"pie\"}], \"scatter\": [{\"marker\": {\"colorbar\": {\"outlinewidth\": 0, \"ticks\": \"\"}}, \"type\": \"scatter\"}], \"scatter3d\": [{\"line\": {\"colorbar\": {\"outlinewidth\": 0, \"ticks\": \"\"}}, \"marker\": {\"colorbar\": {\"outlinewidth\": 0, \"ticks\": \"\"}}, \"type\": \"scatter3d\"}], \"scattercarpet\": [{\"marker\": {\"colorbar\": {\"outlinewidth\": 0, \"ticks\": \"\"}}, \"type\": \"scattercarpet\"}], \"scattergeo\": [{\"marker\": {\"colorbar\": {\"outlinewidth\": 0, \"ticks\": \"\"}}, \"type\": \"scattergeo\"}], \"scattergl\": [{\"marker\": {\"colorbar\": {\"outlinewidth\": 0, \"ticks\": \"\"}}, \"type\": \"scattergl\"}], \"scattermapbox\": [{\"marker\": {\"colorbar\": {\"outlinewidth\": 0, \"ticks\": \"\"}}, \"type\": \"scattermapbox\"}], \"scatterpolar\": [{\"marker\": {\"colorbar\": {\"outlinewidth\": 0, \"ticks\": \"\"}}, \"type\": \"scatterpolar\"}], \"scatterpolargl\": [{\"marker\": {\"colorbar\": {\"outlinewidth\": 0, \"ticks\": \"\"}}, \"type\": \"scatterpolargl\"}], \"scatterternary\": [{\"marker\": {\"colorbar\": {\"outlinewidth\": 0, \"ticks\": \"\"}}, \"type\": \"scatterternary\"}], \"surface\": [{\"colorbar\": {\"outlinewidth\": 0, \"ticks\": \"\"}, \"colorscale\": [[0.0, \"#0d0887\"], [0.1111111111111111, \"#46039f\"], [0.2222222222222222, \"#7201a8\"], [0.3333333333333333, \"#9c179e\"], [0.4444444444444444, \"#bd3786\"], [0.5555555555555556, \"#d8576b\"], [0.6666666666666666, \"#ed7953\"], [0.7777777777777778, \"#fb9f3a\"], [0.8888888888888888, \"#fdca26\"], [1.0, \"#f0f921\"]], \"type\": \"surface\"}], \"table\": [{\"cells\": {\"fill\": {\"color\": \"#EBF0F8\"}, \"line\": {\"color\": \"white\"}}, \"header\": {\"fill\": {\"color\": \"#C8D4E3\"}, \"line\": {\"color\": \"white\"}}, \"type\": \"table\"}]}, \"layout\": {\"annotationdefaults\": {\"arrowcolor\": \"#2a3f5f\", \"arrowhead\": 0, \"arrowwidth\": 1}, \"coloraxis\": {\"colorbar\": {\"outlinewidth\": 0, \"ticks\": \"\"}}, \"colorscale\": {\"diverging\": [[0, \"#8e0152\"], [0.1, \"#c51b7d\"], [0.2, \"#de77ae\"], [0.3, \"#f1b6da\"], [0.4, \"#fde0ef\"], [0.5, \"#f7f7f7\"], [0.6, \"#e6f5d0\"], [0.7, \"#b8e186\"], [0.8, \"#7fbc41\"], [0.9, \"#4d9221\"], [1, \"#276419\"]], \"sequential\": [[0.0, \"#0d0887\"], [0.1111111111111111, \"#46039f\"], [0.2222222222222222, \"#7201a8\"], [0.3333333333333333, \"#9c179e\"], [0.4444444444444444, \"#bd3786\"], [0.5555555555555556, \"#d8576b\"], [0.6666666666666666, \"#ed7953\"], [0.7777777777777778, \"#fb9f3a\"], [0.8888888888888888, \"#fdca26\"], [1.0, \"#f0f921\"]], \"sequentialminus\": [[0.0, \"#0d0887\"], [0.1111111111111111, \"#46039f\"], [0.2222222222222222, \"#7201a8\"], [0.3333333333333333, \"#9c179e\"], [0.4444444444444444, \"#bd3786\"], [0.5555555555555556, \"#d8576b\"], [0.6666666666666666, \"#ed7953\"], [0.7777777777777778, \"#fb9f3a\"], [0.8888888888888888, \"#fdca26\"], [1.0, \"#f0f921\"]]}, \"colorway\": [\"#636efa\", \"#EF553B\", \"#00cc96\", \"#ab63fa\", \"#FFA15A\", \"#19d3f3\", \"#FF6692\", \"#B6E880\", \"#FF97FF\", \"#FECB52\"], \"font\": {\"color\": \"#2a3f5f\"}, \"geo\": {\"bgcolor\": \"white\", \"lakecolor\": \"white\", \"landcolor\": \"#E5ECF6\", \"showlakes\": true, \"showland\": true, \"subunitcolor\": \"white\"}, \"hoverlabel\": {\"align\": \"left\"}, \"hovermode\": \"closest\", \"mapbox\": {\"style\": \"light\"}, \"paper_bgcolor\": \"white\", \"plot_bgcolor\": \"#E5ECF6\", \"polar\": {\"angularaxis\": {\"gridcolor\": \"white\", \"linecolor\": \"white\", \"ticks\": \"\"}, \"bgcolor\": \"#E5ECF6\", \"radialaxis\": {\"gridcolor\": \"white\", \"linecolor\": \"white\", \"ticks\": \"\"}}, \"scene\": {\"xaxis\": {\"backgroundcolor\": \"#E5ECF6\", \"gridcolor\": \"white\", \"gridwidth\": 2, \"linecolor\": \"white\", \"showbackground\": true, \"ticks\": \"\", \"zerolinecolor\": \"white\"}, \"yaxis\": {\"backgroundcolor\": \"#E5ECF6\", \"gridcolor\": \"white\", \"gridwidth\": 2, \"linecolor\": \"white\", \"showbackground\": true, \"ticks\": \"\", \"zerolinecolor\": \"white\"}, \"zaxis\": {\"backgroundcolor\": \"#E5ECF6\", \"gridcolor\": \"white\", \"gridwidth\": 2, \"linecolor\": \"white\", \"showbackground\": true, \"ticks\": \"\", \"zerolinecolor\": \"white\"}}, \"shapedefaults\": {\"line\": {\"color\": \"#2a3f5f\"}}, \"ternary\": {\"aaxis\": {\"gridcolor\": \"white\", \"linecolor\": \"white\", \"ticks\": \"\"}, \"baxis\": {\"gridcolor\": \"white\", \"linecolor\": \"white\", \"ticks\": \"\"}, \"bgcolor\": \"#E5ECF6\", \"caxis\": {\"gridcolor\": \"white\", \"linecolor\": \"white\", \"ticks\": \"\"}}, \"title\": {\"x\": 0.05}, \"xaxis\": {\"automargin\": true, \"gridcolor\": \"white\", \"linecolor\": \"white\", \"ticks\": \"\", \"title\": {\"standoff\": 15}, \"zerolinecolor\": \"white\", \"zerolinewidth\": 2}, \"yaxis\": {\"automargin\": true, \"gridcolor\": \"white\", \"linecolor\": \"white\", \"ticks\": \"\", \"title\": {\"standoff\": 15}, \"zerolinecolor\": \"white\", \"zerolinewidth\": 2}}}, \"width\": 800},\n",
              "                        {\"responsive\": true}\n",
              "                    ).then(function(){\n",
              "                            \n",
              "var gd = document.getElementById('d6d0e4ec-1f11-4996-80ee-83ab70421bd1');\n",
              "var x = new MutationObserver(function (mutations, observer) {{\n",
              "        var display = window.getComputedStyle(gd).display;\n",
              "        if (!display || display === 'none') {{\n",
              "            console.log([gd, 'removed!']);\n",
              "            Plotly.purge(gd);\n",
              "            observer.disconnect();\n",
              "        }}\n",
              "}});\n",
              "\n",
              "// Listen for the removal of the full notebook cells\n",
              "var notebookContainer = gd.closest('#notebook-container');\n",
              "if (notebookContainer) {{\n",
              "    x.observe(notebookContainer, {childList: true});\n",
              "}}\n",
              "\n",
              "// Listen for the clearing of the current output cell\n",
              "var outputEl = gd.closest('.output');\n",
              "if (outputEl) {{\n",
              "    x.observe(outputEl, {childList: true});\n",
              "}}\n",
              "\n",
              "                        })\n",
              "                };\n",
              "                \n",
              "            </script>\n",
              "        </div>\n",
              "</body>\n",
              "</html>"
            ]
          },
          "metadata": {}
        }
      ]
    },
    {
      "cell_type": "markdown",
      "metadata": {
        "id": "f6a-UdYSCk4P"
      },
      "source": [
        "Findings:\n",
        "From the figure above, it can be seen that fires in the last decade have most occurred in the western portion of the United States, and have been mostly prevalent on the west coast as well as Montana and Arizona."
      ]
    },
    {
      "cell_type": "markdown",
      "metadata": {
        "id": "bGdgCt805G6B"
      },
      "source": [
        "Number of Fires Per Year Per State"
      ]
    },
    {
      "cell_type": "code",
      "metadata": {
        "id": "nV0qac7O07UF"
      },
      "source": [
        "firePerState = locTime.filter(locTime[\"year\"].isNotNull())\\\n",
        ".groupBy(\"year\",'State Occurred').count().orderBy(\"Year\")"
      ],
      "execution_count": null,
      "outputs": []
    },
    {
      "cell_type": "code",
      "metadata": {
        "colab": {
          "base_uri": "https://localhost:8080/"
        },
        "id": "3J8I_4h51QaT",
        "outputId": "ff9e21e2-22fd-4aa3-f7d3-5512a7918261"
      },
      "source": [
        "firePerState.show()"
      ],
      "execution_count": null,
      "outputs": [
        {
          "output_type": "stream",
          "name": "stdout",
          "text": [
            "+----+--------------+-----+\n",
            "|year|State Occurred|count|\n",
            "+----+--------------+-----+\n",
            "|2014|            NM|  517|\n",
            "|2014|            UT|  909|\n",
            "|2014|            WI|   11|\n",
            "|2014|            HI|    2|\n",
            "|2014|            VA|   14|\n",
            "|2014|            WA|  827|\n",
            "|2014|            GA|   25|\n",
            "|2014|            WY|  320|\n",
            "|2014|            MI|   66|\n",
            "|2014|            ID|  993|\n",
            "|2014|            WV|    1|\n",
            "|2014|            AR|   15|\n",
            "|2014|            MO|    7|\n",
            "|2014|            SC|   21|\n",
            "|2014|            NE|   12|\n",
            "|2014|            NV|  529|\n",
            "|2014|            PA|   16|\n",
            "|2014|            AZ|  948|\n",
            "|2014|            CO|  619|\n",
            "|2014|            AL|   32|\n",
            "+----+--------------+-----+\n",
            "only showing top 20 rows\n",
            "\n"
          ]
        }
      ]
    },
    {
      "cell_type": "code",
      "metadata": {
        "colab": {
          "base_uri": "https://localhost:8080/",
          "height": 617
        },
        "id": "hZl6l4Kz1_4C",
        "outputId": "28371f03-32c7-4384-b213-d097cdcc5f50"
      },
      "source": [
        "import plotly.express as px\n",
        "import pandas as pd\n",
        "\n",
        "fig = px.choropleth(firePerState.toPandas(), locations='State Occurred',locationmode = \"USA-states\",color = \"count\",range_color = [0,5000],\n",
        "                    animation_frame=\"year\", animation_group=\"State Occurred\",scope='usa')\n",
        "fig.update_layout(\n",
        "    width=800,\n",
        "    height=600)\n",
        "\n",
        "fig.show()"
      ],
      "execution_count": null,
      "outputs": [
        {
          "output_type": "display_data",
          "data": {
            "text/html": [
              "<html>\n",
              "<head><meta charset=\"utf-8\" /></head>\n",
              "<body>\n",
              "    <div>\n",
              "            <script src=\"https://cdnjs.cloudflare.com/ajax/libs/mathjax/2.7.5/MathJax.js?config=TeX-AMS-MML_SVG\"></script><script type=\"text/javascript\">if (window.MathJax) {MathJax.Hub.Config({SVG: {font: \"STIX-Web\"}});}</script>\n",
              "                <script type=\"text/javascript\">window.PlotlyConfig = {MathJaxConfig: 'local'};</script>\n",
              "        <script src=\"https://cdn.plot.ly/plotly-latest.min.js\"></script>    \n",
              "            <div id=\"46e78b3e-fddd-49af-8edd-4f54a6567ce8\" class=\"plotly-graph-div\" style=\"height:600px; width:800px;\"></div>\n",
              "            <script type=\"text/javascript\">\n",
              "                \n",
              "                    window.PLOTLYENV=window.PLOTLYENV || {};\n",
              "                    \n",
              "                if (document.getElementById(\"46e78b3e-fddd-49af-8edd-4f54a6567ce8\")) {\n",
              "                    Plotly.newPlot(\n",
              "                        '46e78b3e-fddd-49af-8edd-4f54a6567ce8',\n",
              "                        [{\"coloraxis\": \"coloraxis\", \"geo\": \"geo\", \"hoverlabel\": {\"namelength\": 0}, \"hovertemplate\": \"year=2014<br>State Occurred=%{location}<br>count=%{z}\", \"ids\": [\"MD\", \"HI\", \"PA\", \"AK\", \"WY\", \"CO\", \"ID\", \"FL\", \"AR\", \"WA\", \"NM\", \"WI\", \"VA\", \"GA\", \"MI\", \"WV\", \"MO\", \"NC\", \"IA\", \"MS\", \"LA\", \"SC\", \"NV\", \"AZ\", \"AL\", \"MT\", \"KS\", \"OH\", \"OK\", \"NE\", \"UT\", \"IL\", \"KY\", \"NH\", \"SD\", \"NJ\", \"TX\", \"OR\", \"TN\", \"CA\", \"NY\", \"ND\", \"MN\", \"PR\", \"ME\"], \"locationmode\": \"USA-states\", \"locations\": [\"MD\", \"HI\", \"PA\", \"AK\", \"WY\", \"CO\", \"ID\", \"FL\", \"AR\", \"WA\", \"NM\", \"WI\", \"VA\", \"GA\", \"MI\", \"WV\", \"MO\", \"NC\", \"IA\", \"MS\", \"LA\", \"SC\", \"NV\", \"AZ\", \"AL\", \"MT\", \"KS\", \"OH\", \"OK\", \"NE\", \"UT\", \"IL\", \"KY\", \"NH\", \"SD\", \"NJ\", \"TX\", \"OR\", \"TN\", \"CA\", \"NY\", \"ND\", \"MN\", \"PR\", \"ME\"], \"name\": \"\", \"type\": \"choropleth\", \"z\": [3, 2, 16, 377, 320, 619, 993, 183, 15, 827, 517, 11, 14, 25, 66, 1, 7, 49, 4, 65, 44, 21, 529, 948, 32, 840, 4, 12, 109, 12, 909, 3, 21, 2, 367, 2, 39, 2164, 6, 2106, 10, 235, 115, 28, 1]}],\n",
              "                        {\"coloraxis\": {\"cmax\": 5000, \"cmin\": 0, \"colorbar\": {\"title\": {\"text\": \"count\"}}, \"colorscale\": [[0.0, \"#0d0887\"], [0.1111111111111111, \"#46039f\"], [0.2222222222222222, \"#7201a8\"], [0.3333333333333333, \"#9c179e\"], [0.4444444444444444, \"#bd3786\"], [0.5555555555555556, \"#d8576b\"], [0.6666666666666666, \"#ed7953\"], [0.7777777777777778, \"#fb9f3a\"], [0.8888888888888888, \"#fdca26\"], [1.0, \"#f0f921\"]]}, \"geo\": {\"center\": {}, \"domain\": {\"x\": [0.0, 1.0], \"y\": [0.0, 1.0]}, \"scope\": \"usa\"}, \"height\": 600, \"legend\": {\"tracegroupgap\": 0}, \"margin\": {\"t\": 60}, \"sliders\": [{\"active\": 0, \"currentvalue\": {\"prefix\": \"year=\"}, \"len\": 0.9, \"pad\": {\"b\": 10, \"t\": 60}, \"steps\": [{\"args\": [[\"2014\"], {\"frame\": {\"duration\": 0, \"redraw\": true}, \"fromcurrent\": true, \"mode\": \"immediate\", \"transition\": {\"duration\": 0, \"easing\": \"linear\"}}], \"label\": \"2014\", \"method\": \"animate\"}, {\"args\": [[\"2015\"], {\"frame\": {\"duration\": 0, \"redraw\": true}, \"fromcurrent\": true, \"mode\": \"immediate\", \"transition\": {\"duration\": 0, \"easing\": \"linear\"}}], \"label\": \"2015\", \"method\": \"animate\"}, {\"args\": [[\"2016\"], {\"frame\": {\"duration\": 0, \"redraw\": true}, \"fromcurrent\": true, \"mode\": \"immediate\", \"transition\": {\"duration\": 0, \"easing\": \"linear\"}}], \"label\": \"2016\", \"method\": \"animate\"}, {\"args\": [[\"2017\"], {\"frame\": {\"duration\": 0, \"redraw\": true}, \"fromcurrent\": true, \"mode\": \"immediate\", \"transition\": {\"duration\": 0, \"easing\": \"linear\"}}], \"label\": \"2017\", \"method\": \"animate\"}, {\"args\": [[\"2018\"], {\"frame\": {\"duration\": 0, \"redraw\": true}, \"fromcurrent\": true, \"mode\": \"immediate\", \"transition\": {\"duration\": 0, \"easing\": \"linear\"}}], \"label\": \"2018\", \"method\": \"animate\"}, {\"args\": [[\"2019\"], {\"frame\": {\"duration\": 0, \"redraw\": true}, \"fromcurrent\": true, \"mode\": \"immediate\", \"transition\": {\"duration\": 0, \"easing\": \"linear\"}}], \"label\": \"2019\", \"method\": \"animate\"}, {\"args\": [[\"2020\"], {\"frame\": {\"duration\": 0, \"redraw\": true}, \"fromcurrent\": true, \"mode\": \"immediate\", \"transition\": {\"duration\": 0, \"easing\": \"linear\"}}], \"label\": \"2020\", \"method\": \"animate\"}, {\"args\": [[\"2021\"], {\"frame\": {\"duration\": 0, \"redraw\": true}, \"fromcurrent\": true, \"mode\": \"immediate\", \"transition\": {\"duration\": 0, \"easing\": \"linear\"}}], \"label\": \"2021\", \"method\": \"animate\"}], \"x\": 0.1, \"xanchor\": \"left\", \"y\": 0, \"yanchor\": \"top\"}], \"template\": {\"data\": {\"bar\": [{\"error_x\": {\"color\": \"#2a3f5f\"}, \"error_y\": {\"color\": \"#2a3f5f\"}, \"marker\": {\"line\": {\"color\": \"#E5ECF6\", \"width\": 0.5}}, \"type\": \"bar\"}], \"barpolar\": [{\"marker\": {\"line\": {\"color\": \"#E5ECF6\", \"width\": 0.5}}, \"type\": \"barpolar\"}], \"carpet\": [{\"aaxis\": {\"endlinecolor\": \"#2a3f5f\", \"gridcolor\": \"white\", \"linecolor\": \"white\", \"minorgridcolor\": \"white\", \"startlinecolor\": \"#2a3f5f\"}, \"baxis\": {\"endlinecolor\": \"#2a3f5f\", \"gridcolor\": \"white\", \"linecolor\": \"white\", \"minorgridcolor\": \"white\", \"startlinecolor\": \"#2a3f5f\"}, \"type\": \"carpet\"}], \"choropleth\": [{\"colorbar\": {\"outlinewidth\": 0, \"ticks\": \"\"}, \"type\": \"choropleth\"}], \"contour\": [{\"colorbar\": {\"outlinewidth\": 0, \"ticks\": \"\"}, \"colorscale\": [[0.0, \"#0d0887\"], [0.1111111111111111, \"#46039f\"], [0.2222222222222222, \"#7201a8\"], [0.3333333333333333, \"#9c179e\"], [0.4444444444444444, \"#bd3786\"], [0.5555555555555556, \"#d8576b\"], [0.6666666666666666, \"#ed7953\"], [0.7777777777777778, \"#fb9f3a\"], [0.8888888888888888, \"#fdca26\"], [1.0, \"#f0f921\"]], \"type\": \"contour\"}], \"contourcarpet\": [{\"colorbar\": {\"outlinewidth\": 0, \"ticks\": \"\"}, \"type\": \"contourcarpet\"}], \"heatmap\": [{\"colorbar\": {\"outlinewidth\": 0, \"ticks\": \"\"}, \"colorscale\": [[0.0, \"#0d0887\"], [0.1111111111111111, \"#46039f\"], [0.2222222222222222, \"#7201a8\"], [0.3333333333333333, \"#9c179e\"], [0.4444444444444444, \"#bd3786\"], [0.5555555555555556, \"#d8576b\"], [0.6666666666666666, \"#ed7953\"], [0.7777777777777778, \"#fb9f3a\"], [0.8888888888888888, \"#fdca26\"], [1.0, \"#f0f921\"]], \"type\": \"heatmap\"}], \"heatmapgl\": [{\"colorbar\": {\"outlinewidth\": 0, \"ticks\": \"\"}, \"colorscale\": [[0.0, \"#0d0887\"], [0.1111111111111111, \"#46039f\"], [0.2222222222222222, \"#7201a8\"], [0.3333333333333333, \"#9c179e\"], [0.4444444444444444, \"#bd3786\"], [0.5555555555555556, \"#d8576b\"], [0.6666666666666666, \"#ed7953\"], [0.7777777777777778, \"#fb9f3a\"], [0.8888888888888888, \"#fdca26\"], [1.0, \"#f0f921\"]], \"type\": \"heatmapgl\"}], \"histogram\": [{\"marker\": {\"colorbar\": {\"outlinewidth\": 0, \"ticks\": \"\"}}, \"type\": \"histogram\"}], \"histogram2d\": [{\"colorbar\": {\"outlinewidth\": 0, \"ticks\": \"\"}, \"colorscale\": [[0.0, \"#0d0887\"], [0.1111111111111111, \"#46039f\"], [0.2222222222222222, \"#7201a8\"], [0.3333333333333333, \"#9c179e\"], [0.4444444444444444, \"#bd3786\"], [0.5555555555555556, \"#d8576b\"], [0.6666666666666666, \"#ed7953\"], [0.7777777777777778, \"#fb9f3a\"], [0.8888888888888888, \"#fdca26\"], [1.0, \"#f0f921\"]], \"type\": \"histogram2d\"}], \"histogram2dcontour\": [{\"colorbar\": {\"outlinewidth\": 0, \"ticks\": \"\"}, \"colorscale\": [[0.0, \"#0d0887\"], [0.1111111111111111, \"#46039f\"], [0.2222222222222222, \"#7201a8\"], [0.3333333333333333, \"#9c179e\"], [0.4444444444444444, \"#bd3786\"], [0.5555555555555556, \"#d8576b\"], [0.6666666666666666, \"#ed7953\"], [0.7777777777777778, \"#fb9f3a\"], [0.8888888888888888, \"#fdca26\"], [1.0, \"#f0f921\"]], \"type\": \"histogram2dcontour\"}], \"mesh3d\": [{\"colorbar\": {\"outlinewidth\": 0, \"ticks\": \"\"}, \"type\": \"mesh3d\"}], \"parcoords\": [{\"line\": {\"colorbar\": {\"outlinewidth\": 0, \"ticks\": \"\"}}, \"type\": \"parcoords\"}], \"pie\": [{\"automargin\": true, \"type\": \"pie\"}], \"scatter\": [{\"marker\": {\"colorbar\": {\"outlinewidth\": 0, \"ticks\": \"\"}}, \"type\": \"scatter\"}], \"scatter3d\": [{\"line\": {\"colorbar\": {\"outlinewidth\": 0, \"ticks\": \"\"}}, \"marker\": {\"colorbar\": {\"outlinewidth\": 0, \"ticks\": \"\"}}, \"type\": \"scatter3d\"}], \"scattercarpet\": [{\"marker\": {\"colorbar\": {\"outlinewidth\": 0, \"ticks\": \"\"}}, \"type\": \"scattercarpet\"}], \"scattergeo\": [{\"marker\": {\"colorbar\": {\"outlinewidth\": 0, \"ticks\": \"\"}}, \"type\": \"scattergeo\"}], \"scattergl\": [{\"marker\": {\"colorbar\": {\"outlinewidth\": 0, \"ticks\": \"\"}}, \"type\": \"scattergl\"}], \"scattermapbox\": [{\"marker\": {\"colorbar\": {\"outlinewidth\": 0, \"ticks\": \"\"}}, \"type\": \"scattermapbox\"}], \"scatterpolar\": [{\"marker\": {\"colorbar\": {\"outlinewidth\": 0, \"ticks\": \"\"}}, \"type\": \"scatterpolar\"}], \"scatterpolargl\": [{\"marker\": {\"colorbar\": {\"outlinewidth\": 0, \"ticks\": \"\"}}, \"type\": \"scatterpolargl\"}], \"scatterternary\": [{\"marker\": {\"colorbar\": {\"outlinewidth\": 0, \"ticks\": \"\"}}, \"type\": \"scatterternary\"}], \"surface\": [{\"colorbar\": {\"outlinewidth\": 0, \"ticks\": \"\"}, \"colorscale\": [[0.0, \"#0d0887\"], [0.1111111111111111, \"#46039f\"], [0.2222222222222222, \"#7201a8\"], [0.3333333333333333, \"#9c179e\"], [0.4444444444444444, \"#bd3786\"], [0.5555555555555556, \"#d8576b\"], [0.6666666666666666, \"#ed7953\"], [0.7777777777777778, \"#fb9f3a\"], [0.8888888888888888, \"#fdca26\"], [1.0, \"#f0f921\"]], \"type\": \"surface\"}], \"table\": [{\"cells\": {\"fill\": {\"color\": \"#EBF0F8\"}, \"line\": {\"color\": \"white\"}}, \"header\": {\"fill\": {\"color\": \"#C8D4E3\"}, \"line\": {\"color\": \"white\"}}, \"type\": \"table\"}]}, \"layout\": {\"annotationdefaults\": {\"arrowcolor\": \"#2a3f5f\", \"arrowhead\": 0, \"arrowwidth\": 1}, \"coloraxis\": {\"colorbar\": {\"outlinewidth\": 0, \"ticks\": \"\"}}, \"colorscale\": {\"diverging\": [[0, \"#8e0152\"], [0.1, \"#c51b7d\"], [0.2, \"#de77ae\"], [0.3, \"#f1b6da\"], [0.4, \"#fde0ef\"], [0.5, \"#f7f7f7\"], [0.6, \"#e6f5d0\"], [0.7, \"#b8e186\"], [0.8, \"#7fbc41\"], [0.9, \"#4d9221\"], [1, \"#276419\"]], \"sequential\": [[0.0, \"#0d0887\"], [0.1111111111111111, \"#46039f\"], [0.2222222222222222, \"#7201a8\"], [0.3333333333333333, \"#9c179e\"], [0.4444444444444444, \"#bd3786\"], [0.5555555555555556, \"#d8576b\"], [0.6666666666666666, \"#ed7953\"], [0.7777777777777778, \"#fb9f3a\"], [0.8888888888888888, \"#fdca26\"], [1.0, \"#f0f921\"]], \"sequentialminus\": [[0.0, \"#0d0887\"], [0.1111111111111111, \"#46039f\"], [0.2222222222222222, \"#7201a8\"], [0.3333333333333333, \"#9c179e\"], [0.4444444444444444, \"#bd3786\"], [0.5555555555555556, \"#d8576b\"], [0.6666666666666666, \"#ed7953\"], [0.7777777777777778, \"#fb9f3a\"], [0.8888888888888888, \"#fdca26\"], [1.0, \"#f0f921\"]]}, \"colorway\": [\"#636efa\", \"#EF553B\", \"#00cc96\", \"#ab63fa\", \"#FFA15A\", \"#19d3f3\", \"#FF6692\", \"#B6E880\", \"#FF97FF\", \"#FECB52\"], \"font\": {\"color\": \"#2a3f5f\"}, \"geo\": {\"bgcolor\": \"white\", \"lakecolor\": \"white\", \"landcolor\": \"#E5ECF6\", \"showlakes\": true, \"showland\": true, \"subunitcolor\": \"white\"}, \"hoverlabel\": {\"align\": \"left\"}, \"hovermode\": \"closest\", \"mapbox\": {\"style\": \"light\"}, \"paper_bgcolor\": \"white\", \"plot_bgcolor\": \"#E5ECF6\", \"polar\": {\"angularaxis\": {\"gridcolor\": \"white\", \"linecolor\": \"white\", \"ticks\": \"\"}, \"bgcolor\": \"#E5ECF6\", \"radialaxis\": {\"gridcolor\": \"white\", \"linecolor\": \"white\", \"ticks\": \"\"}}, \"scene\": {\"xaxis\": {\"backgroundcolor\": \"#E5ECF6\", \"gridcolor\": \"white\", \"gridwidth\": 2, \"linecolor\": \"white\", \"showbackground\": true, \"ticks\": \"\", \"zerolinecolor\": \"white\"}, \"yaxis\": {\"backgroundcolor\": \"#E5ECF6\", \"gridcolor\": \"white\", \"gridwidth\": 2, \"linecolor\": \"white\", \"showbackground\": true, \"ticks\": \"\", \"zerolinecolor\": \"white\"}, \"zaxis\": {\"backgroundcolor\": \"#E5ECF6\", \"gridcolor\": \"white\", \"gridwidth\": 2, \"linecolor\": \"white\", \"showbackground\": true, \"ticks\": \"\", \"zerolinecolor\": \"white\"}}, \"shapedefaults\": {\"line\": {\"color\": \"#2a3f5f\"}}, \"ternary\": {\"aaxis\": {\"gridcolor\": \"white\", \"linecolor\": \"white\", \"ticks\": \"\"}, \"baxis\": {\"gridcolor\": \"white\", \"linecolor\": \"white\", \"ticks\": \"\"}, \"bgcolor\": \"#E5ECF6\", \"caxis\": {\"gridcolor\": \"white\", \"linecolor\": \"white\", \"ticks\": \"\"}}, \"title\": {\"x\": 0.05}, \"xaxis\": {\"automargin\": true, \"gridcolor\": \"white\", \"linecolor\": \"white\", \"ticks\": \"\", \"title\": {\"standoff\": 15}, \"zerolinecolor\": \"white\", \"zerolinewidth\": 2}, \"yaxis\": {\"automargin\": true, \"gridcolor\": \"white\", \"linecolor\": \"white\", \"ticks\": \"\", \"title\": {\"standoff\": 15}, \"zerolinecolor\": \"white\", \"zerolinewidth\": 2}}}, \"updatemenus\": [{\"buttons\": [{\"args\": [null, {\"frame\": {\"duration\": 500, \"redraw\": true}, \"fromcurrent\": true, \"mode\": \"immediate\", \"transition\": {\"duration\": 500, \"easing\": \"linear\"}}], \"label\": \"&#9654;\", \"method\": \"animate\"}, {\"args\": [[null], {\"frame\": {\"duration\": 0, \"redraw\": true}, \"fromcurrent\": true, \"mode\": \"immediate\", \"transition\": {\"duration\": 0, \"easing\": \"linear\"}}], \"label\": \"&#9724;\", \"method\": \"animate\"}], \"direction\": \"left\", \"pad\": {\"r\": 10, \"t\": 70}, \"showactive\": false, \"type\": \"buttons\", \"x\": 0.1, \"xanchor\": \"right\", \"y\": 0, \"yanchor\": \"top\"}], \"width\": 800},\n",
              "                        {\"responsive\": true}\n",
              "                    ).then(function(){\n",
              "                            Plotly.addFrames('46e78b3e-fddd-49af-8edd-4f54a6567ce8', [{\"data\": [{\"coloraxis\": \"coloraxis\", \"geo\": \"geo\", \"hoverlabel\": {\"namelength\": 0}, \"hovertemplate\": \"year=2014<br>State Occurred=%{location}<br>count=%{z}\", \"ids\": [\"MD\", \"HI\", \"PA\", \"AK\", \"WY\", \"CO\", \"ID\", \"FL\", \"AR\", \"WA\", \"NM\", \"WI\", \"VA\", \"GA\", \"MI\", \"WV\", \"MO\", \"NC\", \"IA\", \"MS\", \"LA\", \"SC\", \"NV\", \"AZ\", \"AL\", \"MT\", \"KS\", \"OH\", \"OK\", \"NE\", \"UT\", \"IL\", \"KY\", \"NH\", \"SD\", \"NJ\", \"TX\", \"OR\", \"TN\", \"CA\", \"NY\", \"ND\", \"MN\", \"PR\", \"ME\"], \"locationmode\": \"USA-states\", \"locations\": [\"MD\", \"HI\", \"PA\", \"AK\", \"WY\", \"CO\", \"ID\", \"FL\", \"AR\", \"WA\", \"NM\", \"WI\", \"VA\", \"GA\", \"MI\", \"WV\", \"MO\", \"NC\", \"IA\", \"MS\", \"LA\", \"SC\", \"NV\", \"AZ\", \"AL\", \"MT\", \"KS\", \"OH\", \"OK\", \"NE\", \"UT\", \"IL\", \"KY\", \"NH\", \"SD\", \"NJ\", \"TX\", \"OR\", \"TN\", \"CA\", \"NY\", \"ND\", \"MN\", \"PR\", \"ME\"], \"name\": \"\", \"z\": [3, 2, 16, 377, 320, 619, 993, 183, 15, 827, 517, 11, 14, 25, 66, 1, 7, 49, 4, 65, 44, 21, 529, 948, 32, 840, 4, 12, 109, 12, 909, 3, 21, 2, 367, 2, 39, 2164, 6, 2106, 10, 235, 115, 28, 1], \"type\": \"choropleth\"}], \"name\": \"2014\"}, {\"data\": [{\"coloraxis\": \"coloraxis\", \"geo\": \"geo\", \"hoverlabel\": {\"namelength\": 0}, \"hovertemplate\": \"year=2015<br>State Occurred=%{location}<br>count=%{z}\", \"ids\": [\"NV\", \"PR\", \"SD\", \"OH\", \"ID\", \"OK\", \"KY\", \"VA\", \"MS\", \"WV\", \"WY\", \"VT\", \"NC\", \"GA\", \"MA\", \"MT\", \"MD\", \"MI\", \"IN\", \"SC\", \"ND\", \"IL\", \"UT\", \"WI\", \"NE\", \"OR\", \"PA\", \"CA\", \"AK\", \"HI\", \"MO\", \"AZ\", \"AL\", \"FL\", \"NJ\", \"DC\", \"NH\", \"LA\", \"NM\", \"TN\", \"TX\", \"WA\", \"IA\", \"CO\", \"AR\", \"KS\", \"MN\", \"NY\", \"ME\"], \"locationmode\": \"USA-states\", \"locations\": [\"NV\", \"PR\", \"SD\", \"OH\", \"ID\", \"OK\", \"KY\", \"VA\", \"MS\", \"WV\", \"WY\", \"VT\", \"NC\", \"GA\", \"MA\", \"MT\", \"MD\", \"MI\", \"IN\", \"SC\", \"ND\", \"IL\", \"UT\", \"WI\", \"NE\", \"OR\", \"PA\", \"CA\", \"AK\", \"HI\", \"MO\", \"AZ\", \"AL\", \"FL\", \"NJ\", \"DC\", \"NH\", \"LA\", \"NM\", \"TN\", \"TX\", \"WA\", \"IA\", \"CO\", \"AR\", \"KS\", \"MN\", \"NY\", \"ME\"], \"name\": \"\", \"z\": [548, 45, 644, 39, 1329, 520, 54, 61, 240, 39, 530, 2, 91, 46, 4, 1755, 9, 182, 11, 34, 669, 18, 927, 58, 49, 1924, 31, 2626, 781, 5, 83, 1647, 44, 358, 6, 2, 4, 34, 633, 24, 759, 1258, 24, 776, 136, 61, 632, 36, 6], \"type\": \"choropleth\"}], \"name\": \"2015\"}, {\"data\": [{\"coloraxis\": \"coloraxis\", \"geo\": \"geo\", \"hoverlabel\": {\"namelength\": 0}, \"hovertemplate\": \"year=2016<br>State Occurred=%{location}<br>count=%{z}\", \"ids\": [\"MI\", \"VA\", \"UT\", \"FL\", \"WY\", \"NM\", \"OK\", \"MS\", \"HI\", \"SD\", \"WV\", \"SC\", \"CT\", \"TX\", \"CA\", \"OR\", \"KY\", \"NV\", \"NH\", \"PA\", \"OH\", \"LA\", \"AK\", \"MD\", \"MN\", \"KS\", \"ID\", \"NC\", \"IL\", \"AL\", \"CO\", \"DC\", \"ND\", \"NE\", \"TN\", \"ME\", \"VT\", \"IN\", \"MT\", \"NJ\", \"IA\", \"MA\", \"MO\", \"AR\", \"NY\", \"GA\", \"WI\", \"AZ\", \"WA\", \"PR\"], \"locationmode\": \"USA-states\", \"locations\": [\"MI\", \"VA\", \"UT\", \"FL\", \"WY\", \"NM\", \"OK\", \"MS\", \"HI\", \"SD\", \"WV\", \"SC\", \"CT\", \"TX\", \"CA\", \"OR\", \"KY\", \"NV\", \"NH\", \"PA\", \"OH\", \"LA\", \"AK\", \"MD\", \"MN\", \"KS\", \"ID\", \"NC\", \"IL\", \"AL\", \"CO\", \"DC\", \"ND\", \"NE\", \"TN\", \"ME\", \"VT\", \"IN\", \"MT\", \"NJ\", \"IA\", \"MA\", \"MO\", \"AR\", \"NY\", \"GA\", \"WI\", \"AZ\", \"WA\", \"PR\"], \"name\": \"\", \"z\": [164, 118, 1174, 399, 716, 1118, 822, 255, 8, 893, 68, 56, 3, 833, 1741, 1110, 196, 442, 16, 33, 31, 45, 606, 15, 639, 90, 733, 200, 14, 133, 1112, 3, 564, 52, 188, 603, 8, 20, 1313, 12, 15, 5, 166, 170, 46, 113, 21, 2175, 957, 29], \"type\": \"choropleth\"}], \"name\": \"2016\"}, {\"data\": [{\"coloraxis\": \"coloraxis\", \"geo\": \"geo\", \"hoverlabel\": {\"namelength\": 0}, \"hovertemplate\": \"year=2017<br>State Occurred=%{location}<br>count=%{z}\", \"ids\": [\"KS\", \"WA\", \"SD\", \"OK\", \"CO\", \"PR\", \"VT\", \"NY\", \"MS\", \"ND\", \"NE\", \"WV\", \"AL\", \"TN\", \"ID\", \"NJ\", \"DC\", \"HI\", \"GA\", \"MA\", \"CA\", \"ME\", \"FL\", \"IA\", \"UT\", \"WY\", \"MN\", \"WI\", \"LA\", \"AK\", \"MO\", \"AZ\", \"DE\", \"PA\", \"AR\", \"TX\", \"IL\", \"NV\", \"CT\", \"VA\", \"OH\", \"MI\", \"KY\", \"NM\", \"SC\", \"MT\", \"NC\", \"IN\", \"OR\", \"NH\", \"MD\"], \"locationmode\": \"USA-states\", \"locations\": [\"KS\", \"WA\", \"SD\", \"OK\", \"CO\", \"PR\", \"VT\", \"NY\", \"MS\", \"ND\", \"NE\", \"WV\", \"AL\", \"TN\", \"ID\", \"NJ\", \"DC\", \"HI\", \"GA\", \"MA\", \"CA\", \"ME\", \"FL\", \"IA\", \"UT\", \"WY\", \"MN\", \"WI\", \"LA\", \"AK\", \"MO\", \"AZ\", \"DE\", \"PA\", \"AR\", \"TX\", \"IL\", \"NV\", \"CT\", \"VA\", \"OH\", \"MI\", \"KY\", \"NM\", \"SC\", \"MT\", \"NC\", \"IN\", \"OR\", \"NH\", \"MD\"], \"name\": \"\", \"z\": [72, 1127, 971, 880, 912, 30, 12, 20, 228, 831, 53, 28, 53, 50, 1649, 6, 10, 8, 38, 1, 4718, 514, 377, 20, 1288, 908, 495, 26, 47, 373, 188, 2289, 1, 37, 188, 959, 32, 770, 1, 61, 73, 134, 96, 879, 116, 2031, 93, 31, 1932, 5, 15], \"type\": \"choropleth\"}], \"name\": \"2017\"}, {\"data\": [{\"coloraxis\": \"coloraxis\", \"geo\": \"geo\", \"hoverlabel\": {\"namelength\": 0}, \"hovertemplate\": \"year=2018<br>State Occurred=%{location}<br>count=%{z}\", \"ids\": [\"MS\", \"SD\", \"PR\", \"FL\", \"PA\", \"OR\", \"DE\", \"ND\", \"MD\", \"AK\", \"WI\", \"TX\", \"OK\", \"SC\", \"WA\", \"NE\", \"AL\", \"NH\", \"NC\", \"CA\", \"MN\", \"CO\", \"IA\", \"KY\", \"WY\", \"NV\", \"IL\", \"MA\", \"UT\", \"ID\", \"KS\", \"TN\", \"NY\", \"IN\", \"OH\", \"ME\", \"VA\", \"AZ\", \"MT\", \"NM\", \"NJ\", \"MI\", \"MO\", \"HI\", \"DC\", \"VT\", \"GA\", \"WV\", \"AR\", \"LA\"], \"locationmode\": \"USA-states\", \"locations\": [\"MS\", \"SD\", \"PR\", \"FL\", \"PA\", \"OR\", \"DE\", \"ND\", \"MD\", \"AK\", \"WI\", \"TX\", \"OK\", \"SC\", \"WA\", \"NE\", \"AL\", \"NH\", \"NC\", \"CA\", \"MN\", \"CO\", \"IA\", \"KY\", \"WY\", \"NV\", \"IL\", \"MA\", \"UT\", \"ID\", \"KS\", \"TN\", \"NY\", \"IN\", \"OH\", \"ME\", \"VA\", \"AZ\", \"MT\", \"NM\", \"NJ\", \"MI\", \"MO\", \"HI\", \"DC\", \"VT\", \"GA\", \"WV\", \"AR\", \"LA\"], \"name\": \"\", \"z\": [138, 387, 35, 277, 31, 1612, 1, 910, 4, 380, 45, 1088, 821, 92, 1475, 43, 82, 15, 78, 4124, 678, 1380, 21, 40, 1212, 634, 37, 1, 1383, 1227, 71, 20, 13, 22, 81, 9, 59, 2099, 1352, 1324, 6, 217, 116, 5, 1, 14, 38, 20, 117, 121], \"type\": \"choropleth\"}], \"name\": \"2018\"}, {\"data\": [{\"coloraxis\": \"coloraxis\", \"geo\": \"geo\", \"hoverlabel\": {\"namelength\": 0}, \"hovertemplate\": \"year=2019<br>State Occurred=%{location}<br>count=%{z}\", \"ids\": [\"NY\", \"SD\", \"MA\", \"AL\", \"AR\", \"VA\", \"MI\", \"IL\", \"CA\", \"UT\", \"NM\", \"MN\", \"ND\", \"KY\", \"OR\", \"MT\", \"MO\", \"NE\", \"SC\", \"NV\", \"OK\", \"WY\", \"TX\", \"ID\", \"NH\", \"PA\", \"KS\", \"FL\", \"PR\", \"LA\", \"NJ\", \"DC\", \"WI\", \"AZ\", \"IN\", \"AK\", \"WA\", \"TN\", \"CO\", \"OH\", \"HI\", \"ME\", \"WV\", \"MS\", \"VT\", \"IA\", \"NC\", \"MD\", \"GA\"], \"locationmode\": \"USA-states\", \"locations\": [\"NY\", \"SD\", \"MA\", \"AL\", \"AR\", \"VA\", \"MI\", \"IL\", \"CA\", \"UT\", \"NM\", \"MN\", \"ND\", \"KY\", \"OR\", \"MT\", \"MO\", \"NE\", \"SC\", \"NV\", \"OK\", \"WY\", \"TX\", \"ID\", \"NH\", \"PA\", \"KS\", \"FL\", \"PR\", \"LA\", \"NJ\", \"DC\", \"WI\", \"AZ\", \"IN\", \"AK\", \"WA\", \"TN\", \"CO\", \"OH\", \"HI\", \"ME\", \"WV\", \"MS\", \"VT\", \"IA\", \"NC\", \"MD\", \"GA\"], \"name\": \"\", \"z\": [14, 286, 3, 220, 254, 78, 235, 87, 6536, 1147, 1005, 1184, 891, 215, 1907, 1898, 117, 58, 142, 588, 694, 1018, 711, 1152, 12, 24, 45, 2086, 32, 98, 8, 2, 69, 2190, 39, 726, 1627, 102, 1066, 78, 3, 6, 32, 208, 26, 149, 95, 16, 56], \"type\": \"choropleth\"}], \"name\": \"2019\"}, {\"data\": [{\"coloraxis\": \"coloraxis\", \"geo\": \"geo\", \"hoverlabel\": {\"namelength\": 0}, \"hovertemplate\": \"year=2020<br>State Occurred=%{location}<br>count=%{z}\", \"ids\": [\"NH\", \"NJ\", \"IL\", \"NY\", \"AZ\", \"OH\", \"OK\", \"UT\", \"NC\", \"TX\", \"FL\", \"LA\", \"GA\", \"ND\", \"CO\", \"NM\", \"VA\", \"DC\", \"AR\", \"ME\", \"NV\", \"WV\", \"MT\", \"MD\", \"MI\", \"MN\", \"PR\", \"KS\", \"NE\", \"WA\", \"CA\", \"SC\", \"AL\", \"MO\", \"VT\", \"PA\", \"HI\", \"WI\", \"MS\", \"WY\", \"MA\", \"IN\", \"AK\", \"TN\", \"SD\", \"ID\", \"IA\", \"KY\", \"GU\", \"OR\"], \"locationmode\": \"USA-states\", \"locations\": [\"NH\", \"NJ\", \"IL\", \"NY\", \"AZ\", \"OH\", \"OK\", \"UT\", \"NC\", \"TX\", \"FL\", \"LA\", \"GA\", \"ND\", \"CO\", \"NM\", \"VA\", \"DC\", \"AR\", \"ME\", \"NV\", \"WV\", \"MT\", \"MD\", \"MI\", \"MN\", \"PR\", \"KS\", \"NE\", \"WA\", \"CA\", \"SC\", \"AL\", \"MO\", \"VT\", \"PA\", \"HI\", \"WI\", \"MS\", \"WY\", \"MA\", \"IN\", \"AK\", \"TN\", \"SD\", \"ID\", \"IA\", \"KY\", \"GU\", \"OR\"], \"name\": \"\", \"z\": [43, 15, 78, 26, 2546, 78, 793, 1598, 85, 940, 457, 121, 47, 1464, 1201, 1176, 85, 2, 197, 1157, 778, 22, 2411, 6, 237, 590, 13, 63, 75, 1698, 10822, 162, 162, 156, 6, 34, 3, 45, 316, 1695, 5, 45, 355, 60, 930, 1000, 14, 61, 2, 1764], \"type\": \"choropleth\"}], \"name\": \"2020\"}, {\"data\": [{\"coloraxis\": \"coloraxis\", \"geo\": \"geo\", \"hoverlabel\": {\"namelength\": 0}, \"hovertemplate\": \"year=2021<br>State Occurred=%{location}<br>count=%{z}\", \"ids\": [\"CO\", \"UT\", \"ND\", \"MD\", \"IA\", \"IL\", \"WV\", \"KS\", \"MO\", \"AR\", \"IN\", \"VA\", \"TX\", \"OK\", \"MS\", \"NM\", \"SD\", \"OH\", \"AL\", \"MT\", \"TN\", \"GA\", \"NC\", \"AZ\", \"MN\", \"WA\", \"NV\", \"FL\", \"ID\", \"PA\", \"KY\", \"SC\", \"CA\", \"NJ\", \"NE\", \"MI\", \"LA\", \"OR\", \"WY\", \"DC\", \"NH\", \"VT\", \"AK\", \"MA\", \"PR\", \"HI\", \"NY\", \"WI\", \"ME\"], \"locationmode\": \"USA-states\", \"locations\": [\"CO\", \"UT\", \"ND\", \"MD\", \"IA\", \"IL\", \"WV\", \"KS\", \"MO\", \"AR\", \"IN\", \"VA\", \"TX\", \"OK\", \"MS\", \"NM\", \"SD\", \"OH\", \"AL\", \"MT\", \"TN\", \"GA\", \"NC\", \"AZ\", \"MN\", \"WA\", \"NV\", \"FL\", \"ID\", \"PA\", \"KY\", \"SC\", \"CA\", \"NJ\", \"NE\", \"MI\", \"LA\", \"OR\", \"WY\", \"DC\", \"NH\", \"VT\", \"AK\", \"MA\", \"PR\", \"HI\", \"NY\", \"WI\", \"ME\"], \"name\": \"\", \"z\": [1094, 1185, 1977, 13, 13, 158, 53, 88, 187, 235, 59, 41, 748, 869, 315, 973, 955, 58, 196, 2928, 86, 57, 86, 1665, 2226, 1941, 599, 354, 1380, 62, 114, 113, 11751, 15, 109, 231, 95, 1739, 1211, 5, 10, 5, 403, 15, 5, 7, 15, 101, 649], \"type\": \"choropleth\"}], \"name\": \"2021\"}]);\n",
              "                        }).then(function(){\n",
              "                            \n",
              "var gd = document.getElementById('46e78b3e-fddd-49af-8edd-4f54a6567ce8');\n",
              "var x = new MutationObserver(function (mutations, observer) {{\n",
              "        var display = window.getComputedStyle(gd).display;\n",
              "        if (!display || display === 'none') {{\n",
              "            console.log([gd, 'removed!']);\n",
              "            Plotly.purge(gd);\n",
              "            observer.disconnect();\n",
              "        }}\n",
              "}});\n",
              "\n",
              "// Listen for the removal of the full notebook cells\n",
              "var notebookContainer = gd.closest('#notebook-container');\n",
              "if (notebookContainer) {{\n",
              "    x.observe(notebookContainer, {childList: true});\n",
              "}}\n",
              "\n",
              "// Listen for the clearing of the current output cell\n",
              "var outputEl = gd.closest('.output');\n",
              "if (outputEl) {{\n",
              "    x.observe(outputEl, {childList: true});\n",
              "}}\n",
              "\n",
              "                        })\n",
              "                };\n",
              "                \n",
              "            </script>\n",
              "        </div>\n",
              "</body>\n",
              "</html>"
            ]
          },
          "metadata": {}
        }
      ]
    },
    {
      "cell_type": "markdown",
      "metadata": {
        "id": "WEWVNe4nFtRp"
      },
      "source": [
        "**Findings** : From the above, figure, we see a general rise in wildfire occurences over the years. The west coast has consistently had the highest number of fires over the years. Originally the majority of fires had been originating in the west coast, but states east of it have steadily seen increasing occurences.In 2021, midwestern states such as North Dakota and Minnesota have had fire counts similar to those of western states in 2014 and 2015. It should be noted that data for 2021 is incomplete, so there may still be a gradual increase in fire count over the year."
      ]
    },
    {
      "cell_type": "markdown",
      "source": [
        "Acres Burned In Historical Data Across the US"
      ],
      "metadata": {
        "id": "cHDuNKhollOm"
      }
    },
    {
      "cell_type": "code",
      "source": [
        "#Primarily tracks historical fire Perimeters from 2000-2018\n",
        "oldPerimData = spark.read.option(\"header\",True) \\\n",
        ".option(\"inferSchema\", True) \\\n",
        ".csv(\"Historic_GeoMAC_Perimeters_Combined_2000-2018.csv\")"
      ],
      "metadata": {
        "id": "CehAWHL6P5R4"
      },
      "execution_count": null,
      "outputs": []
    },
    {
      "cell_type": "code",
      "source": [
        "#Meaningful data is cleaned and selected\n",
        "oldPerimTime = oldPerimData.select((oldPerimData[\"state\"]).alias(\"State Occurred\"),\n",
        "                             oldPerimData[\"gisacres\"].alias(\"area(acres)\"),\n",
        "                             oldPerimData['fireyear'].alias(\"year\"))\n",
        "oldPerimTime = oldPerimTime.filter(oldPerimTime[\"year\"].isNotNull())\n",
        "oldPerimTime = oldPerimTime.filter(oldPerimTime[\"year\"].cast(\"int\").isNotNull())"
      ],
      "metadata": {
        "id": "Bq8TNUhgh9H_"
      },
      "execution_count": null,
      "outputs": []
    },
    {
      "cell_type": "code",
      "source": [
        "oldOverall = oldPerimTime.groupBy(\"year\").agg(sum('area(acres)').alias(\"area (acres)\")).orderBy(\"year\")"
      ],
      "metadata": {
        "id": "7LsasJiYjA6M"
      },
      "execution_count": null,
      "outputs": []
    },
    {
      "cell_type": "code",
      "metadata": {
        "id": "kDBw2mZe8lAb"
      },
      "source": [
        "#The Data in this csv primarily tracks the area of each recorded fire; data is mostly available for 2020 and 2021.\n",
        "perimData = spark.read.option(\"header\",True) \\\n",
        ".option(\"inferSchema\", True) \\\n",
        ".csv(\"WFIGS_-_Wildland_Fire_Perimeters_Full_History.csv\")"
      ],
      "execution_count": null,
      "outputs": []
    },
    {
      "cell_type": "code",
      "source": [
        "#Data similar to columns found in oldPerimTime is cleaned and selected here.\n",
        "recentTime = perimData.select(substring(perimData[\"irwin_POOState\"],4,6).alias(\"State Occurred\"),\n",
        "                             perimData[\"poly_Acres_AutoCalc\"].alias(\"area(acres)\"),\n",
        "                             substring(perimData['irwin_ContainmentDateTime'],0,4).alias(\"year\"))\n",
        "recentTime = recentTime.filter(recentTime[\"year\"].isNotNull())"
      ],
      "metadata": {
        "id": "Pvo6CVWUnRop"
      },
      "execution_count": null,
      "outputs": []
    },
    {
      "cell_type": "code",
      "source": [
        "recentOverall = recentTime.groupBy(\"year\").agg(sum('area(acres)').alias(\"area (acres)\")).orderBy(\"year\")\n",
        "recentOverall = recentOverall.filter((recentOverall[\"year\"] == 2020) | (recentOverall[\"year\"]  == 2021))"
      ],
      "metadata": {
        "id": "8hLEEnsmneF-"
      },
      "execution_count": null,
      "outputs": []
    },
    {
      "cell_type": "code",
      "source": [
        "recentOverall.show()"
      ],
      "metadata": {
        "id": "HqDozCXwnqum"
      },
      "execution_count": null,
      "outputs": []
    },
    {
      "cell_type": "code",
      "source": [
        "combinedOverall = oldOverall.union(recentOverall)"
      ],
      "metadata": {
        "id": "wEJRdcqHoI-_"
      },
      "execution_count": null,
      "outputs": []
    },
    {
      "cell_type": "code",
      "source": [
        "yearMonth = combinedOverall.select(\"year\").rdd.flatMap(lambda x: x).collect()\n",
        "areaDamage = combinedOverall.select(\"area (acres)\").rdd.flatMap(lambda x: x).collect()\n",
        "ticks = [0,5,10,15,20]\n",
        "plt.plot(yearMonth,areaDamage)\n",
        "plt.xticks(ticks)\n",
        "plt.xlabel(\"Year\")\n",
        "plt.ylabel(\"Area Affected (acres)\")\n",
        "plt.title(\"Wildfire Damage from 2000-2021\")"
      ],
      "metadata": {
        "colab": {
          "base_uri": "https://localhost:8080/",
          "height": 312
        },
        "id": "ten620kYjghc",
        "outputId": "3beb71ed-64ec-4e52-e8af-230136d5a6b5"
      },
      "execution_count": null,
      "outputs": [
        {
          "output_type": "execute_result",
          "data": {
            "text/plain": [
              "Text(0.5, 1.0, 'Wildfire Damage from 2000-2021')"
            ]
          },
          "metadata": {},
          "execution_count": 102
        },
        {
          "output_type": "display_data",
          "data": {
            "image/png": "[encoded data removed]",
            "text/plain": [
              "<Figure size 432x288 with 1 Axes>"
            ]
          },
          "metadata": {
            "needs_background": "light"
          }
        }
      ]
    },
    {
      "cell_type": "markdown",
      "source": [
        "**Findings**: In the above figure, it is found that the total area damaged by wildfires has been inconsistent throughout the past two decades; while fires are increasing in frequency, the area affected does not necessarily increase."
      ],
      "metadata": {
        "id": "pR1M9X4Esd13"
      }
    },
    {
      "cell_type": "markdown",
      "metadata": {
        "id": "DGzaRUAX5anq"
      },
      "source": [
        "Total Area Burned Per State"
      ]
    },
    {
      "cell_type": "code",
      "source": [
        "damagePerState = oldPerimTime.union(recentTime)"
      ],
      "metadata": {
        "id": "6kscR0orpMZq"
      },
      "execution_count": null,
      "outputs": []
    },
    {
      "cell_type": "code",
      "source": [
        "damagePerStateOverall= damagePerState.groupBy(\"State Occurred\").agg(sum('area(acres)').alias(\"total area burned (acres)\"))"
      ],
      "metadata": {
        "id": "g725XMuHqRlD"
      },
      "execution_count": null,
      "outputs": []
    },
    {
      "cell_type": "code",
      "metadata": {
        "colab": {
          "base_uri": "https://localhost:8080/",
          "height": 617
        },
        "id": "LerqDjoRV7NT",
        "outputId": "3bcbfe22-d6fb-47fa-b74a-3d672ad29820"
      },
      "source": [
        "import plotly.express as px\n",
        "import pandas as pd\n",
        "fig = px.choropleth(damagePerStateOverall.toPandas(), locations='State Occurred',locationmode = \"USA-states\",color = \"total area burned (acres)\", \n",
        "                    scope='usa')\n",
        "fig.update_layout(\n",
        "    width=800,\n",
        "    height=600)\n",
        "\n",
        "fig.show()"
      ],
      "execution_count": null,
      "outputs": [
        {
          "output_type": "display_data",
          "data": {
            "text/html": [
              "<html>\n",
              "<head><meta charset=\"utf-8\" /></head>\n",
              "<body>\n",
              "    <div>\n",
              "            <script src=\"https://cdnjs.cloudflare.com/ajax/libs/mathjax/2.7.5/MathJax.js?config=TeX-AMS-MML_SVG\"></script><script type=\"text/javascript\">if (window.MathJax) {MathJax.Hub.Config({SVG: {font: \"STIX-Web\"}});}</script>\n",
              "                <script type=\"text/javascript\">window.PlotlyConfig = {MathJaxConfig: 'local'};</script>\n",
              "        <script src=\"https://cdn.plot.ly/plotly-latest.min.js\"></script>    \n",
              "            <div id=\"0e21ae3a-cc87-4c31-b64c-dc7c52f5dd18\" class=\"plotly-graph-div\" style=\"height:600px; width:800px;\"></div>\n",
              "            <script type=\"text/javascript\">\n",
              "                \n",
              "                    window.PLOTLYENV=window.PLOTLYENV || {};\n",
              "                    \n",
              "                if (document.getElementById(\"0e21ae3a-cc87-4c31-b64c-dc7c52f5dd18\")) {\n",
              "                    Plotly.newPlot(\n",
              "                        '0e21ae3a-cc87-4c31-b64c-dc7c52f5dd18',\n",
              "                        [{\"coloraxis\": \"coloraxis\", \"geo\": \"geo\", \"hoverlabel\": {\"namelength\": 0}, \"hovertemplate\": \"State Occurred=%{location}<br>total area burned (acres)=%{z}\", \"locationmode\": \"USA-states\", \"locations\": [\"AZ\", \"SC\", \"LA\", \"MN\", \"OR\", \"VA\", \"IF\", \"WY\", \"KY\", \"NH\", \"MI\", \"NV\", \"WI\", \"ID\", \"CA\", \"NE\", \"CT\", \"MT\", \"NC\", \"VT\", \"HL\", \"MO\", \"IL\", \"WA\", \"ND\", \"MS\", \"AL\", \"OH\", \"TN\", \"NM\", \"PA\", \"SD\", \"NY\", \"TX\", \"Ut\", \"WV\", \"GA\", \"AS\", \"KS\", \"CO\", \"FL\", \"AK\", \"AR\", \"OK\", \"PR\", \"UT\", \"HI\", \"NJ\", \"ME\", \"IN\", \"CH\", \"IA\", \"MA\", null], \"name\": \"\", \"type\": \"choropleth\", \"z\": [5860421.811103806, 36742.18545909927, 87501.03344842567, 352977.7449421508, 11295624.367230698, 98612.88982369212, 305.70237528, 2348889.7566466285, 12301.573549707115, 398.6561671007091, 39316.68639970022, 8494546.71367259, 476.65046777904837, 13350735.981820626, 18241849.532645904, 382073.8208796402, 13.18449887, 8335349.638394458, 248643.937202959, 19.47552317194873, 12.39398134, 18097.06209849584, 391.5807059442033, 6722315.83852236, 80021.46859237728, 27032.90691317478, 19691.90616053529, 443.84357362760596, 58050.98099938342, 3703490.8871509717, 8115.65321554673, 469732.113937442, 262.36284616881886, 4419581.016207904, 533.96968626, 2741.4347080087996, 1157421.154211907, 3842.11537272, 18134.354078097633, 2473169.6856779144, 1098612.8540379049, 29077753.992407754, 26407.55308787182, 1310057.7107400533, 1490.97680793, 3580525.0161260255, 10101.061485802806, 0.300317900455422, 404.8118641290271, 168.47063410565082, 8.51815441321969, 258.8748881586701, 0.3538963515825049, null]}],\n",
              "                        {\"coloraxis\": {\"colorbar\": {\"title\": {\"text\": \"total area burned (acres)\"}}, \"colorscale\": [[0.0, \"#0d0887\"], [0.1111111111111111, \"#46039f\"], [0.2222222222222222, \"#7201a8\"], [0.3333333333333333, \"#9c179e\"], [0.4444444444444444, \"#bd3786\"], [0.5555555555555556, \"#d8576b\"], [0.6666666666666666, \"#ed7953\"], [0.7777777777777778, \"#fb9f3a\"], [0.8888888888888888, \"#fdca26\"], [1.0, \"#f0f921\"]]}, \"geo\": {\"center\": {}, \"domain\": {\"x\": [0.0, 1.0], \"y\": [0.0, 1.0]}, \"scope\": \"usa\"}, \"height\": 600, \"legend\": {\"tracegroupgap\": 0}, \"margin\": {\"t\": 60}, \"template\": {\"data\": {\"bar\": [{\"error_x\": {\"color\": \"#2a3f5f\"}, \"error_y\": {\"color\": \"#2a3f5f\"}, \"marker\": {\"line\": {\"color\": \"#E5ECF6\", \"width\": 0.5}}, \"type\": \"bar\"}], \"barpolar\": [{\"marker\": {\"line\": {\"color\": \"#E5ECF6\", \"width\": 0.5}}, \"type\": \"barpolar\"}], \"carpet\": [{\"aaxis\": {\"endlinecolor\": \"#2a3f5f\", \"gridcolor\": \"white\", \"linecolor\": \"white\", \"minorgridcolor\": \"white\", \"startlinecolor\": \"#2a3f5f\"}, \"baxis\": {\"endlinecolor\": \"#2a3f5f\", \"gridcolor\": \"white\", \"linecolor\": \"white\", \"minorgridcolor\": \"white\", \"startlinecolor\": \"#2a3f5f\"}, \"type\": \"carpet\"}], \"choropleth\": [{\"colorbar\": {\"outlinewidth\": 0, \"ticks\": \"\"}, \"type\": \"choropleth\"}], \"contour\": [{\"colorbar\": {\"outlinewidth\": 0, \"ticks\": \"\"}, \"colorscale\": [[0.0, \"#0d0887\"], [0.1111111111111111, \"#46039f\"], [0.2222222222222222, \"#7201a8\"], [0.3333333333333333, \"#9c179e\"], [0.4444444444444444, \"#bd3786\"], [0.5555555555555556, \"#d8576b\"], [0.6666666666666666, \"#ed7953\"], [0.7777777777777778, \"#fb9f3a\"], [0.8888888888888888, \"#fdca26\"], [1.0, \"#f0f921\"]], \"type\": \"contour\"}], \"contourcarpet\": [{\"colorbar\": {\"outlinewidth\": 0, \"ticks\": \"\"}, \"type\": \"contourcarpet\"}], \"heatmap\": [{\"colorbar\": {\"outlinewidth\": 0, \"ticks\": \"\"}, \"colorscale\": [[0.0, \"#0d0887\"], [0.1111111111111111, \"#46039f\"], [0.2222222222222222, \"#7201a8\"], [0.3333333333333333, \"#9c179e\"], [0.4444444444444444, \"#bd3786\"], [0.5555555555555556, \"#d8576b\"], [0.6666666666666666, \"#ed7953\"], [0.7777777777777778, \"#fb9f3a\"], [0.8888888888888888, \"#fdca26\"], [1.0, \"#f0f921\"]], \"type\": \"heatmap\"}], \"heatmapgl\": [{\"colorbar\": {\"outlinewidth\": 0, \"ticks\": \"\"}, \"colorscale\": [[0.0, \"#0d0887\"], [0.1111111111111111, \"#46039f\"], [0.2222222222222222, \"#7201a8\"], [0.3333333333333333, \"#9c179e\"], [0.4444444444444444, \"#bd3786\"], [0.5555555555555556, \"#d8576b\"], [0.6666666666666666, \"#ed7953\"], [0.7777777777777778, \"#fb9f3a\"], [0.8888888888888888, \"#fdca26\"], [1.0, \"#f0f921\"]], \"type\": \"heatmapgl\"}], \"histogram\": [{\"marker\": {\"colorbar\": {\"outlinewidth\": 0, \"ticks\": \"\"}}, \"type\": \"histogram\"}], \"histogram2d\": [{\"colorbar\": {\"outlinewidth\": 0, \"ticks\": \"\"}, \"colorscale\": [[0.0, \"#0d0887\"], [0.1111111111111111, \"#46039f\"], [0.2222222222222222, \"#7201a8\"], [0.3333333333333333, \"#9c179e\"], [0.4444444444444444, \"#bd3786\"], [0.5555555555555556, \"#d8576b\"], [0.6666666666666666, \"#ed7953\"], [0.7777777777777778, \"#fb9f3a\"], [0.8888888888888888, \"#fdca26\"], [1.0, \"#f0f921\"]], \"type\": \"histogram2d\"}], \"histogram2dcontour\": [{\"colorbar\": {\"outlinewidth\": 0, \"ticks\": \"\"}, \"colorscale\": [[0.0, \"#0d0887\"], [0.1111111111111111, \"#46039f\"], [0.2222222222222222, \"#7201a8\"], [0.3333333333333333, \"#9c179e\"], [0.4444444444444444, \"#bd3786\"], [0.5555555555555556, \"#d8576b\"], [0.6666666666666666, \"#ed7953\"], [0.7777777777777778, \"#fb9f3a\"], [0.8888888888888888, \"#fdca26\"], [1.0, \"#f0f921\"]], \"type\": \"histogram2dcontour\"}], \"mesh3d\": [{\"colorbar\": {\"outlinewidth\": 0, \"ticks\": \"\"}, \"type\": \"mesh3d\"}], \"parcoords\": [{\"line\": {\"colorbar\": {\"outlinewidth\": 0, \"ticks\": \"\"}}, \"type\": \"parcoords\"}], \"pie\": [{\"automargin\": true, \"type\": \"pie\"}], \"scatter\": [{\"marker\": {\"colorbar\": {\"outlinewidth\": 0, \"ticks\": \"\"}}, \"type\": \"scatter\"}], \"scatter3d\": [{\"line\": {\"colorbar\": {\"outlinewidth\": 0, \"ticks\": \"\"}}, \"marker\": {\"colorbar\": {\"outlinewidth\": 0, \"ticks\": \"\"}}, \"type\": \"scatter3d\"}], \"scattercarpet\": [{\"marker\": {\"colorbar\": {\"outlinewidth\": 0, \"ticks\": \"\"}}, \"type\": \"scattercarpet\"}], \"scattergeo\": [{\"marker\": {\"colorbar\": {\"outlinewidth\": 0, \"ticks\": \"\"}}, \"type\": \"scattergeo\"}], \"scattergl\": [{\"marker\": {\"colorbar\": {\"outlinewidth\": 0, \"ticks\": \"\"}}, \"type\": \"scattergl\"}], \"scattermapbox\": [{\"marker\": {\"colorbar\": {\"outlinewidth\": 0, \"ticks\": \"\"}}, \"type\": \"scattermapbox\"}], \"scatterpolar\": [{\"marker\": {\"colorbar\": {\"outlinewidth\": 0, \"ticks\": \"\"}}, \"type\": \"scatterpolar\"}], \"scatterpolargl\": [{\"marker\": {\"colorbar\": {\"outlinewidth\": 0, \"ticks\": \"\"}}, \"type\": \"scatterpolargl\"}], \"scatterternary\": [{\"marker\": {\"colorbar\": {\"outlinewidth\": 0, \"ticks\": \"\"}}, \"type\": \"scatterternary\"}], \"surface\": [{\"colorbar\": {\"outlinewidth\": 0, \"ticks\": \"\"}, \"colorscale\": [[0.0, \"#0d0887\"], [0.1111111111111111, \"#46039f\"], [0.2222222222222222, \"#7201a8\"], [0.3333333333333333, \"#9c179e\"], [0.4444444444444444, \"#bd3786\"], [0.5555555555555556, \"#d8576b\"], [0.6666666666666666, \"#ed7953\"], [0.7777777777777778, \"#fb9f3a\"], [0.8888888888888888, \"#fdca26\"], [1.0, \"#f0f921\"]], \"type\": \"surface\"}], \"table\": [{\"cells\": {\"fill\": {\"color\": \"#EBF0F8\"}, \"line\": {\"color\": \"white\"}}, \"header\": {\"fill\": {\"color\": \"#C8D4E3\"}, \"line\": {\"color\": \"white\"}}, \"type\": \"table\"}]}, \"layout\": {\"annotationdefaults\": {\"arrowcolor\": \"#2a3f5f\", \"arrowhead\": 0, \"arrowwidth\": 1}, \"coloraxis\": {\"colorbar\": {\"outlinewidth\": 0, \"ticks\": \"\"}}, \"colorscale\": {\"diverging\": [[0, \"#8e0152\"], [0.1, \"#c51b7d\"], [0.2, \"#de77ae\"], [0.3, \"#f1b6da\"], [0.4, \"#fde0ef\"], [0.5, \"#f7f7f7\"], [0.6, \"#e6f5d0\"], [0.7, \"#b8e186\"], [0.8, \"#7fbc41\"], [0.9, \"#4d9221\"], [1, \"#276419\"]], \"sequential\": [[0.0, \"#0d0887\"], [0.1111111111111111, \"#46039f\"], [0.2222222222222222, \"#7201a8\"], [0.3333333333333333, \"#9c179e\"], [0.4444444444444444, \"#bd3786\"], [0.5555555555555556, \"#d8576b\"], [0.6666666666666666, \"#ed7953\"], [0.7777777777777778, \"#fb9f3a\"], [0.8888888888888888, \"#fdca26\"], [1.0, \"#f0f921\"]], \"sequentialminus\": [[0.0, \"#0d0887\"], [0.1111111111111111, \"#46039f\"], [0.2222222222222222, \"#7201a8\"], [0.3333333333333333, \"#9c179e\"], [0.4444444444444444, \"#bd3786\"], [0.5555555555555556, \"#d8576b\"], [0.6666666666666666, \"#ed7953\"], [0.7777777777777778, \"#fb9f3a\"], [0.8888888888888888, \"#fdca26\"], [1.0, \"#f0f921\"]]}, \"colorway\": [\"#636efa\", \"#EF553B\", \"#00cc96\", \"#ab63fa\", \"#FFA15A\", \"#19d3f3\", \"#FF6692\", \"#B6E880\", \"#FF97FF\", \"#FECB52\"], \"font\": {\"color\": \"#2a3f5f\"}, \"geo\": {\"bgcolor\": \"white\", \"lakecolor\": \"white\", \"landcolor\": \"#E5ECF6\", \"showlakes\": true, \"showland\": true, \"subunitcolor\": \"white\"}, \"hoverlabel\": {\"align\": \"left\"}, \"hovermode\": \"closest\", \"mapbox\": {\"style\": \"light\"}, \"paper_bgcolor\": \"white\", \"plot_bgcolor\": \"#E5ECF6\", \"polar\": {\"angularaxis\": {\"gridcolor\": \"white\", \"linecolor\": \"white\", \"ticks\": \"\"}, \"bgcolor\": \"#E5ECF6\", \"radialaxis\": {\"gridcolor\": \"white\", \"linecolor\": \"white\", \"ticks\": \"\"}}, \"scene\": {\"xaxis\": {\"backgroundcolor\": \"#E5ECF6\", \"gridcolor\": \"white\", \"gridwidth\": 2, \"linecolor\": \"white\", \"showbackground\": true, \"ticks\": \"\", \"zerolinecolor\": \"white\"}, \"yaxis\": {\"backgroundcolor\": \"#E5ECF6\", \"gridcolor\": \"white\", \"gridwidth\": 2, \"linecolor\": \"white\", \"showbackground\": true, \"ticks\": \"\", \"zerolinecolor\": \"white\"}, \"zaxis\": {\"backgroundcolor\": \"#E5ECF6\", \"gridcolor\": \"white\", \"gridwidth\": 2, \"linecolor\": \"white\", \"showbackground\": true, \"ticks\": \"\", \"zerolinecolor\": \"white\"}}, \"shapedefaults\": {\"line\": {\"color\": \"#2a3f5f\"}}, \"ternary\": {\"aaxis\": {\"gridcolor\": \"white\", \"linecolor\": \"white\", \"ticks\": \"\"}, \"baxis\": {\"gridcolor\": \"white\", \"linecolor\": \"white\", \"ticks\": \"\"}, \"bgcolor\": \"#E5ECF6\", \"caxis\": {\"gridcolor\": \"white\", \"linecolor\": \"white\", \"ticks\": \"\"}}, \"title\": {\"x\": 0.05}, \"xaxis\": {\"automargin\": true, \"gridcolor\": \"white\", \"linecolor\": \"white\", \"ticks\": \"\", \"title\": {\"standoff\": 15}, \"zerolinecolor\": \"white\", \"zerolinewidth\": 2}, \"yaxis\": {\"automargin\": true, \"gridcolor\": \"white\", \"linecolor\": \"white\", \"ticks\": \"\", \"title\": {\"standoff\": 15}, \"zerolinecolor\": \"white\", \"zerolinewidth\": 2}}}, \"width\": 800},\n",
              "                        {\"responsive\": true}\n",
              "                    ).then(function(){\n",
              "                            \n",
              "var gd = document.getElementById('0e21ae3a-cc87-4c31-b64c-dc7c52f5dd18');\n",
              "var x = new MutationObserver(function (mutations, observer) {{\n",
              "        var display = window.getComputedStyle(gd).display;\n",
              "        if (!display || display === 'none') {{\n",
              "            console.log([gd, 'removed!']);\n",
              "            Plotly.purge(gd);\n",
              "            observer.disconnect();\n",
              "        }}\n",
              "}});\n",
              "\n",
              "// Listen for the removal of the full notebook cells\n",
              "var notebookContainer = gd.closest('#notebook-container');\n",
              "if (notebookContainer) {{\n",
              "    x.observe(notebookContainer, {childList: true});\n",
              "}}\n",
              "\n",
              "// Listen for the clearing of the current output cell\n",
              "var outputEl = gd.closest('.output');\n",
              "if (outputEl) {{\n",
              "    x.observe(outputEl, {childList: true});\n",
              "}}\n",
              "\n",
              "                        })\n",
              "                };\n",
              "                \n",
              "            </script>\n",
              "        </div>\n",
              "</body>\n",
              "</html>"
            ]
          },
          "metadata": {}
        }
      ]
    },
    {
      "cell_type": "markdown",
      "metadata": {
        "id": "ZEXzPQWgJzDy"
      },
      "source": [
        "**Findings**: The above map shows that the most significant damage was found on the west coast; this is similar and supports the findings found in the occurences map. Some States that had a high number of fire occurences such as Texas have not seen proportional quantities of acres burned. In contrast to its low number of reported fires over the years, Alaska has the most significant fire damage found of any state."
      ]
    },
    {
      "cell_type": "markdown",
      "metadata": {
        "id": "QUuh7X9q5jOo"
      },
      "source": [
        "Area Burned Per State Per Month"
      ]
    },
    {
      "cell_type": "code",
      "metadata": {
        "id": "c9w-FsN9-g9P"
      },
      "source": [
        "damagePerStateYearly= damagePerState.groupBy(\"year\",\"State Occurred\").agg(sum('area(acres)').alias(\"total area burned (acres)\")).orderBy(\"year\")"
      ],
      "execution_count": null,
      "outputs": []
    },
    {
      "cell_type": "code",
      "metadata": {
        "colab": {
          "base_uri": "https://localhost:8080/",
          "height": 617
        },
        "id": "BMvG0Tom_Ae1",
        "outputId": "ebea191f-6a11-4225-fb3d-170374ee6e9d"
      },
      "source": [
        "import plotly.express as px\n",
        "import pandas as pd\n",
        "fig = px.choropleth(damagePerStateYearly.toPandas(), locations='State Occurred',locationmode = \"USA-states\",color = \"total area burned (acres)\", \n",
        "                    range_color = [0,1000000],animation_frame=\"year\", animation_group=\"State Occurred\",scope='usa')\n",
        "fig.update_layout(\n",
        "    width=800,\n",
        "    height=600)\n",
        "\n",
        "fig.show()"
      ],
      "execution_count": 121,
      "outputs": [
        {
          "output_type": "display_data",
          "data": {
            "text/html": [
              "<html>\n",
              "<head><meta charset=\"utf-8\" /></head>\n",
              "<body>\n",
              "    <div>\n",
              "            <script src=\"https://cdnjs.cloudflare.com/ajax/libs/mathjax/2.7.5/MathJax.js?config=TeX-AMS-MML_SVG\"></script><script type=\"text/javascript\">if (window.MathJax) {MathJax.Hub.Config({SVG: {font: \"STIX-Web\"}});}</script>\n",
              "                <script type=\"text/javascript\">window.PlotlyConfig = {MathJaxConfig: 'local'};</script>\n",
              "        <script src=\"https://cdn.plot.ly/plotly-latest.min.js\"></script>    \n",
              "            <div id=\"a994b3b7-48d4-4abe-ab37-ee1e734998ea\" class=\"plotly-graph-div\" style=\"height:600px; width:800px;\"></div>\n",
              "            <script type=\"text/javascript\">\n",
              "                \n",
              "                    window.PLOTLYENV=window.PLOTLYENV || {};\n",
              "                    \n",
              "                if (document.getElementById(\"a994b3b7-48d4-4abe-ab37-ee1e734998ea\")) {\n",
              "                    Plotly.newPlot(\n",
              "                        'a994b3b7-48d4-4abe-ab37-ee1e734998ea',\n",
              "                        [{\"coloraxis\": \"coloraxis\", \"geo\": \"geo\", \"hoverlabel\": {\"namelength\": 0}, \"hovertemplate\": \"year=2000<br>State Occurred=%{location}<br>total area burned (acres)=%{z}\", \"ids\": [\"CA\", \"OR\", \"CO\", \"ID\", \"NE\", \"NV\", \"AK\", \"WY\", \"WA\", \"MT\", \"UT\", \"ND\", \"SD\", \"AZ\", \"NM\"], \"locationmode\": \"USA-states\", \"locations\": [\"CA\", \"OR\", \"CO\", \"ID\", \"NE\", \"NV\", \"AK\", \"WY\", \"WA\", \"MT\", \"UT\", \"ND\", \"SD\", \"AZ\", \"NM\"], \"name\": \"\", \"type\": \"choropleth\", \"z\": [244813.82103893, 377289.95176840003, 65807.56416649999, 1694520.8017440396, 70108.56892547, 544508.9496871302, 750031.77334348, 273184.3235661601, 188637.2265823, 1738882.5208658394, 195037.036318, 2499.35592137, 87635.05255075, 13052.02763741, 213331.1771532099]}],\n",
              "                        {\"coloraxis\": {\"cmax\": 1000000, \"cmin\": 0, \"colorbar\": {\"title\": {\"text\": \"total area burned (acres)\"}}, \"colorscale\": [[0.0, \"#0d0887\"], [0.1111111111111111, \"#46039f\"], [0.2222222222222222, \"#7201a8\"], [0.3333333333333333, \"#9c179e\"], [0.4444444444444444, \"#bd3786\"], [0.5555555555555556, \"#d8576b\"], [0.6666666666666666, \"#ed7953\"], [0.7777777777777778, \"#fb9f3a\"], [0.8888888888888888, \"#fdca26\"], [1.0, \"#f0f921\"]]}, \"geo\": {\"center\": {}, \"domain\": {\"x\": [0.0, 1.0], \"y\": [0.0, 1.0]}, \"scope\": \"usa\"}, \"height\": 600, \"legend\": {\"tracegroupgap\": 0}, \"margin\": {\"t\": 60}, \"sliders\": [{\"active\": 0, \"currentvalue\": {\"prefix\": \"year=\"}, \"len\": 0.9, \"pad\": {\"b\": 10, \"t\": 60}, \"steps\": [{\"args\": [[\"2000\"], {\"frame\": {\"duration\": 0, \"redraw\": true}, \"fromcurrent\": true, \"mode\": \"immediate\", \"transition\": {\"duration\": 0, \"easing\": \"linear\"}}], \"label\": \"2000\", \"method\": \"animate\"}, {\"args\": [[\"2001\"], {\"frame\": {\"duration\": 0, \"redraw\": true}, \"fromcurrent\": true, \"mode\": \"immediate\", \"transition\": {\"duration\": 0, \"easing\": \"linear\"}}], \"label\": \"2001\", \"method\": \"animate\"}, {\"args\": [[\"2002\"], {\"frame\": {\"duration\": 0, \"redraw\": true}, \"fromcurrent\": true, \"mode\": \"immediate\", \"transition\": {\"duration\": 0, \"easing\": \"linear\"}}], \"label\": \"2002\", \"method\": \"animate\"}, {\"args\": [[\"2003\"], {\"frame\": {\"duration\": 0, \"redraw\": true}, \"fromcurrent\": true, \"mode\": \"immediate\", \"transition\": {\"duration\": 0, \"easing\": \"linear\"}}], \"label\": \"2003\", \"method\": \"animate\"}, {\"args\": [[\"2004\"], {\"frame\": {\"duration\": 0, \"redraw\": true}, \"fromcurrent\": true, \"mode\": \"immediate\", \"transition\": {\"duration\": 0, \"easing\": \"linear\"}}], \"label\": \"2004\", \"method\": \"animate\"}, {\"args\": [[\"2005\"], {\"frame\": {\"duration\": 0, \"redraw\": true}, \"fromcurrent\": true, \"mode\": \"immediate\", \"transition\": {\"duration\": 0, \"easing\": \"linear\"}}], \"label\": \"2005\", \"method\": \"animate\"}, {\"args\": [[\"2006\"], {\"frame\": {\"duration\": 0, \"redraw\": true}, \"fromcurrent\": true, \"mode\": \"immediate\", \"transition\": {\"duration\": 0, \"easing\": \"linear\"}}], \"label\": \"2006\", \"method\": \"animate\"}, {\"args\": [[\"2007\"], {\"frame\": {\"duration\": 0, \"redraw\": true}, \"fromcurrent\": true, \"mode\": \"immediate\", \"transition\": {\"duration\": 0, \"easing\": \"linear\"}}], \"label\": \"2007\", \"method\": \"animate\"}, {\"args\": [[\"2008\"], {\"frame\": {\"duration\": 0, \"redraw\": true}, \"fromcurrent\": true, \"mode\": \"immediate\", \"transition\": {\"duration\": 0, \"easing\": \"linear\"}}], \"label\": \"2008\", \"method\": \"animate\"}, {\"args\": [[\"2009\"], {\"frame\": {\"duration\": 0, \"redraw\": true}, \"fromcurrent\": true, \"mode\": \"immediate\", \"transition\": {\"duration\": 0, \"easing\": \"linear\"}}], \"label\": \"2009\", \"method\": \"animate\"}, {\"args\": [[\"2010\"], {\"frame\": {\"duration\": 0, \"redraw\": true}, \"fromcurrent\": true, \"mode\": \"immediate\", \"transition\": {\"duration\": 0, \"easing\": \"linear\"}}], \"label\": \"2010\", \"method\": \"animate\"}, {\"args\": [[\"2011\"], {\"frame\": {\"duration\": 0, \"redraw\": true}, \"fromcurrent\": true, \"mode\": \"immediate\", \"transition\": {\"duration\": 0, \"easing\": \"linear\"}}], \"label\": \"2011\", \"method\": \"animate\"}, {\"args\": [[\"2012\"], {\"frame\": {\"duration\": 0, \"redraw\": true}, \"fromcurrent\": true, \"mode\": \"immediate\", \"transition\": {\"duration\": 0, \"easing\": \"linear\"}}], \"label\": \"2012\", \"method\": \"animate\"}, {\"args\": [[\"2013\"], {\"frame\": {\"duration\": 0, \"redraw\": true}, \"fromcurrent\": true, \"mode\": \"immediate\", \"transition\": {\"duration\": 0, \"easing\": \"linear\"}}], \"label\": \"2013\", \"method\": \"animate\"}, {\"args\": [[\"2014\"], {\"frame\": {\"duration\": 0, \"redraw\": true}, \"fromcurrent\": true, \"mode\": \"immediate\", \"transition\": {\"duration\": 0, \"easing\": \"linear\"}}], \"label\": \"2014\", \"method\": \"animate\"}, {\"args\": [[\"2015\"], {\"frame\": {\"duration\": 0, \"redraw\": true}, \"fromcurrent\": true, \"mode\": \"immediate\", \"transition\": {\"duration\": 0, \"easing\": \"linear\"}}], \"label\": \"2015\", \"method\": \"animate\"}, {\"args\": [[\"2016\"], {\"frame\": {\"duration\": 0, \"redraw\": true}, \"fromcurrent\": true, \"mode\": \"immediate\", \"transition\": {\"duration\": 0, \"easing\": \"linear\"}}], \"label\": \"2016\", \"method\": \"animate\"}, {\"args\": [[\"2017\"], {\"frame\": {\"duration\": 0, \"redraw\": true}, \"fromcurrent\": true, \"mode\": \"immediate\", \"transition\": {\"duration\": 0, \"easing\": \"linear\"}}], \"label\": \"2017\", \"method\": \"animate\"}, {\"args\": [[\"2018\"], {\"frame\": {\"duration\": 0, \"redraw\": true}, \"fromcurrent\": true, \"mode\": \"immediate\", \"transition\": {\"duration\": 0, \"easing\": \"linear\"}}], \"label\": \"2018\", \"method\": \"animate\"}, {\"args\": [[\"2019\"], {\"frame\": {\"duration\": 0, \"redraw\": true}, \"fromcurrent\": true, \"mode\": \"immediate\", \"transition\": {\"duration\": 0, \"easing\": \"linear\"}}], \"label\": \"2019\", \"method\": \"animate\"}, {\"args\": [[\"2020\"], {\"frame\": {\"duration\": 0, \"redraw\": true}, \"fromcurrent\": true, \"mode\": \"immediate\", \"transition\": {\"duration\": 0, \"easing\": \"linear\"}}], \"label\": \"2020\", \"method\": \"animate\"}, {\"args\": [[\"2021\"], {\"frame\": {\"duration\": 0, \"redraw\": true}, \"fromcurrent\": true, \"mode\": \"immediate\", \"transition\": {\"duration\": 0, \"easing\": \"linear\"}}], \"label\": \"2021\", \"method\": \"animate\"}], \"x\": 0.1, \"xanchor\": \"left\", \"y\": 0, \"yanchor\": \"top\"}], \"template\": {\"data\": {\"bar\": [{\"error_x\": {\"color\": \"#2a3f5f\"}, \"error_y\": {\"color\": \"#2a3f5f\"}, \"marker\": {\"line\": {\"color\": \"#E5ECF6\", \"width\": 0.5}}, \"type\": \"bar\"}], \"barpolar\": [{\"marker\": {\"line\": {\"color\": \"#E5ECF6\", \"width\": 0.5}}, \"type\": \"barpolar\"}], \"carpet\": [{\"aaxis\": {\"endlinecolor\": \"#2a3f5f\", \"gridcolor\": \"white\", \"linecolor\": \"white\", \"minorgridcolor\": \"white\", \"startlinecolor\": \"#2a3f5f\"}, \"baxis\": {\"endlinecolor\": \"#2a3f5f\", \"gridcolor\": \"white\", \"linecolor\": \"white\", \"minorgridcolor\": \"white\", \"startlinecolor\": \"#2a3f5f\"}, \"type\": \"carpet\"}], \"choropleth\": [{\"colorbar\": {\"outlinewidth\": 0, \"ticks\": \"\"}, \"type\": \"choropleth\"}], \"contour\": [{\"colorbar\": {\"outlinewidth\": 0, \"ticks\": \"\"}, \"colorscale\": [[0.0, \"#0d0887\"], [0.1111111111111111, \"#46039f\"], [0.2222222222222222, \"#7201a8\"], [0.3333333333333333, \"#9c179e\"], [0.4444444444444444, \"#bd3786\"], [0.5555555555555556, \"#d8576b\"], [0.6666666666666666, \"#ed7953\"], [0.7777777777777778, \"#fb9f3a\"], [0.8888888888888888, \"#fdca26\"], [1.0, \"#f0f921\"]], \"type\": \"contour\"}], \"contourcarpet\": [{\"colorbar\": {\"outlinewidth\": 0, \"ticks\": \"\"}, \"type\": \"contourcarpet\"}], \"heatmap\": [{\"colorbar\": {\"outlinewidth\": 0, \"ticks\": \"\"}, \"colorscale\": [[0.0, \"#0d0887\"], [0.1111111111111111, \"#46039f\"], [0.2222222222222222, \"#7201a8\"], [0.3333333333333333, \"#9c179e\"], [0.4444444444444444, \"#bd3786\"], [0.5555555555555556, \"#d8576b\"], [0.6666666666666666, \"#ed7953\"], [0.7777777777777778, \"#fb9f3a\"], [0.8888888888888888, \"#fdca26\"], [1.0, \"#f0f921\"]], \"type\": \"heatmap\"}], \"heatmapgl\": [{\"colorbar\": {\"outlinewidth\": 0, \"ticks\": \"\"}, \"colorscale\": [[0.0, \"#0d0887\"], [0.1111111111111111, \"#46039f\"], [0.2222222222222222, \"#7201a8\"], [0.3333333333333333, \"#9c179e\"], [0.4444444444444444, \"#bd3786\"], [0.5555555555555556, \"#d8576b\"], [0.6666666666666666, \"#ed7953\"], [0.7777777777777778, \"#fb9f3a\"], [0.8888888888888888, \"#fdca26\"], [1.0, \"#f0f921\"]], \"type\": \"heatmapgl\"}], \"histogram\": [{\"marker\": {\"colorbar\": {\"outlinewidth\": 0, \"ticks\": \"\"}}, \"type\": \"histogram\"}], \"histogram2d\": [{\"colorbar\": {\"outlinewidth\": 0, \"ticks\": \"\"}, \"colorscale\": [[0.0, \"#0d0887\"], [0.1111111111111111, \"#46039f\"], [0.2222222222222222, \"#7201a8\"], [0.3333333333333333, \"#9c179e\"], [0.4444444444444444, \"#bd3786\"], [0.5555555555555556, \"#d8576b\"], [0.6666666666666666, \"#ed7953\"], [0.7777777777777778, \"#fb9f3a\"], [0.8888888888888888, \"#fdca26\"], [1.0, \"#f0f921\"]], \"type\": \"histogram2d\"}], \"histogram2dcontour\": [{\"colorbar\": {\"outlinewidth\": 0, \"ticks\": \"\"}, \"colorscale\": [[0.0, \"#0d0887\"], [0.1111111111111111, \"#46039f\"], [0.2222222222222222, \"#7201a8\"], [0.3333333333333333, \"#9c179e\"], [0.4444444444444444, \"#bd3786\"], [0.5555555555555556, \"#d8576b\"], [0.6666666666666666, \"#ed7953\"], [0.7777777777777778, \"#fb9f3a\"], [0.8888888888888888, \"#fdca26\"], [1.0, \"#f0f921\"]], \"type\": \"histogram2dcontour\"}], \"mesh3d\": [{\"colorbar\": {\"outlinewidth\": 0, \"ticks\": \"\"}, \"type\": \"mesh3d\"}], \"parcoords\": [{\"line\": {\"colorbar\": {\"outlinewidth\": 0, \"ticks\": \"\"}}, \"type\": \"parcoords\"}], \"pie\": [{\"automargin\": true, \"type\": \"pie\"}], \"scatter\": [{\"marker\": {\"colorbar\": {\"outlinewidth\": 0, \"ticks\": \"\"}}, \"type\": \"scatter\"}], \"scatter3d\": [{\"line\": {\"colorbar\": {\"outlinewidth\": 0, \"ticks\": \"\"}}, \"marker\": {\"colorbar\": {\"outlinewidth\": 0, \"ticks\": \"\"}}, \"type\": \"scatter3d\"}], \"scattercarpet\": [{\"marker\": {\"colorbar\": {\"outlinewidth\": 0, \"ticks\": \"\"}}, \"type\": \"scattercarpet\"}], \"scattergeo\": [{\"marker\": {\"colorbar\": {\"outlinewidth\": 0, \"ticks\": \"\"}}, \"type\": \"scattergeo\"}], \"scattergl\": [{\"marker\": {\"colorbar\": {\"outlinewidth\": 0, \"ticks\": \"\"}}, \"type\": \"scattergl\"}], \"scattermapbox\": [{\"marker\": {\"colorbar\": {\"outlinewidth\": 0, \"ticks\": \"\"}}, \"type\": \"scattermapbox\"}], \"scatterpolar\": [{\"marker\": {\"colorbar\": {\"outlinewidth\": 0, \"ticks\": \"\"}}, \"type\": \"scatterpolar\"}], \"scatterpolargl\": [{\"marker\": {\"colorbar\": {\"outlinewidth\": 0, \"ticks\": \"\"}}, \"type\": \"scatterpolargl\"}], \"scatterternary\": [{\"marker\": {\"colorbar\": {\"outlinewidth\": 0, \"ticks\": \"\"}}, \"type\": \"scatterternary\"}], \"surface\": [{\"colorbar\": {\"outlinewidth\": 0, \"ticks\": \"\"}, \"colorscale\": [[0.0, \"#0d0887\"], [0.1111111111111111, \"#46039f\"], [0.2222222222222222, \"#7201a8\"], [0.3333333333333333, \"#9c179e\"], [0.4444444444444444, \"#bd3786\"], [0.5555555555555556, \"#d8576b\"], [0.6666666666666666, \"#ed7953\"], [0.7777777777777778, \"#fb9f3a\"], [0.8888888888888888, \"#fdca26\"], [1.0, \"#f0f921\"]], \"type\": \"surface\"}], \"table\": [{\"cells\": {\"fill\": {\"color\": \"#EBF0F8\"}, \"line\": {\"color\": \"white\"}}, \"header\": {\"fill\": {\"color\": \"#C8D4E3\"}, \"line\": {\"color\": \"white\"}}, \"type\": \"table\"}]}, \"layout\": {\"annotationdefaults\": {\"arrowcolor\": \"#2a3f5f\", \"arrowhead\": 0, \"arrowwidth\": 1}, \"coloraxis\": {\"colorbar\": {\"outlinewidth\": 0, \"ticks\": \"\"}}, \"colorscale\": {\"diverging\": [[0, \"#8e0152\"], [0.1, \"#c51b7d\"], [0.2, \"#de77ae\"], [0.3, \"#f1b6da\"], [0.4, \"#fde0ef\"], [0.5, \"#f7f7f7\"], [0.6, \"#e6f5d0\"], [0.7, \"#b8e186\"], [0.8, \"#7fbc41\"], [0.9, \"#4d9221\"], [1, \"#276419\"]], \"sequential\": [[0.0, \"#0d0887\"], [0.1111111111111111, \"#46039f\"], [0.2222222222222222, \"#7201a8\"], [0.3333333333333333, \"#9c179e\"], [0.4444444444444444, \"#bd3786\"], [0.5555555555555556, \"#d8576b\"], [0.6666666666666666, \"#ed7953\"], [0.7777777777777778, \"#fb9f3a\"], [0.8888888888888888, \"#fdca26\"], [1.0, \"#f0f921\"]], \"sequentialminus\": [[0.0, \"#0d0887\"], [0.1111111111111111, \"#46039f\"], [0.2222222222222222, \"#7201a8\"], [0.3333333333333333, \"#9c179e\"], [0.4444444444444444, \"#bd3786\"], [0.5555555555555556, \"#d8576b\"], [0.6666666666666666, \"#ed7953\"], [0.7777777777777778, \"#fb9f3a\"], [0.8888888888888888, \"#fdca26\"], [1.0, \"#f0f921\"]]}, \"colorway\": [\"#636efa\", \"#EF553B\", \"#00cc96\", \"#ab63fa\", \"#FFA15A\", \"#19d3f3\", \"#FF6692\", \"#B6E880\", \"#FF97FF\", \"#FECB52\"], \"font\": {\"color\": \"#2a3f5f\"}, \"geo\": {\"bgcolor\": \"white\", \"lakecolor\": \"white\", \"landcolor\": \"#E5ECF6\", \"showlakes\": true, \"showland\": true, \"subunitcolor\": \"white\"}, \"hoverlabel\": {\"align\": \"left\"}, \"hovermode\": \"closest\", \"mapbox\": {\"style\": \"light\"}, \"paper_bgcolor\": \"white\", \"plot_bgcolor\": \"#E5ECF6\", \"polar\": {\"angularaxis\": {\"gridcolor\": \"white\", \"linecolor\": \"white\", \"ticks\": \"\"}, \"bgcolor\": \"#E5ECF6\", \"radialaxis\": {\"gridcolor\": \"white\", \"linecolor\": \"white\", \"ticks\": \"\"}}, \"scene\": {\"xaxis\": {\"backgroundcolor\": \"#E5ECF6\", \"gridcolor\": \"white\", \"gridwidth\": 2, \"linecolor\": \"white\", \"showbackground\": true, \"ticks\": \"\", \"zerolinecolor\": \"white\"}, \"yaxis\": {\"backgroundcolor\": \"#E5ECF6\", \"gridcolor\": \"white\", \"gridwidth\": 2, \"linecolor\": \"white\", \"showbackground\": true, \"ticks\": \"\", \"zerolinecolor\": \"white\"}, \"zaxis\": {\"backgroundcolor\": \"#E5ECF6\", \"gridcolor\": \"white\", \"gridwidth\": 2, \"linecolor\": \"white\", \"showbackground\": true, \"ticks\": \"\", \"zerolinecolor\": \"white\"}}, \"shapedefaults\": {\"line\": {\"color\": \"#2a3f5f\"}}, \"ternary\": {\"aaxis\": {\"gridcolor\": \"white\", \"linecolor\": \"white\", \"ticks\": \"\"}, \"baxis\": {\"gridcolor\": \"white\", \"linecolor\": \"white\", \"ticks\": \"\"}, \"bgcolor\": \"#E5ECF6\", \"caxis\": {\"gridcolor\": \"white\", \"linecolor\": \"white\", \"ticks\": \"\"}}, \"title\": {\"x\": 0.05}, \"xaxis\": {\"automargin\": true, \"gridcolor\": \"white\", \"linecolor\": \"white\", \"ticks\": \"\", \"title\": {\"standoff\": 15}, \"zerolinecolor\": \"white\", \"zerolinewidth\": 2}, \"yaxis\": {\"automargin\": true, \"gridcolor\": \"white\", \"linecolor\": \"white\", \"ticks\": \"\", \"title\": {\"standoff\": 15}, \"zerolinecolor\": \"white\", \"zerolinewidth\": 2}}}, \"updatemenus\": [{\"buttons\": [{\"args\": [null, {\"frame\": {\"duration\": 500, \"redraw\": true}, \"fromcurrent\": true, \"mode\": \"immediate\", \"transition\": {\"duration\": 500, \"easing\": \"linear\"}}], \"label\": \"&#9654;\", \"method\": \"animate\"}, {\"args\": [[null], {\"frame\": {\"duration\": 0, \"redraw\": true}, \"fromcurrent\": true, \"mode\": \"immediate\", \"transition\": {\"duration\": 0, \"easing\": \"linear\"}}], \"label\": \"&#9724;\", \"method\": \"animate\"}], \"direction\": \"left\", \"pad\": {\"r\": 10, \"t\": 70}, \"showactive\": false, \"type\": \"buttons\", \"x\": 0.1, \"xanchor\": \"right\", \"y\": 0, \"yanchor\": \"top\"}], \"width\": 800},\n",
              "                        {\"responsive\": true}\n",
              "                    ).then(function(){\n",
              "                            Plotly.addFrames('a994b3b7-48d4-4abe-ab37-ee1e734998ea', [{\"data\": [{\"coloraxis\": \"coloraxis\", \"geo\": \"geo\", \"hoverlabel\": {\"namelength\": 0}, \"hovertemplate\": \"year=2000<br>State Occurred=%{location}<br>total area burned (acres)=%{z}\", \"ids\": [\"CA\", \"OR\", \"CO\", \"ID\", \"NE\", \"NV\", \"AK\", \"WY\", \"WA\", \"MT\", \"UT\", \"ND\", \"SD\", \"AZ\", \"NM\"], \"locationmode\": \"USA-states\", \"locations\": [\"CA\", \"OR\", \"CO\", \"ID\", \"NE\", \"NV\", \"AK\", \"WY\", \"WA\", \"MT\", \"UT\", \"ND\", \"SD\", \"AZ\", \"NM\"], \"name\": \"\", \"z\": [244813.82103893, 377289.95176840003, 65807.56416649999, 1694520.8017440396, 70108.56892547, 544508.9496871302, 750031.77334348, 273184.3235661601, 188637.2265823, 1738882.5208658394, 195037.036318, 2499.35592137, 87635.05255075, 13052.02763741, 213331.1771532099], \"type\": \"choropleth\"}], \"name\": \"2000\"}, {\"data\": [{\"coloraxis\": \"coloraxis\", \"geo\": \"geo\", \"hoverlabel\": {\"namelength\": 0}, \"hovertemplate\": \"year=2001<br>State Occurred=%{location}<br>total area burned (acres)=%{z}\", \"ids\": [\"CO\", \"OR\", \"AK\", \"ID\", \"UT\", \"AZ\", \"MT\", \"WA\", \"NV\", \"CA\", \"FL\", \"Ut\", \"NM\", \"SD\", \"MI\", \"WY\"], \"locationmode\": \"USA-states\", \"locations\": [\"CO\", \"OR\", \"AK\", \"ID\", \"UT\", \"AZ\", \"MT\", \"WA\", \"NV\", \"CA\", \"FL\", \"Ut\", \"NM\", \"SD\", \"MI\", \"WY\"], \"name\": \"\", \"z\": [11235.157047349998, 373915.1381983899, 231945.73815027002, 161288.29356855, 87955.11344398999, 15241.312582880002, 47279.66205727, 187366.48159843998, 552412.5777619904, 327577.93846949004, 73482.38658209, 533.96968626, 16997.14926224, 39935.88579612, 196.34907112, 46841.286006140006], \"type\": \"choropleth\"}], \"name\": \"2001\"}, {\"data\": [{\"coloraxis\": \"coloraxis\", \"geo\": \"geo\", \"hoverlabel\": {\"namelength\": 0}, \"hovertemplate\": \"year=2002<br>State Occurred=%{location}<br>total area burned (acres)=%{z}\", \"ids\": [\"NV\", \"MT\", \"NM\", \"CO\", \"SD\", \"CA\", \"AZ\", \"GA\", \"AK\", \"WA\", \"OR\", \"ID\", \"WY\", \"UT\"], \"locationmode\": \"USA-states\", \"locations\": [\"NV\", \"MT\", \"NM\", \"CO\", \"SD\", \"CA\", \"AZ\", \"GA\", \"AK\", \"WA\", \"OR\", \"ID\", \"WY\", \"UT\"], \"name\": \"\", \"z\": [77634.86544852, 291401.09660636005, 258234.42600290998, 375178.7760435599, 25826.00056534, 514353.4015389305, 577839.2275241899, 119507.47527182, 2110573.50658698, 55716.29525233, 1309881.6774637906, 117843.88915803004, 112744.29972045003, 240867.93903890997], \"type\": \"choropleth\"}], \"name\": \"2002\"}, {\"data\": [{\"coloraxis\": \"coloraxis\", \"geo\": \"geo\", \"hoverlabel\": {\"namelength\": 0}, \"hovertemplate\": \"year=2003<br>State Occurred=%{location}<br>total area burned (acres)=%{z}\", \"ids\": [\"WY\", \"CO\", \"NV\", \"WA\", \"MT\", \"AZ\", \"CA\", \"OR\", \"UT\", \"ID\", \"NM\", \"AK\", \"SD\", \"NE\", null], \"locationmode\": \"USA-states\", \"locations\": [\"WY\", \"CO\", \"NV\", \"WA\", \"MT\", \"AZ\", \"CA\", \"OR\", \"UT\", \"ID\", \"NM\", \"AK\", \"SD\", \"NE\", null], \"name\": \"\", \"z\": [71949.31900352, 23627.08228904, 19271.453515890003, 121002.48473925999, 495997.24599044, 181346.27870757, 967322.2108549104, 151297.02974331, 102505.1705936, 244979.11973800004, 221358.35562019004, 600481.47431636, 16015.23309468, 1690.94010158, null], \"type\": \"choropleth\"}], \"name\": \"2003\"}, {\"data\": [{\"coloraxis\": \"coloraxis\", \"geo\": \"geo\", \"hoverlabel\": {\"namelength\": 0}, \"hovertemplate\": \"year=2004<br>State Occurred=%{location}<br>total area burned (acres)=%{z}\", \"ids\": [\"NM\", \"AK\", \"CA\", \"UT\", \"AZ\", \"OR\", \"FL\", \"WA\", \"WY\", \"ID\", \"CO\", \"NV\"], \"locationmode\": \"USA-states\", \"locations\": [\"NM\", \"AK\", \"CA\", \"UT\", \"AZ\", \"OR\", \"FL\", \"WA\", \"WY\", \"ID\", \"CO\", \"NV\"], \"name\": \"\", \"z\": [82416.63372939, 6209442.673182401, 279348.5525827101, 92393.60134646995, 229865.99212438, 18526.38957887, 34795.00597744, 84147.51379142998, 6336.228417769999, 15012.277020720003, 26322.829432839997, 34710.05819565], \"type\": \"choropleth\"}], \"name\": \"2004\"}, {\"data\": [{\"coloraxis\": \"coloraxis\", \"geo\": \"geo\", \"hoverlabel\": {\"namelength\": 0}, \"hovertemplate\": \"year=2005<br>State Occurred=%{location}<br>total area burned (acres)=%{z}\", \"ids\": [\"UT\", \"OR\", \"CO\", \"NV\", \"CA\", \"NM\", \"WY\", \"ID\", \"AK\", \"MT\", \"AZ\", \"WA\", \"SD\"], \"locationmode\": \"USA-states\", \"locations\": [\"UT\", \"OR\", \"CO\", \"NV\", \"CA\", \"NM\", \"WY\", \"ID\", \"AK\", \"MT\", \"AZ\", \"WA\", \"SD\"], \"name\": \"\", \"z\": [226755.01454907987, 224607.75469103007, 21836.52711717, 1049772.0812884597, 305190.67239669996, 39077.75807258, 12720.594151590001, 542733.6995952998, 4499579.391132143, 113784.93371574, 563426.4076693698, 34262.643077019995, 7001.645090440001], \"type\": \"choropleth\"}], \"name\": \"2005\"}, {\"data\": [{\"coloraxis\": \"coloraxis\", \"geo\": \"geo\", \"hoverlabel\": {\"namelength\": 0}, \"hovertemplate\": \"year=2006<br>State Occurred=%{location}<br>total area burned (acres)=%{z}\", \"ids\": [\"KY\", \"NE\", \"FL\", \"NV\", \"AZ\", \"SD\", \"TX\", \"ID\", \"OR\", \"MN\", \"WA\", \"CA\", \"WY\", \"MT\", \"CO\", \"AK\", \"NM\", \"UT\", \"ND\"], \"locationmode\": \"USA-states\", \"locations\": [\"KY\", \"NE\", \"FL\", \"NV\", \"AZ\", \"SD\", \"TX\", \"ID\", \"OR\", \"MN\", \"WA\", \"CA\", \"WY\", \"MT\", \"CO\", \"AK\", \"NM\", \"UT\", \"ND\"], \"name\": \"\", \"z\": [6.43791696, 57027.58672924, 10067.5710153, 1298254.9611916696, 144592.45003839003, 12760.79454158, 464589.27378482, 952691.4868036897, 475841.99388752, 31459.15848726, 376934.69354712, 754311.5762543093, 179373.06282895003, 694210.4007791802, 28645.803261939996, 250413.90033011002, 244628.39071004, 327082.22703048016, 1380.70764835], \"type\": \"choropleth\"}], \"name\": \"2006\"}, {\"data\": [{\"coloraxis\": \"coloraxis\", \"geo\": \"geo\", \"hoverlabel\": {\"namelength\": 0}, \"hovertemplate\": \"year=2007<br>State Occurred=%{location}<br>total area burned (acres)=%{z}\", \"ids\": [\"CA\", \"GA\", \"FL\", \"NM\", \"OR\", \"AK\", \"TN\", \"AZ\", \"MT\", \"MN\", \"CO\", \"ID\", \"ND\", \"UT\", \"TX\", \"WA\", \"NV\", \"WY\", \"SD\", \"NC\"], \"locationmode\": \"USA-states\", \"locations\": [\"CA\", \"GA\", \"FL\", \"NM\", \"OR\", \"AK\", \"TN\", \"AZ\", \"MT\", \"MN\", \"CO\", \"ID\", \"ND\", \"UT\", \"TX\", \"WA\", \"NV\", \"WY\", \"SD\", \"NC\"], \"name\": \"\", \"z\": [1038240.8102990093, 573555.3148707999, 133805.2750236, 28962.093441459998, 539116.6575340601, 670959.6481794701, 497.82999320000005, 98460.90924686998, 711269.0932126098, 75835.65889593, 11767.669793630002, 2581434.704579589, 4858.87552527, 593055.0811827298, 271.82389827, 254625.03597227996, 790579.8725303104, 85965.60616611, 13008.04854419, 8633.23665187], \"type\": \"choropleth\"}], \"name\": \"2007\"}, {\"data\": [{\"coloraxis\": \"coloraxis\", \"geo\": \"geo\", \"hoverlabel\": {\"namelength\": 0}, \"hovertemplate\": \"year=2008<br>State Occurred=%{location}<br>total area burned (acres)=%{z}\", \"ids\": [\"MT\", \"OR\", \"AZ\", \"CA\", \"ID\", \"NM\", \"CO\", \"WY\", \"NC\", \"WA\", \"VA\", \"TX\", \"ND\", \"AK\", \"NV\", \"FL\", \"UT\"], \"locationmode\": \"USA-states\", \"locations\": [\"MT\", \"OR\", \"AZ\", \"CA\", \"ID\", \"NM\", \"CO\", \"WY\", \"NC\", \"WA\", \"VA\", \"TX\", \"ND\", \"AK\", \"NV\", \"FL\", \"UT\"], \"name\": \"\", \"z\": [118548.48867213, 156705.74980575996, 89405.61182098999, 1753440.8604797309, 136392.35093088003, 170018.64860747004, 79641.62728099998, 85157.2950252, 45547.54227841, 101052.99312904, 9174.14101729, 532551.7590903001, 2404.60459021, 97034.97123571002, 80133.91688716, 103907.82052757, 17699.88990389], \"type\": \"choropleth\"}], \"name\": \"2008\"}, {\"data\": [{\"coloraxis\": \"coloraxis\", \"geo\": \"geo\", \"hoverlabel\": {\"namelength\": 0}, \"hovertemplate\": \"year=2009<br>State Occurred=%{location}<br>total area burned (acres)=%{z}\", \"ids\": [\"WY\", \"MT\", \"ND\", \"AK\", \"CO\", \"AZ\", \"TN\", \"WA\", \"NM\", \"NV\", \"TX\", \"UT\", \"CA\", \"ID\", \"OR\", \"FL\", \"MI\", \"SC\", \"NC\", \"GA\"], \"locationmode\": \"USA-states\", \"locations\": [\"WY\", \"MT\", \"ND\", \"AK\", \"CO\", \"AZ\", \"TN\", \"WA\", \"NM\", \"NV\", \"TX\", \"UT\", \"CA\", \"ID\", \"OR\", \"FL\", \"MI\", \"SC\", \"NC\", \"GA\"], \"name\": \"\", \"z\": [19756.399998609995, 19594.255243890002, 1066.15136523, 2964811.6879023905, 22919.709925559997, 143285.57229373, 253.70979501, 75933.28753952999, 294814.72775347, 29087.59725507, 155685.21892881, 102664.51544345001, 420020.5491705399, 20384.963007749997, 89174.44671401, 34239.85375081, 811.02392872, 20330.47131967, 1287.2265573, 1720.84343763], \"type\": \"choropleth\"}], \"name\": \"2009\"}, {\"data\": [{\"coloraxis\": \"coloraxis\", \"geo\": \"geo\", \"hoverlabel\": {\"namelength\": 0}, \"hovertemplate\": \"year=2010<br>State Occurred=%{location}<br>total area burned (acres)=%{z}\", \"ids\": [\"VA\", \"WY\", \"PA\", \"LA\", \"KY\", \"NY\", \"CO\", \"NM\", \"OR\", \"UT\", \"MN\", \"SC\", \"SD\", \"ID\", \"MT\", \"NV\", \"NC\", \"FL\", \"OK\", \"AR\", \"CA\", \"AK\", \"TX\", \"AL\", \"ND\", \"MI\", \"WA\", \"AZ\", \"MS\"], \"locationmode\": \"USA-states\", \"locations\": [\"VA\", \"WY\", \"PA\", \"LA\", \"KY\", \"NY\", \"CO\", \"NM\", \"OR\", \"UT\", \"MN\", \"SC\", \"SD\", \"ID\", \"MT\", \"NV\", \"NC\", \"FL\", \"OK\", \"AR\", \"CA\", \"AK\", \"TX\", \"AL\", \"ND\", \"MI\", \"WA\", \"AZ\", \"MS\"], \"name\": \"\", \"z\": [546.7108658, 58547.29497495999, 4.5184578, 7274.002297630001, 368.24691344, 143.6814294, 35210.10976428, 71257.37035869999, 82379.84777220999, 58852.99289776, 235.73586286, 21.313505810000002, 47.51924034, 629237.5424284302, 36736.563922179994, 20952.36810618, 153.74854589, 5956.951234910001, 2260.39349312, 443.9215026, 102075.51908526, 1270653.4473023599, 18383.92851156, 731.11594771, 298.96281342, 8608.39594522, 68060.03244096, 69329.89524135001, 145.55800335], \"type\": \"choropleth\"}], \"name\": \"2010\"}, {\"data\": [{\"coloraxis\": \"coloraxis\", \"geo\": \"geo\", \"hoverlabel\": {\"namelength\": 0}, \"hovertemplate\": \"year=2011<br>State Occurred=%{location}<br>total area burned (acres)=%{z}\", \"ids\": [\"TN\", \"NV\", \"WA\", \"NM\", \"OK\", \"OR\", \"LA\", \"MI\", \"HI\", \"AR\", \"KY\", \"NC\", \"UT\", \"GA\", \"CO\", \"WY\", \"SD\", \"IF\", \"MN\", \"AL\", \"VA\", \"MT\", \"AZ\", \"ND\", \"ID\", \"CA\", \"AK\", \"MS\", \"FL\", \"TX\", \"SC\"], \"locationmode\": \"USA-states\", \"locations\": [\"TN\", \"NV\", \"WA\", \"NM\", \"OK\", \"OR\", \"LA\", \"MI\", \"HI\", \"AR\", \"KY\", \"NC\", \"UT\", \"GA\", \"CO\", \"WY\", \"SD\", \"IF\", \"MN\", \"AL\", \"VA\", \"MT\", \"AZ\", \"ND\", \"ID\", \"CA\", \"AK\", \"MS\", \"FL\", \"TX\", \"SC\"], \"name\": \"\", \"z\": [286.23667165, 426723.09832861007, 22520.530803600002, 791140.1100497901, 44512.12766586, 324196.43869299995, 21041.699767230002, 818.04302403, 2075.76991707, 628.20924879, 79.7075019, 92085.50161930002, 48865.86326575, 400220.09935403994, 105784.77314601999, 118319.12993347997, 25848.68105129, 305.70237528, 123425.49713056, 1241.0402784399998, 10355.38530306, 124300.55346119, 1011469.4507988099, 0.02082527, 387540.86722893995, 223081.91303221998, 298648.30364489, 762.1570730799999, 100275.36659694, 2887650.8955402817, 1231.39562085], \"type\": \"choropleth\"}], \"name\": \"2011\"}, {\"data\": [{\"coloraxis\": \"coloraxis\", \"geo\": \"geo\", \"hoverlabel\": {\"namelength\": 0}, \"hovertemplate\": \"year=2012<br>State Occurred=%{location}<br>total area burned (acres)=%{z}\", \"ids\": [\"LA\", \"WY\", \"TX\", \"OK\", \"AR\", \"AK\", \"MT\", \"WV\", \"MS\", \"AL\", \"NC\", \"NE\", \"TN\", \"OR\", \"ID\", \"KY\", \"AZ\", \"WA\", \"SD\", \"FL\", \"NV\", \"MI\", \"NM\", \"MO\", \"CA\", \"UT\", \"VA\", \"CO\", \"ND\", \"MN\"], \"locationmode\": \"USA-states\", \"locations\": [\"LA\", \"WY\", \"TX\", \"OK\", \"AR\", \"AK\", \"MT\", \"WV\", \"MS\", \"AL\", \"NC\", \"NE\", \"TN\", \"OR\", \"ID\", \"KY\", \"AZ\", \"WA\", \"SD\", \"FL\", \"NV\", \"MI\", \"NM\", \"MO\", \"CA\", \"UT\", \"VA\", \"CO\", \"ND\", \"MN\"], \"name\": \"\", \"z\": [3242.17334201, 449662.59035133006, 24407.14354467, 71794.05282643999, 989.53929293, 297315.19227065006, 981028.07112543, 95.27004632, 237.38996524, 2287.4668118100003, 148.51088737999999, 240308.67242486, 32.53291611, 1067034.87503111, 1869299.2035439296, 616.8119677300001, 177551.39266891003, 384828.2566494701, 116873.74192278, 53209.49404054, 730060.0426220301, 21923.16869882, 364811.04238831997, 2236.2467427700003, 868456.1216760103, 414912.1843967099, 43636.36419528001, 195915.33464347007, 542.0062716, 40031.61022323999], \"type\": \"choropleth\"}], \"name\": \"2012\"}, {\"data\": [{\"coloraxis\": \"coloraxis\", \"geo\": \"geo\", \"hoverlabel\": {\"namelength\": 0}, \"hovertemplate\": \"year=2013<br>State Occurred=%{location}<br>total area burned (acres)=%{z}\", \"ids\": [\"AK\", \"MN\", \"PR\", \"NV\", \"CO\", \"AZ\", \"AR\", \"MT\", \"ND\", \"CA\", \"NM\", \"AL\", \"FL\", \"UT\", \"ID\", \"OK\", \"OR\", \"NC\", \"VA\", \"TN\", \"KY\", \"VT\", \"WV\", \"HL\", \"WY\", \"TX\", \"WA\", \"LA\"], \"locationmode\": \"USA-states\", \"locations\": [\"AK\", \"MN\", \"PR\", \"NV\", \"CO\", \"AZ\", \"AR\", \"MT\", \"ND\", \"CA\", \"NM\", \"AL\", \"FL\", \"UT\", \"ID\", \"OK\", \"OR\", \"NC\", \"VA\", \"TN\", \"KY\", \"VT\", \"WV\", \"HL\", \"WY\", \"TX\", \"WA\", \"LA\"], \"name\": \"\", \"z\": [1321447.03934969, 13738.51563749, 1424.05091886, 126668.46177998003, 151591.23406439004, 77123.05911386998, 781.98372568, 108172.11157881997, 16589.99627398, 555073.2738088898, 185253.21159045002, 989.08524762, 29523.212628630004, 78956.48095843999, 699377.5833891196, 116.24283829000001, 367228.3204151901, 2938.99758954, 1953.24099828, 317.48467455, 28.12983986, 14.40479044, 1610.38101343, 12.39398134, 43110.88243279001, 6478.27560057, 149425.51046453, 11722.31695723], \"type\": \"choropleth\"}], \"name\": \"2013\"}, {\"data\": [{\"coloraxis\": \"coloraxis\", \"geo\": \"geo\", \"hoverlabel\": {\"namelength\": 0}, \"hovertemplate\": \"year=2014<br>State Occurred=%{location}<br>total area burned (acres)=%{z}\", \"ids\": [\"AK\", \"WY\", \"CO\", \"ID\", \"FL\", \"AR\", \"WA\", \"NM\", \"AS\", \"WI\", \"VA\", \"GA\", \"WV\", \"NC\", \"MS\", \"LA\", \"SC\", \"NV\", \"AZ\", \"AL\", \"MT\", \"OK\", \"NE\", \"UT\", \"KY\", \"TX\", \"OR\", \"TN\", \"CA\", \"NY\", \"KS\", \"PR\"], \"locationmode\": \"USA-states\", \"locations\": [\"AK\", \"WY\", \"CO\", \"ID\", \"FL\", \"AR\", \"WA\", \"NM\", \"AS\", \"WI\", \"VA\", \"GA\", \"WV\", \"NC\", \"MS\", \"LA\", \"SC\", \"NV\", \"AZ\", \"AL\", \"MT\", \"OK\", \"NE\", \"UT\", \"KY\", \"TX\", \"OR\", \"TN\", \"CA\", \"NY\", \"KS\", \"PR\"], \"name\": \"\", \"z\": [286437.30861100997, 3918.77050159, 21820.697759569997, 178592.06422305002, 10074.663312249999, 3705.0262052100006, 525080.39255107, 14420.1178754, 3842.11537272, 0.05959606, 579.5217506, 214.01311201, 128.88689042, 550.01703871, 546.59039183, 29607.202088109996, 407.17098489, 46857.53641208, 191564.13837952004, 2081.9814639100005, 23070.917000420006, 292.03665033, 139.95481116, 15618.445359410001, 904.09339276, 2523.5364431099997, 1402396.8993400198, 1249.75659473, 770943.6486262301, 39.64194938, 767.99072545, 66.92588907], \"type\": \"choropleth\"}], \"name\": \"2014\"}, {\"data\": [{\"coloraxis\": \"coloraxis\", \"geo\": \"geo\", \"hoverlabel\": {\"namelength\": 0}, \"hovertemplate\": \"year=2015<br>State Occurred=%{location}<br>total area burned (acres)=%{z}\", \"ids\": [\"NV\", \"SD\", \"OH\", \"ID\", \"KY\", \"VA\", \"WY\", \"VT\", \"NC\", \"GA\", \"MT\", \"MI\", \"ND\", \"UT\", \"WI\", \"OR\", \"PA\", \"CA\", \"AK\", \"HI\", \"MO\", \"AZ\", \"AL\", \"FL\", \"LA\", \"NM\", \"TX\", \"WA\", \"MN\", \"CO\", \"AR\"], \"locationmode\": \"USA-states\", \"locations\": [\"NV\", \"SD\", \"OH\", \"ID\", \"KY\", \"VA\", \"WY\", \"VT\", \"NC\", \"GA\", \"MT\", \"MI\", \"ND\", \"UT\", \"WI\", \"OR\", \"PA\", \"CA\", \"AK\", \"HI\", \"MO\", \"AZ\", \"AL\", \"FL\", \"LA\", \"NM\", \"TX\", \"WA\", \"MN\", \"CO\", \"AR\"], \"name\": \"\", \"z\": [41367.422075290015, 5444.58474388, 153.32566646, 988938.6939494902, 281.99558937, 673.26831767, 22475.562749059995, 2.93065018, 3474.70889832, 580.62519201, 381896.32574906014, 471.6930774, 3309.51493373, 5541.828629019999, 142.73215734, 941794.86577926, 59.27089783, 931066.0597259701, 5286720.966853367, 4283.52231276, 3551.03690644, 147738.39005244, 2695.33922556, 53888.93486918, 1316.07117621, 31813.449214919998, 9724.48394567, 1694891.9062586997, 6071.43182907, 5422.877829070001, 1355.4274371], \"type\": \"choropleth\"}], \"name\": \"2015\"}, {\"data\": [{\"coloraxis\": \"coloraxis\", \"geo\": \"geo\", \"hoverlabel\": {\"namelength\": 0}, \"hovertemplate\": \"year=2016<br>State Occurred=%{location}<br>total area burned (acres)=%{z}\", \"ids\": [\"MI\", \"VA\", \"UT\", \"FL\", \"WY\", \"NM\", \"OK\", \"MS\", \"SD\", \"WV\", \"SC\", \"CT\", \"TX\", \"CA\", \"KY\", \"OR\", \"NV\", \"NH\", \"PA\", \"LA\", \"AK\", \"MN\", \"KS\", \"ID\", \"NC\", \"AL\", \"CO\", \"TN\", \"MT\", \"MO\", \"AR\", \"NY\", \"GA\", \"AZ\", \"WA\"], \"locationmode\": \"USA-states\", \"locations\": [\"MI\", \"VA\", \"UT\", \"FL\", \"WY\", \"NM\", \"OK\", \"MS\", \"SD\", \"WV\", \"SC\", \"CT\", \"TX\", \"CA\", \"KY\", \"OR\", \"NV\", \"NH\", \"PA\", \"LA\", \"AK\", \"MN\", \"KS\", \"ID\", \"NC\", \"AL\", \"CO\", \"TN\", \"MT\", \"MO\", \"AR\", \"NY\", \"GA\", \"AZ\", \"WA\"], \"name\": \"\", \"z\": [66.84388313, 24981.71853617, 90215.87195814001, 17295.66348912, 212421.40083430996, 109347.99870386, 70.27842885, 4428.948606919999, 23406.703426099997, 248.25046985, 11212.37212825, 13.18449887, 20387.73094734, 525517.9640707899, 7211.96100871, 194245.25595303997, 255025.41865834, 329.13454767, 8030.44306478, 6730.35052774, 501977.62654925976, 1657.68817887, 701.64393021, 358134.48103991, 83484.53111620998, 6908.993796589999, 93359.84498674, 54861.802600380004, 62417.97296074, 266.96352624, 9598.275478879998, 42.66675209, 60673.69507677998, 254504.27252111005, 296915.87474398], \"type\": \"choropleth\"}], \"name\": \"2016\"}, {\"data\": [{\"coloraxis\": \"coloraxis\", \"geo\": \"geo\", \"hoverlabel\": {\"namelength\": 0}, \"hovertemplate\": \"year=2017<br>State Occurred=%{location}<br>total area burned (acres)=%{z}\", \"ids\": [\"KS\", \"WA\", \"OK\", \"SD\", \"CO\", \"NY\", \"ND\", \"WV\", \"AL\", \"ID\", \"GA\", \"CA\", \"OR\", \"FL\", \"WY\", \"UT\", \"WI\", \"NH\", \"AK\", \"AZ\", \"AR\", \"TX\", \"IL\", \"NV\", \"KY\", \"MT\", \"NC\", \"LA\", \"VA\", \"NM\"], \"locationmode\": \"USA-states\", \"locations\": [\"KS\", \"WA\", \"OK\", \"SD\", \"CO\", \"NY\", \"ND\", \"WV\", \"AL\", \"ID\", \"GA\", \"CA\", \"OR\", \"FL\", \"WY\", \"UT\", \"WI\", \"NH\", \"AK\", \"AZ\", \"AR\", \"TX\", \"IL\", \"NV\", \"KY\", \"MT\", \"NC\", \"LA\", \"VA\", \"NM\"], \"name\": \"\", \"z\": [5383.21364066, 402876.9178360299, 779586.9402634399, 62338.423315769985, 59094.651828009984, 0.17508252, 4906.76271009, 197.57817453, 498.69292776, 628612.4213963905, 356.58306601, 1615570.6127104713, 714805.3088981298, 237647.53577842, 32913.09120392, 184093.35265994002, 99.56695296, 65.84073962, 652588.5625461397, 387854.3352009901, 4237.21083744, 10590.34446462, 47.07656024, 1040144.0338316002, 1869.29582996, 1400006.0862840095, 6264.39386813, 22.59479087, 3053.78029772, 106314.53983936999], \"type\": \"choropleth\"}], \"name\": \"2017\"}, {\"data\": [{\"coloraxis\": \"coloraxis\", \"geo\": \"geo\", \"hoverlabel\": {\"namelength\": 0}, \"hovertemplate\": \"year=2018<br>State Occurred=%{location}<br>total area burned (acres)=%{z}\", \"ids\": [\"SD\", \"FL\", \"OR\", \"AK\", \"TX\", \"OK\", \"SC\", \"WA\", \"AL\", \"NC\", \"CA\", \"MN\", \"CO\", \"WY\", \"NV\", \"UT\", \"ID\", \"NY\", \"VA\", \"AZ\", \"LA\", \"NM\", \"MI\", \"HI\", \"WV\", \"AR\", \"MT\"], \"locationmode\": \"USA-states\", \"locations\": [\"SD\", \"FL\", \"OR\", \"AK\", \"TX\", \"OK\", \"SC\", \"WA\", \"AL\", \"NC\", \"CA\", \"MN\", \"CO\", \"WY\", \"NV\", \"UT\", \"ID\", \"NY\", \"VA\", \"AZ\", \"LA\", \"NM\", \"MI\", \"HI\", \"WV\", \"AR\", \"MT\"], \"name\": \"\", \"z\": [30.441475670000003, 94696.67861641999, 811254.6862884002, 410937.90648127993, 228172.36849030998, 350970.69357415, 2349.6636503008262, 423828.1078960698, 58.90229714, 46.09703602, 1585080.073168855, 1347.6690559200001, 460350.46380534, 209138.70797633994, 1051444.1858522205, 343589.18338603, 575396.11405935, 0.63630418, 3354.65473827, 142082.91015989997, 127.21344234, 251924.13096663996, 75.60630025, 3720.19937523, 427.73830216, 2735.7697889600004, 89260.78684371998], \"type\": \"choropleth\"}], \"name\": \"2018\"}, {\"data\": [{\"coloraxis\": \"coloraxis\", \"geo\": \"geo\", \"hoverlabel\": {\"namelength\": 0}, \"hovertemplate\": \"year=2019<br>State Occurred=%{location}<br>total area burned (acres)=%{z}\", \"ids\": [\"CA\", \"OK\", \"TX\"], \"locationmode\": \"USA-states\", \"locations\": [\"CA\", \"OK\", \"TX\"], \"name\": \"\", \"z\": [42.2824011427289, 11.1249207256351, 0.384916101758091], \"type\": \"choropleth\"}], \"name\": \"2019\"}, {\"data\": [{\"coloraxis\": \"coloraxis\", \"geo\": \"geo\", \"hoverlabel\": {\"namelength\": 0}, \"hovertemplate\": \"year=2020<br>State Occurred=%{location}<br>total area burned (acres)=%{z}\", \"ids\": [\"NH\", \"IL\", \"NY\", \"AZ\", \"OH\", \"OK\", \"UT\", \"NC\", \"TX\", \"FL\", \"LA\", \"GA\", \"ND\", \"CO\", \"NM\", \"VA\", \"AR\", \"ME\", \"NV\", \"MT\", \"MI\", \"MN\", \"KS\", \"NE\", \"WA\", \"CA\", \"SC\", \"AL\", \"MO\", \"VT\", \"PA\", \"HI\", \"WI\", \"MS\", \"WY\", \"MA\", \"IN\", \"AK\", \"TN\", \"SD\", \"ID\", \"IA\", \"KY\", \"OR\"], \"locationmode\": \"USA-states\", \"locations\": [\"NH\", \"IL\", \"NY\", \"AZ\", \"OH\", \"OK\", \"UT\", \"NC\", \"TX\", \"FL\", \"LA\", \"GA\", \"ND\", \"CO\", \"NM\", \"VA\", \"AR\", \"ME\", \"NV\", \"MT\", \"MI\", \"MN\", \"KS\", \"NE\", \"WA\", \"CA\", \"SC\", \"AL\", \"MO\", \"VT\", \"PA\", \"HI\", \"WI\", \"MS\", \"WY\", \"MA\", \"IN\", \"AK\", \"TN\", \"SD\", \"ID\", \"IA\", \"KY\", \"OR\"], \"name\": \"\", \"z\": [3.6808798107091505, 202.74265111527245, 35.561328598818854, 757849.456719039, 212.12109471096656, 13058.629256407912, 290246.4681606437, 3524.9634703531406, 5707.220644142311, 70790.54562485222, 2556.2082718212646, 433.55018782792496, 1190.3907915279472, 637321.3383225247, 90665.35857392417, 237.75761028213037, 692.5161640394484, 109.21965277801925, 217225.50098553754, 245097.89921323725, 98.2336430132892, 4147.052807165741, 133.981709868134, 817.3622959879942, 800572.48632533, 2167991.463633954, 3.61613597125235, 724.4817680683623, 4357.74719615756, 1.71349934800994, 8.63247541975328, 21.56573977591977, 233.936431160282, 13150.437585405438, 275308.24538199994, 0.3538963515825049, 158.6874399473679, 165801.61479870853, 80.8712488155944, 8046.13188944009, 298446.3485498255, 258.8748881586701, 305.08155196661494, 1048820.7086617171], \"type\": \"choropleth\"}], \"name\": \"2020\"}, {\"data\": [{\"coloraxis\": \"coloraxis\", \"geo\": \"geo\", \"hoverlabel\": {\"namelength\": 0}, \"hovertemplate\": \"year=2021<br>State Occurred=%{location}<br>total area burned (acres)=%{z}\", \"ids\": [\"CO\", \"UT\", \"ND\", \"IL\", \"WV\", \"KS\", \"MO\", \"AR\", \"IN\", \"VA\", \"TX\", \"OK\", \"MS\", \"NM\", \"VT\", \"SD\", \"OH\", \"AL\", \"MT\", \"AK\", \"TN\", \"GA\", \"NC\", \"AZ\", \"MN\", \"WA\", \"NV\", \"FL\", \"ID\", \"PA\", \"KY\", \"ME\", \"SC\", \"CA\", \"NJ\", \"WI\", \"NE\", \"MI\", \"LA\", \"OR\", \"WY\", \"CH\", \"HI\"], \"locationmode\": \"USA-states\", \"locations\": [\"CO\", \"UT\", \"ND\", \"IL\", \"WV\", \"KS\", \"MO\", \"AR\", \"IN\", \"VA\", \"TX\", \"OK\", \"MS\", \"NM\", \"VT\", \"SD\", \"OH\", \"AL\", \"MT\", \"AK\", \"TN\", \"GA\", \"NC\", \"AZ\", \"MN\", \"WA\", \"NV\", \"FL\", \"ID\", \"PA\", \"KY\", \"ME\", \"SC\", \"CA\", \"NJ\", \"WI\", \"NE\", \"MI\", \"LA\", \"OR\", \"WY\", \"CH\", \"HI\"], \"name\": \"\", \"z\": [40315.613169909855, 63616.75560357762, 40974.118922329326, 141.76149458893087, 33.32981129880022, 11147.524071909496, 7685.067726888275, 1239.673406242372, 9.783194158282903, 66.34619326999581, 52456.62745732823, 47385.190822439334, 7761.825287349344, 116704.19723663393, 0.426583203938791, 25513.226689072042, 78.39681245663938, 1474.806395926925, 652394.6531121966, 199951.25964104128, 470.75650493782655, 158.9546429793286, 504.4616455258369, 586838.7206020862, 55027.72683378513, 473637.16732387326, 61712.311258871065, 34955.89496983224, 269879.0758656152, 12.788319716977682, 629.8120370505012, 295.5922113510078, 1186.1821133571934, 2292330.2076208657, 0.300317900455422, 0.355330258766366, 11980.735591342202, 6247.328827996939, 3861.2007872343784, 625110.3710134634, 29045.665422347658, 8.51815441321969, 0.0041409668846374], \"type\": \"choropleth\"}], \"name\": \"2021\"}]);\n",
              "                        }).then(function(){\n",
              "                            \n",
              "var gd = document.getElementById('a994b3b7-48d4-4abe-ab37-ee1e734998ea');\n",
              "var x = new MutationObserver(function (mutations, observer) {{\n",
              "        var display = window.getComputedStyle(gd).display;\n",
              "        if (!display || display === 'none') {{\n",
              "            console.log([gd, 'removed!']);\n",
              "            Plotly.purge(gd);\n",
              "            observer.disconnect();\n",
              "        }}\n",
              "}});\n",
              "\n",
              "// Listen for the removal of the full notebook cells\n",
              "var notebookContainer = gd.closest('#notebook-container');\n",
              "if (notebookContainer) {{\n",
              "    x.observe(notebookContainer, {childList: true});\n",
              "}}\n",
              "\n",
              "// Listen for the clearing of the current output cell\n",
              "var outputEl = gd.closest('.output');\n",
              "if (outputEl) {{\n",
              "    x.observe(outputEl, {childList: true});\n",
              "}}\n",
              "\n",
              "                        })\n",
              "                };\n",
              "                \n",
              "            </script>\n",
              "        </div>\n",
              "</body>\n",
              "</html>"
            ]
          },
          "metadata": {}
        }
      ]
    },
    {
      "cell_type": "markdown",
      "metadata": {
        "id": "7_GQoOhrL38P"
      },
      "source": [
        "**Findings**: Until 2005, damage was almost exclusively reported on the west coast.From 2010 onwards, most of the states had at least some reported damage. Although Alaska has the most damage overall, the area burned in the state has lessened recently. Although the total area burned has remained inconsistent throughout the years, it has been more evenly distributed throughout the United States. It should be noted that a lack of data from 2019 may affect the trends."
      ]
    }
  ]
}